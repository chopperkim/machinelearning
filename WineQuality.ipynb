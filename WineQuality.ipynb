{
 "cells": [
  {
   "cell_type": "code",
   "execution_count": 83,
   "outputs": [
    {
     "data": {
      "text/plain": "   fixed acidity  volatile acidity  citric acid  residual sugar  chlorides  \\\n0            7.4              0.70         0.00             1.9      0.076   \n1            7.8              0.88         0.00             2.6      0.098   \n2            7.8              0.76         0.04             2.3      0.092   \n3           11.2              0.28         0.56             1.9      0.075   \n4            7.4              0.70         0.00             1.9      0.076   \n\n   free sulfur dioxide  total sulfur dioxide  density    pH  sulphates  \\\n0                 11.0                  34.0   0.9978  3.51       0.56   \n1                 25.0                  67.0   0.9968  3.20       0.68   \n2                 15.0                  54.0   0.9970  3.26       0.65   \n3                 17.0                  60.0   0.9980  3.16       0.58   \n4                 11.0                  34.0   0.9978  3.51       0.56   \n\n   alcohol  quality  \n0      9.4        5  \n1      9.8        5  \n2      9.8        5  \n3      9.8        6  \n4      9.4        5  ",
      "text/html": "<div>\n<style scoped>\n    .dataframe tbody tr th:only-of-type {\n        vertical-align: middle;\n    }\n\n    .dataframe tbody tr th {\n        vertical-align: top;\n    }\n\n    .dataframe thead th {\n        text-align: right;\n    }\n</style>\n<table border=\"1\" class=\"dataframe\">\n  <thead>\n    <tr style=\"text-align: right;\">\n      <th></th>\n      <th>fixed acidity</th>\n      <th>volatile acidity</th>\n      <th>citric acid</th>\n      <th>residual sugar</th>\n      <th>chlorides</th>\n      <th>free sulfur dioxide</th>\n      <th>total sulfur dioxide</th>\n      <th>density</th>\n      <th>pH</th>\n      <th>sulphates</th>\n      <th>alcohol</th>\n      <th>quality</th>\n    </tr>\n  </thead>\n  <tbody>\n    <tr>\n      <th>0</th>\n      <td>7.4</td>\n      <td>0.70</td>\n      <td>0.00</td>\n      <td>1.9</td>\n      <td>0.076</td>\n      <td>11.0</td>\n      <td>34.0</td>\n      <td>0.9978</td>\n      <td>3.51</td>\n      <td>0.56</td>\n      <td>9.4</td>\n      <td>5</td>\n    </tr>\n    <tr>\n      <th>1</th>\n      <td>7.8</td>\n      <td>0.88</td>\n      <td>0.00</td>\n      <td>2.6</td>\n      <td>0.098</td>\n      <td>25.0</td>\n      <td>67.0</td>\n      <td>0.9968</td>\n      <td>3.20</td>\n      <td>0.68</td>\n      <td>9.8</td>\n      <td>5</td>\n    </tr>\n    <tr>\n      <th>2</th>\n      <td>7.8</td>\n      <td>0.76</td>\n      <td>0.04</td>\n      <td>2.3</td>\n      <td>0.092</td>\n      <td>15.0</td>\n      <td>54.0</td>\n      <td>0.9970</td>\n      <td>3.26</td>\n      <td>0.65</td>\n      <td>9.8</td>\n      <td>5</td>\n    </tr>\n    <tr>\n      <th>3</th>\n      <td>11.2</td>\n      <td>0.28</td>\n      <td>0.56</td>\n      <td>1.9</td>\n      <td>0.075</td>\n      <td>17.0</td>\n      <td>60.0</td>\n      <td>0.9980</td>\n      <td>3.16</td>\n      <td>0.58</td>\n      <td>9.8</td>\n      <td>6</td>\n    </tr>\n    <tr>\n      <th>4</th>\n      <td>7.4</td>\n      <td>0.70</td>\n      <td>0.00</td>\n      <td>1.9</td>\n      <td>0.076</td>\n      <td>11.0</td>\n      <td>34.0</td>\n      <td>0.9978</td>\n      <td>3.51</td>\n      <td>0.56</td>\n      <td>9.4</td>\n      <td>5</td>\n    </tr>\n  </tbody>\n</table>\n</div>"
     },
     "execution_count": 83,
     "metadata": {},
     "output_type": "execute_result"
    }
   ],
   "source": [
    "import numpy as np\n",
    "import pandas as pd\n",
    "import matplotlib.pyplot as plt\n",
    "%matplotlib inline\n",
    "\n",
    "## Data IMport\n",
    "df = pd.read_csv('data/winequality_red.csv', sep=\";\")\n",
    "df.head(5)\n",
    "\n"
   ],
   "metadata": {
    "collapsed": false,
    "pycharm": {
     "name": "#%%\n"
    }
   }
  },
  {
   "cell_type": "code",
   "execution_count": 84,
   "outputs": [
    {
     "data": {
      "text/plain": "   fixed acidity  volatile acidity  citric acid  residual sugar  chlorides  \\\n0            7.4              0.70         0.00             1.9      0.076   \n1            7.8              0.88         0.00             2.6      0.098   \n2            7.8              0.76         0.04             2.3      0.092   \n3           11.2              0.28         0.56             1.9      0.075   \n4            7.4              0.70         0.00             1.9      0.076   \n\n   free sulfur dioxide  total sulfur dioxide  density    pH  sulphates  \\\n0                 11.0                  34.0   0.9978  3.51       0.56   \n1                 25.0                  67.0   0.9968  3.20       0.68   \n2                 15.0                  54.0   0.9970  3.26       0.65   \n3                 17.0                  60.0   0.9980  3.16       0.58   \n4                 11.0                  34.0   0.9978  3.51       0.56   \n\n   alcohol  quality  \n0      9.4        5  \n1      9.8        5  \n2      9.8        5  \n3      9.8        6  \n4      9.4        5  ",
      "text/html": "<div>\n<style scoped>\n    .dataframe tbody tr th:only-of-type {\n        vertical-align: middle;\n    }\n\n    .dataframe tbody tr th {\n        vertical-align: top;\n    }\n\n    .dataframe thead th {\n        text-align: right;\n    }\n</style>\n<table border=\"1\" class=\"dataframe\">\n  <thead>\n    <tr style=\"text-align: right;\">\n      <th></th>\n      <th>fixed acidity</th>\n      <th>volatile acidity</th>\n      <th>citric acid</th>\n      <th>residual sugar</th>\n      <th>chlorides</th>\n      <th>free sulfur dioxide</th>\n      <th>total sulfur dioxide</th>\n      <th>density</th>\n      <th>pH</th>\n      <th>sulphates</th>\n      <th>alcohol</th>\n      <th>quality</th>\n    </tr>\n  </thead>\n  <tbody>\n    <tr>\n      <th>0</th>\n      <td>7.4</td>\n      <td>0.70</td>\n      <td>0.00</td>\n      <td>1.9</td>\n      <td>0.076</td>\n      <td>11.0</td>\n      <td>34.0</td>\n      <td>0.9978</td>\n      <td>3.51</td>\n      <td>0.56</td>\n      <td>9.4</td>\n      <td>5</td>\n    </tr>\n    <tr>\n      <th>1</th>\n      <td>7.8</td>\n      <td>0.88</td>\n      <td>0.00</td>\n      <td>2.6</td>\n      <td>0.098</td>\n      <td>25.0</td>\n      <td>67.0</td>\n      <td>0.9968</td>\n      <td>3.20</td>\n      <td>0.68</td>\n      <td>9.8</td>\n      <td>5</td>\n    </tr>\n    <tr>\n      <th>2</th>\n      <td>7.8</td>\n      <td>0.76</td>\n      <td>0.04</td>\n      <td>2.3</td>\n      <td>0.092</td>\n      <td>15.0</td>\n      <td>54.0</td>\n      <td>0.9970</td>\n      <td>3.26</td>\n      <td>0.65</td>\n      <td>9.8</td>\n      <td>5</td>\n    </tr>\n    <tr>\n      <th>3</th>\n      <td>11.2</td>\n      <td>0.28</td>\n      <td>0.56</td>\n      <td>1.9</td>\n      <td>0.075</td>\n      <td>17.0</td>\n      <td>60.0</td>\n      <td>0.9980</td>\n      <td>3.16</td>\n      <td>0.58</td>\n      <td>9.8</td>\n      <td>6</td>\n    </tr>\n    <tr>\n      <th>4</th>\n      <td>7.4</td>\n      <td>0.70</td>\n      <td>0.00</td>\n      <td>1.9</td>\n      <td>0.076</td>\n      <td>11.0</td>\n      <td>34.0</td>\n      <td>0.9978</td>\n      <td>3.51</td>\n      <td>0.56</td>\n      <td>9.4</td>\n      <td>5</td>\n    </tr>\n  </tbody>\n</table>\n</div>"
     },
     "execution_count": 84,
     "metadata": {},
     "output_type": "execute_result"
    }
   ],
   "source": [
    "# del df['quality']\n",
    "df.head(5)"
   ],
   "metadata": {
    "collapsed": false,
    "pycharm": {
     "name": "#%%\n"
    }
   }
  },
  {
   "cell_type": "code",
   "execution_count": 85,
   "outputs": [
    {
     "name": "stdout",
     "output_type": "stream",
     "text": [
      "                      fixed acidity  volatile acidity  citric acid  \\\n",
      "fixed acidity              1.000000         -0.256131     0.671703   \n",
      "volatile acidity          -0.256131          1.000000    -0.552496   \n",
      "citric acid                0.671703         -0.552496     1.000000   \n",
      "residual sugar             0.114777          0.001918     0.143577   \n",
      "chlorides                  0.093705          0.061298     0.203823   \n",
      "free sulfur dioxide       -0.153794         -0.010504    -0.060978   \n",
      "total sulfur dioxide      -0.113181          0.076470     0.035533   \n",
      "density                    0.668047          0.022026     0.364947   \n",
      "pH                        -0.682978          0.234937    -0.541904   \n",
      "sulphates                  0.183006         -0.260987     0.312770   \n",
      "alcohol                   -0.061668         -0.202288     0.109903   \n",
      "quality                    0.124052         -0.390558     0.226373   \n",
      "\n",
      "                      residual sugar  chlorides  free sulfur dioxide  \\\n",
      "fixed acidity               0.114777   0.093705            -0.153794   \n",
      "volatile acidity            0.001918   0.061298            -0.010504   \n",
      "citric acid                 0.143577   0.203823            -0.060978   \n",
      "residual sugar              1.000000   0.055610             0.187049   \n",
      "chlorides                   0.055610   1.000000             0.005562   \n",
      "free sulfur dioxide         0.187049   0.005562             1.000000   \n",
      "total sulfur dioxide        0.203028   0.047400             0.667666   \n",
      "density                     0.355283   0.200632            -0.021946   \n",
      "pH                         -0.085652  -0.265026             0.070377   \n",
      "sulphates                   0.005527   0.371260             0.051658   \n",
      "alcohol                     0.042075  -0.221141            -0.069408   \n",
      "quality                     0.013732  -0.128907            -0.050656   \n",
      "\n",
      "                      total sulfur dioxide   density        pH  sulphates  \\\n",
      "fixed acidity                    -0.113181  0.668047 -0.682978   0.183006   \n",
      "volatile acidity                  0.076470  0.022026  0.234937  -0.260987   \n",
      "citric acid                       0.035533  0.364947 -0.541904   0.312770   \n",
      "residual sugar                    0.203028  0.355283 -0.085652   0.005527   \n",
      "chlorides                         0.047400  0.200632 -0.265026   0.371260   \n",
      "free sulfur dioxide               0.667666 -0.021946  0.070377   0.051658   \n",
      "total sulfur dioxide              1.000000  0.071269 -0.066495   0.042947   \n",
      "density                           0.071269  1.000000 -0.341699   0.148506   \n",
      "pH                               -0.066495 -0.341699  1.000000  -0.196648   \n",
      "sulphates                         0.042947  0.148506 -0.196648   1.000000   \n",
      "alcohol                          -0.205654 -0.496180  0.205633   0.093595   \n",
      "quality                          -0.185100 -0.174919 -0.057731   0.251397   \n",
      "\n",
      "                       alcohol   quality  \n",
      "fixed acidity        -0.061668  0.124052  \n",
      "volatile acidity     -0.202288 -0.390558  \n",
      "citric acid           0.109903  0.226373  \n",
      "residual sugar        0.042075  0.013732  \n",
      "chlorides            -0.221141 -0.128907  \n",
      "free sulfur dioxide  -0.069408 -0.050656  \n",
      "total sulfur dioxide -0.205654 -0.185100  \n",
      "density              -0.496180 -0.174919  \n",
      "pH                    0.205633 -0.057731  \n",
      "sulphates             0.093595  0.251397  \n",
      "alcohol               1.000000  0.476166  \n",
      "quality               0.476166  1.000000  \n",
      "fixed acidity           float64\n",
      "volatile acidity        float64\n",
      "citric acid             float64\n",
      "residual sugar          float64\n",
      "chlorides               float64\n",
      "free sulfur dioxide     float64\n",
      "total sulfur dioxide    float64\n",
      "density                 float64\n",
      "pH                      float64\n",
      "sulphates               float64\n",
      "alcohol                 float64\n",
      "quality                   int64\n",
      "dtype: object\n",
      "(1599, 12)\n"
     ]
    }
   ],
   "source": [
    "## Remove columns we do not use in this example\n",
    "print(df.corr())\n",
    "print(df.dtypes)\n",
    "print(df.shape)"
   ],
   "metadata": {
    "collapsed": false,
    "pycharm": {
     "name": "#%%\n"
    }
   }
  },
  {
   "cell_type": "code",
   "execution_count": 86,
   "outputs": [],
   "source": [
    "# Or you can use just this!!\n",
    "from sklearn.model_selection import train_test_split\n",
    "trnx, tstx, trny, tsty = train_test_split(df.iloc[:, 0:11], df.iloc[:, 11], test_size=0.3, random_state=123)"
   ],
   "metadata": {
    "collapsed": false,
    "pycharm": {
     "name": "#%%\n"
    }
   }
  },
  {
   "cell_type": "code",
   "execution_count": 87,
   "outputs": [
    {
     "name": "stdout",
     "output_type": "stream",
     "text": [
      "[6.31681676 4.97232871 4.78311095 6.56231621 5.54059915 5.62835603\n",
      " 6.30881268 5.68531791 5.40948989 5.67785065 4.95935049 6.83700139\n",
      " 5.66609549 6.05291156 5.72246391 5.84826625 5.0756896  6.21286443\n",
      " 5.93276182 5.35901735 6.07397843 5.66609549 5.84627323 5.49017233\n",
      " 5.46032213 5.42699147 5.7467544  5.85536302 5.65267481 5.56125852\n",
      " 5.16257337 6.52063243 5.65156692 5.15971877 6.33126323 4.86907289\n",
      " 5.06658122 6.85451533 4.96194764 5.28754191 5.42846935 6.16867883\n",
      " 5.66748667 5.23412291 5.31791117 4.81234795 5.28728863 5.12654499\n",
      " 6.26282426 5.27460125 5.41661226 6.63764764 5.29979437 6.52076205\n",
      " 4.78941683 6.43830512 5.32515367 5.06527696 5.74997355 5.13429659\n",
      " 5.05699373 5.60715997 5.32657513 5.92227072 6.5582305  6.18423423\n",
      " 6.26645485 5.5507413  5.57789699 5.75590359 5.31364541 5.74938778\n",
      " 6.05681467 6.05846247 5.71598879 5.24827878 5.14185977 5.10888912\n",
      " 5.5789007  5.61001931 5.10492967 5.1030762  6.47751417 5.3209062\n",
      " 5.71130098 5.17889507 6.21719268 5.14599315 5.06971326 4.30019504\n",
      " 5.67838568 5.66637756 5.41376813 6.07038337 6.39411382 5.54600058\n",
      " 6.01701009 6.00963722 6.06392967 5.61658816 6.40286203 5.74489657\n",
      " 5.11341805 5.76880083 5.65842109 5.45058647 5.63770591 5.78668709\n",
      " 5.91561908 5.92136847 5.65874573 6.18926042 5.39204047 6.2061119\n",
      " 6.34639182 6.51289115 5.59538891 4.86516077 5.70380262 5.0041598\n",
      " 5.70222623 6.0348008  5.28645667 5.27793491 5.83260554 4.5943702\n",
      " 6.77588879 5.71625021 6.0222329  5.49334616 5.97284429 6.03569097\n",
      " 5.30345183 6.25581841 5.30085217 5.46412629 5.8859559  5.40644162\n",
      " 5.84239236 5.85629815 5.22034671 5.82804503 5.62911125 6.48950243\n",
      " 5.83435245 5.4680714  5.12763518 5.90822536 5.57829849 6.56916738\n",
      " 5.54766473 5.82288697 5.89173535 6.3156627  5.83257354 5.67498182\n",
      " 6.45490821 5.65212527 5.29424289 5.42732557 4.93793869 5.75590359\n",
      " 6.51071149 5.19578737 5.19884201 5.32753281 5.36319521 5.40979894\n",
      " 5.27528242 5.62567312 4.99971076 5.03193866 5.67481119 5.41264372\n",
      " 6.09668863 5.68426433 5.65339742 5.41376813 5.25328072 5.18173519\n",
      " 5.67980036 5.37859187 6.218335   5.36969428 5.95770192 6.07772415\n",
      " 5.82898868 5.87818252 5.22907304 5.65096847 6.29345566 6.0725226\n",
      " 6.1840314  5.59873216 4.90658998 6.19579777 5.65339742 6.18365455\n",
      " 4.83671227 5.47576092 6.00249654 5.99414107 6.11854807 6.43341949\n",
      " 5.76308107 5.99036752 5.44713678 5.82590386 5.77243789 4.90512206\n",
      " 6.02220245 5.75762967 5.44181856 5.6957009  5.1830452  4.86959248\n",
      " 6.10320008 6.13375908 5.84893713 6.27548818 6.2783594  5.32127223\n",
      " 5.31746039 5.15830348 6.19434316 6.01897795 5.84826625 6.35786546\n",
      " 5.27082692 5.05531053 5.26064148 5.81533049 5.84991711 5.23459059\n",
      " 5.64760249 4.86707435 5.5864385  5.46280016 5.56158549 5.9320601\n",
      " 5.41214284 5.52346096 5.6035496  5.76704464 5.41313142 5.64607889\n",
      " 5.38343344 6.8273763  5.48177609 6.41429083 5.81106705 5.31364541\n",
      " 5.67024678 5.35751791 5.08443719 6.61453504 5.33367978 5.48591717\n",
      " 5.28600942 5.24920804 5.49788267 5.49506382 5.76117848 5.395156\n",
      " 5.39940981 5.84940197 5.64894351 5.81278547 5.12609199 5.54338563\n",
      " 6.15338861 6.36626316 5.63124894 6.2469018  6.33635937 5.5017368\n",
      " 5.28869287 4.95588689 4.99869431 5.43794665 6.15338861 6.38179155\n",
      " 5.29770159 5.59260041 5.44710825 4.90345784 5.95770192 6.42162219\n",
      " 5.62918234 6.29469306 6.37428172 5.75417086 5.9531884  6.0725226\n",
      " 5.28883182 6.17990273 5.23719792 5.52888245 6.27027787 5.60016409\n",
      " 5.29001528 5.64490983 5.36486416 5.91590663 5.22321345 5.11783186\n",
      " 6.27548818 5.45455848 5.23331276 5.86770469 5.03768514 5.30886669\n",
      " 5.63007761 6.40204268 5.45396649 5.1224245  6.06583797 6.16568414\n",
      " 5.52776408 5.04827303 6.38322353 5.32812236 5.19583389 5.49788267\n",
      " 5.29552933 5.72311075 6.62854729 6.73246925 5.02012088 5.48076572\n",
      " 6.14637623 5.33025239 4.42060814 5.10402968 5.52776408 5.14118473\n",
      " 5.25325872 6.23017674 5.29860647 5.3904934  5.52846199 5.90220144\n",
      " 6.1358003  5.23238477 6.28418575 5.84191197 5.29424289 5.99148916\n",
      " 5.09637895 6.97633999 6.14991048 5.05699373 5.2738242  6.54612542\n",
      " 5.19627598 5.63436223 5.64097753 5.91767406 5.36927614 5.15704976\n",
      " 5.30895207 5.85267562 5.44068938 5.75542327 5.33583324 6.26935174\n",
      " 6.52320824 5.03386924 6.05335254 5.09219831 5.59100293 6.51782124\n",
      " 6.03644366 5.30868512 5.78561475 6.05382386 5.65842109 5.90230543\n",
      " 5.36043726 5.75422734 5.80456174 5.81747097 5.95489382 5.62610681\n",
      " 5.73656268 6.30355272 5.95957347 5.52937254 5.20941374 5.4563207\n",
      " 5.57818068 4.97933116 5.12429301 6.67042825 5.37066355 5.9564818\n",
      " 5.69821085 5.73373181 6.21104936 6.1436163  6.32700603 5.39118764\n",
      " 4.98581332 5.48853362 5.92227072 5.25073189 5.08407747 5.60528311\n",
      " 5.38379641 6.15295049 5.39547202 4.95652675 5.11348246 5.65096847\n",
      " 5.76922256 5.88263076 5.87777327 5.04030829 5.48394719 5.76513674\n",
      " 5.72311075 5.23067839 5.67592049 5.64484765 5.08749083 5.20624967\n",
      " 5.23478158 5.6035496  5.64490983 6.30518841 5.93379064 6.0811705\n",
      " 6.14194395 5.35815781 5.00813163 5.80022322 5.75611618 5.2257998\n",
      " 5.04970666 4.96194764 5.03618055 5.08593237 6.26292037 6.00450856\n",
      " 5.23960347 6.08177303 4.79704924 5.35995776 5.17396906 5.4863542\n",
      " 5.89646462 5.30178129 5.10667008 5.10815255 6.28958257 6.0999454\n",
      " 5.10758874 5.4064055  5.3011092  5.12486518 6.80187275 6.48062109\n",
      " 6.49463489 5.64960939 5.20444904 6.63368722 5.49502721 5.57485475\n",
      " 5.3904934  6.24771474 5.43805931 6.8273763  6.23773015 5.62413048\n",
      " 5.35134785 5.56501074 5.29127755 5.39368667 6.3375284  5.30255621]\n"
     ]
    }
   ],
   "source": [
    "from sklearn.linear_model import LinearRegression\n",
    "model = LinearRegression()\n",
    "model.fit(X=trnx, y=trny)\n",
    "lr_pred = model.predict(X=tstx)\n",
    "print(lr_pred)"
   ],
   "metadata": {
    "collapsed": false,
    "pycharm": {
     "name": "#%%\n"
    }
   }
  },
  {
   "cell_type": "code",
   "execution_count": 88,
   "outputs": [
    {
     "name": "stdout",
     "output_type": "stream",
     "text": [
      "[15350.81054018]\n"
     ]
    },
    {
     "data": {
      "text/plain": "<Figure size 432x288 with 1 Axes>",
      "image/png": "[encoded data removed]"
     },
     "metadata": {
      "needs_background": "light"
     },
     "output_type": "display_data"
    }
   ],
   "source": [
    "plt.scatter(x=tsty, y=lr_pred)\n",
    "plt.title('Linear Regression', y=-0.2)\n",
    "print(np.correlate(tsty, lr_pred))"
   ],
   "metadata": {
    "collapsed": false,
    "pycharm": {
     "name": "#%%\n"
    }
   }
  },
  {
   "cell_type": "code",
   "execution_count": 89,
   "outputs": [
    {
     "name": "stdout",
     "output_type": "stream",
     "text": [
      "RMSE:  0.6503511121866126\n",
      "R2:  0.3310001542880009\n"
     ]
    }
   ],
   "source": [
    "from sklearn import metrics\n",
    "print('RMSE: ', np.sqrt(metrics.mean_squared_error(lr_pred, tsty)))\n",
    "print('R2: ', metrics.r2_score(tsty, lr_pred))"
   ],
   "metadata": {
    "collapsed": false,
    "pycharm": {
     "name": "#%%\n"
    }
   }
  },
  {
   "cell_type": "code",
   "execution_count": 93,
   "outputs": [
    {
     "name": "stdout",
     "output_type": "stream",
     "text": [
      "RMSE:  0.7853163123164475\n",
      "R2:  0.024517505533790063\n",
      "[15256.83660168]\n"
     ]
    },
    {
     "data": {
      "text/plain": "<Figure size 432x288 with 1 Axes>",
      "image/png": "[encoded data removed]"
     },
     "metadata": {
      "needs_background": "light"
     },
     "output_type": "display_data"
    }
   ],
   "source": [
    "from sklearn.linear_model import Lasso\n",
    "model_lasso = Lasso()\n",
    "model_lasso.fit(X=trnx, y=trny)\n",
    "lr_pred_lasso = model_lasso.predict(X=tstx)\n",
    "print('RMSE: ', np.sqrt(metrics.mean_squared_error(lr_pred_lasso, tsty)))\n",
    "print('R2: ', metrics.r2_score(tsty, lr_pred_lasso))\n",
    "\n",
    "plt.scatter(x=tsty, y=lr_pred_lasso)\n",
    "plt.title('LASSO Regression', y=-0.2)\n",
    "print(np.correlate(tsty, lr_pred_lasso))"
   ],
   "metadata": {
    "collapsed": false,
    "pycharm": {
     "name": "#%%\n"
    }
   }
  },
  {
   "cell_type": "code",
   "execution_count": 94,
   "outputs": [
    {
     "name": "stdout",
     "output_type": "stream",
     "text": [
      "RMSE:  0.6503909881080069\n",
      "R2:  0.3309181130564175\n",
      "[15351.7667598]\n"
     ]
    },
    {
     "data": {
      "text/plain": "<Figure size 432x288 with 1 Axes>",
      "image/png": "[encoded data removed]"
     },
     "metadata": {
      "needs_background": "light"
     },
     "output_type": "display_data"
    }
   ],
   "source": [
    "from sklearn.linear_model import Ridge\n",
    "model_ridge = Ridge()\n",
    "model_ridge.fit(X=trnx, y=trny)\n",
    "lr_pred_ridge = model_ridge.predict(X=tstx)\n",
    "print('RMSE: ', np.sqrt(metrics.mean_squared_error(lr_pred_ridge, tsty)))\n",
    "print('R2: ', metrics.r2_score(tsty, lr_pred_ridge))\n",
    "\n",
    "plt.scatter(x=tsty, y=lr_pred_ridge)\n",
    "plt.title('Ridge Regression', y=-0.2)\n",
    "print(np.correlate(tsty, lr_pred_ridge))"
   ],
   "metadata": {
    "collapsed": false,
    "pycharm": {
     "name": "#%%\n"
    }
   }
  },
  {
   "cell_type": "code",
   "execution_count": 109,
   "outputs": [
    {
     "name": "stdout",
     "output_type": "stream",
     "text": [
      "[ 4.71750074e-03 -1.12563719e+00 -1.31651219e-01  2.66135084e-02\n",
      " -2.01235877e+00 -1.01888983e-03 -2.51009655e-03 -2.15189889e+01\n",
      " -2.93708460e-01  8.96925009e-01  2.71920331e-01] [-8.09365294e-03 -1.15546769e+00 -1.58085095e-01  1.60841824e-02\n",
      " -1.30732444e+00 -9.14352072e-04 -2.42969869e-03 -1.68805972e-02\n",
      " -3.15856614e-01  7.63728021e-01  2.99840555e-01] [ 0.         -0.          0.          0.         -0.          0.\n",
      " -0.00388889 -0.         -0.          0.          0.        ]\n"
     ]
    }
   ],
   "source": [
    "print(model.coef_, model_ridge.coef_, model_lasso.coef_)"
   ],
   "metadata": {
    "collapsed": false,
    "pycharm": {
     "name": "#%%\n"
    }
   }
  },
  {
   "cell_type": "code",
   "execution_count": 108,
   "outputs": [
    {
     "data": {
      "text/plain": "<Figure size 432x288 with 1 Axes>",
      "image/png": "[encoded data removed]"
     },
     "metadata": {
      "needs_background": "light"
     },
     "output_type": "display_data"
    }
   ],
   "source": [
    "plt.scatter(x=[3,4,5,6,7,8,], y=[3,4,5,6,7,8])\n",
    "plt.plot([3,8], [3,8], color='red')\n",
    "plt.xlabel('y')\n",
    "plt.ylabel('y_hat')\n",
    "plt.show()"
   ],
   "metadata": {
    "collapsed": false,
    "pycharm": {
     "name": "#%%\n"
    }
   }
  },
  {
   "cell_type": "code",
   "execution_count": null,
   "outputs": [],
   "source": [],
   "metadata": {
    "collapsed": false,
    "pycharm": {
     "name": "#%%\n"
    }
   }
  }
 ],
 "metadata": {
  "kernelspec": {
   "display_name": "Python 3",
   "language": "python",
   "name": "python3"
  },
  "language_info": {
   "codemirror_mode": {
    "name": "ipython",
    "version": 2
   },
   "file_extension": ".py",
   "mimetype": "text/x-python",
   "name": "python",
   "nbconvert_exporter": "python",
   "pygments_lexer": "ipython2",
   "version": "2.7.6"
  }
 },
 "nbformat": 4,
 "nbformat_minor": 0
}