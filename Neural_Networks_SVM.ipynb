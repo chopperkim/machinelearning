{
 "cells": [
  {
   "cell_type": "code",
   "execution_count": 1,
   "outputs": [],
   "source": [
    "## import basic libraries to handle data\n",
    "import numpy as np\n",
    "import pandas as pd\n",
    "import matplotlib.pyplot as plt\n",
    "%matplotlib inline"
   ],
   "metadata": {
    "collapsed": false,
    "pycharm": {
     "name": "#%%\n"
    }
   }
  },
  {
   "cell_type": "code",
   "execution_count": 2,
   "outputs": [
    {
     "data": {
      "text/plain": "   sepal_length  sepal_width  petal_length  petal_width species\n0           5.1          3.5           1.4          0.2  setosa\n1           4.9          3.0           1.4          0.2  setosa\n2           4.7          3.2           1.3          0.2  setosa\n3           4.6          3.1           1.5          0.2  setosa\n4           5.0          3.6           1.4          0.2  setosa",
      "text/html": "<div>\n<style scoped>\n    .dataframe tbody tr th:only-of-type {\n        vertical-align: middle;\n    }\n\n    .dataframe tbody tr th {\n        vertical-align: top;\n    }\n\n    .dataframe thead th {\n        text-align: right;\n    }\n</style>\n<table border=\"1\" class=\"dataframe\">\n  <thead>\n    <tr style=\"text-align: right;\">\n      <th></th>\n      <th>sepal_length</th>\n      <th>sepal_width</th>\n      <th>petal_length</th>\n      <th>petal_width</th>\n      <th>species</th>\n    </tr>\n  </thead>\n  <tbody>\n    <tr>\n      <th>0</th>\n      <td>5.1</td>\n      <td>3.5</td>\n      <td>1.4</td>\n      <td>0.2</td>\n      <td>setosa</td>\n    </tr>\n    <tr>\n      <th>1</th>\n      <td>4.9</td>\n      <td>3.0</td>\n      <td>1.4</td>\n      <td>0.2</td>\n      <td>setosa</td>\n    </tr>\n    <tr>\n      <th>2</th>\n      <td>4.7</td>\n      <td>3.2</td>\n      <td>1.3</td>\n      <td>0.2</td>\n      <td>setosa</td>\n    </tr>\n    <tr>\n      <th>3</th>\n      <td>4.6</td>\n      <td>3.1</td>\n      <td>1.5</td>\n      <td>0.2</td>\n      <td>setosa</td>\n    </tr>\n    <tr>\n      <th>4</th>\n      <td>5.0</td>\n      <td>3.6</td>\n      <td>1.4</td>\n      <td>0.2</td>\n      <td>setosa</td>\n    </tr>\n  </tbody>\n</table>\n</div>"
     },
     "execution_count": 2,
     "metadata": {},
     "output_type": "execute_result"
    }
   ],
   "source": [
    "## import data\n",
    "iris_data = pd.read_csv('https://raw.githubusercontent.com/mwaskom/seaborn-data/master/iris.csv')\n",
    "iris_data.head(5)"
   ],
   "metadata": {
    "collapsed": false,
    "pycharm": {
     "name": "#%%\n"
    }
   }
  },
  {
   "cell_type": "code",
   "execution_count": 3,
   "outputs": [
    {
     "name": "stdout",
     "output_type": "stream",
     "text": [
      "[[5.1 3.5 1.4 0.2 'setosa']\n",
      " [4.9 3.0 1.4 0.2 'setosa']\n",
      " [4.7 3.2 1.3 0.2 'setosa']\n",
      " [4.6 3.1 1.5 0.2 'setosa']\n",
      " [5.0 3.6 1.4 0.2 'setosa']]\n"
     ]
    }
   ],
   "source": [
    "## Explore data\n",
    "np_iris_data = np.array(iris_data)\n",
    "print(np_iris_data[0:5,:])"
   ],
   "metadata": {
    "collapsed": false,
    "pycharm": {
     "name": "#%%\n"
    }
   }
  },
  {
   "cell_type": "code",
   "execution_count": 4,
   "outputs": [
    {
     "name": "stdout",
     "output_type": "stream",
     "text": [
      "[[5.1 3.5 1.4 0.2]\n",
      " [4.9 3.0 1.4 0.2]\n",
      " [4.7 3.2 1.3 0.2]\n",
      " [4.6 3.1 1.5 0.2]\n",
      " [5.0 3.6 1.4 0.2]]\n",
      "['setosa' 'setosa' 'setosa' 'setosa' 'setosa' 'setosa' 'setosa' 'setosa'\n",
      " 'setosa' 'setosa']\n"
     ]
    }
   ],
   "source": [
    "datax = np_iris_data[:, 0:4]\n",
    "datay = np_iris_data[:, -1]\n",
    "\n",
    "print(datax[0:5,:])\n",
    "print(datay[0:10])"
   ],
   "metadata": {
    "collapsed": false,
    "pycharm": {
     "name": "#%%\n"
    }
   }
  },
  {
   "cell_type": "code",
   "execution_count": 5,
   "outputs": [
    {
     "name": "stdout",
     "output_type": "stream",
     "text": [
      "(105, 4) (45, 4) (105,) (45,)\n"
     ]
    }
   ],
   "source": [
    "from sklearn.model_selection import train_test_split\n",
    "trnx, tstx, trny, tsty = train_test_split(datax, datay, test_size=0.3)\n",
    "print(trnx.shape, tstx.shape, trny.shape, tsty.shape)"
   ],
   "metadata": {
    "collapsed": false,
    "pycharm": {
     "name": "#%%\n"
    }
   }
  },
  {
   "cell_type": "code",
   "execution_count": 6,
   "outputs": [
    {
     "name": "stdout",
     "output_type": "stream",
     "text": [
      "0.0 1.0\n",
      "0.0277777777777779 0.9444444444444442\n"
     ]
    }
   ],
   "source": [
    "from sklearn.preprocessing import MinMaxScaler\n",
    "scaler = MinMaxScaler()\n",
    "scaler.fit(trnx)\n",
    "trnx_scale = scaler.transform(trnx)\n",
    "tstx_scale = scaler.transform(tstx)\n",
    "print(np.min(trnx_scale[:, 0]), np.max(trnx_scale[:, 0]))\n",
    "print(np.min(tstx_scale[:, 0]), np.max(tstx_scale[:, 0]))"
   ],
   "metadata": {
    "collapsed": false,
    "pycharm": {
     "name": "#%%\n"
    }
   }
  },
  {
   "cell_type": "code",
   "execution_count": 7,
   "outputs": [
    {
     "name": "stderr",
     "output_type": "stream",
     "text": [
      "/Users/chopper/.conda/envs/machinelearning/lib/python3.7/site-packages/sklearn/neural_network/_multilayer_perceptron.py:696: ConvergenceWarning: Stochastic Optimizer: Maximum iterations (500) reached and the optimization hasn't converged yet.\n",
      "  ConvergenceWarning,\n"
     ]
    }
   ],
   "source": [
    "from sklearn.neural_network import MLPClassifier\n",
    "\n",
    "clf = MLPClassifier(hidden_layer_sizes=(10, ), max_iter=500)\n",
    "clf.fit(trnx, trny)\n",
    "tsty_hat = clf.predict(tstx)"
   ],
   "metadata": {
    "collapsed": false,
    "pycharm": {
     "name": "#%%\n"
    }
   }
  },
  {
   "cell_type": "code",
   "execution_count": 8,
   "outputs": [
    {
     "name": "stdout",
     "output_type": "stream",
     "text": [
      "MLPClassifier(hidden_layer_sizes=(10,), max_iter=500)\n",
      "['versicolor' 'setosa' 'setosa' 'setosa' 'setosa' 'setosa' 'setosa'\n",
      " 'setosa' 'setosa' 'setosa']\n",
      "['virginica' 'setosa' 'setosa' 'setosa' 'setosa' 'setosa' 'setosa'\n",
      " 'setosa' 'setosa' 'setosa']\n"
     ]
    }
   ],
   "source": [
    "print(clf)\n",
    "print(tsty[0:10])\n",
    "print(tsty_hat[0:10])"
   ],
   "metadata": {
    "collapsed": false,
    "pycharm": {
     "name": "#%%\n"
    }
   }
  },
  {
   "cell_type": "code",
   "execution_count": 9,
   "outputs": [
    {
     "name": "stdout",
     "output_type": "stream",
     "text": [
      "['versicolor' 'setosa' 'setosa' 'setosa' 'setosa' 'setosa' 'setosa'\n",
      " 'setosa' 'setosa' 'setosa']\n",
      "['versicolor' 'setosa' 'setosa' 'setosa' 'setosa' 'setosa' 'setosa'\n",
      " 'setosa' 'setosa' 'setosa']\n"
     ]
    },
    {
     "name": "stderr",
     "output_type": "stream",
     "text": [
      "/Users/chopper/.conda/envs/machinelearning/lib/python3.7/site-packages/sklearn/neural_network/_multilayer_perceptron.py:696: ConvergenceWarning: Stochastic Optimizer: Maximum iterations (500) reached and the optimization hasn't converged yet.\n",
      "  ConvergenceWarning,\n"
     ]
    }
   ],
   "source": [
    "clf2 = MLPClassifier(hidden_layer_sizes=(10, 15, 10,), max_iter=500)\n",
    "clf2.fit(trnx, trny)\n",
    "tsty_hat2 = clf2.predict(tstx)\n",
    "print(tsty[0:10])\n",
    "print(tsty_hat2[0:10])"
   ],
   "metadata": {
    "collapsed": false,
    "pycharm": {
     "name": "#%%\n"
    }
   }
  },
  {
   "cell_type": "code",
   "execution_count": 10,
   "outputs": [
    {
     "name": "stdout",
     "output_type": "stream",
     "text": [
      "0.9111111111111111 1.0\n"
     ]
    }
   ],
   "source": [
    "from sklearn.metrics import accuracy_score\n",
    "print(accuracy_score(tsty, tsty_hat), accuracy_score(tsty, tsty_hat2))"
   ],
   "metadata": {
    "collapsed": false,
    "pycharm": {
     "name": "#%%\n"
    }
   }
  },
  {
   "cell_type": "code",
   "execution_count": 11,
   "outputs": [
    {
     "data": {
      "text/plain": "0.9333333333333333"
     },
     "execution_count": 11,
     "metadata": {},
     "output_type": "execute_result"
    }
   ],
   "source": [
    "# SVM\n",
    "from sklearn.svm import SVC\n",
    "svc_model = SVC(C=100, kernel='rbf', degree=3, gamma=0.1, coef0=0.0, shrinking=True, probability=True, tol=0.001, cache_size=200, class_weight=None, verbose=False, max_iter=-1, decision_function_shape='ovr', random_state=None)\n",
    "# svc_model = SVC()\n",
    "svc_model.fit(X=trnx, y=trny)\n",
    "tsty_hat = svc_model.predict(tstx)\n",
    "accuracy_score(tsty, tsty_hat)"
   ],
   "metadata": {
    "collapsed": false,
    "pycharm": {
     "name": "#%%\n"
    }
   }
  },
  {
   "cell_type": "code",
   "execution_count": 12,
   "outputs": [
    {
     "name": "stdout",
     "output_type": "stream",
     "text": [
      "['versicolor' 'setosa' 'setosa' 'setosa' 'setosa' 'setosa' 'setosa'\n",
      " 'setosa' 'setosa' 'setosa' 'virginica' 'versicolor' 'versicolor' 'setosa'\n",
      " 'virginica' 'setosa' 'virginica' 'versicolor' 'setosa' 'versicolor'\n",
      " 'virginica' 'virginica' 'versicolor' 'virginica' 'versicolor' 'setosa'\n",
      " 'setosa' 'versicolor' 'setosa' 'setosa' 'versicolor' 'versicolor'\n",
      " 'virginica' 'virginica' 'versicolor' 'versicolor' 'virginica' 'virginica'\n",
      " 'virginica' 'setosa' 'virginica' 'versicolor' 'versicolor' 'setosa'\n",
      " 'virginica']\n",
      "['versicolor' 'setosa' 'setosa' 'setosa' 'setosa' 'setosa' 'setosa'\n",
      " 'setosa' 'setosa' 'setosa' 'virginica' 'versicolor' 'versicolor' 'setosa'\n",
      " 'virginica' 'setosa' 'virginica' 'versicolor' 'setosa' 'versicolor'\n",
      " 'virginica' 'virginica' 'versicolor' 'virginica' 'versicolor' 'setosa'\n",
      " 'setosa' 'versicolor' 'setosa' 'setosa' 'versicolor' 'versicolor'\n",
      " 'versicolor' 'virginica' 'versicolor' 'versicolor' 'virginica'\n",
      " 'virginica' 'virginica' 'setosa' 'versicolor' 'versicolor' 'versicolor'\n",
      " 'setosa' 'versicolor']\n"
     ]
    }
   ],
   "source": [
    "print(tsty)\n",
    "print(tsty_hat)"
   ],
   "metadata": {
    "collapsed": false,
    "pycharm": {
     "name": "#%%\n"
    }
   }
  },
  {
   "cell_type": "code",
   "execution_count": 13,
   "outputs": [],
   "source": [
    "# Tensorflow keras sequential API\n",
    "import numpy as np\n",
    "import pandas as pd\n",
    "import matplotlib.pyplot as plt\n",
    "%matplotlib inline\n",
    "\n",
    "from tensorflow.keras import layers, models, optimizers"
   ],
   "metadata": {
    "collapsed": false,
    "pycharm": {
     "name": "#%%\n"
    }
   }
  },
  {
   "cell_type": "code",
   "execution_count": 14,
   "outputs": [
    {
     "name": "stdout",
     "output_type": "stream",
     "text": [
      "Model: \"sequential\"\n",
      "_________________________________________________________________\n",
      "Layer (type)                 Output Shape              Param #   \n",
      "=================================================================\n",
      "dense (Dense)                (None, 10)                50        \n",
      "_________________________________________________________________\n",
      "dense_1 (Dense)              (None, 20)                220       \n",
      "_________________________________________________________________\n",
      "dense_2 (Dense)              (None, 10)                210       \n",
      "_________________________________________________________________\n",
      "dense_3 (Dense)              (None, 3)                 33        \n",
      "=================================================================\n",
      "Total params: 513\n",
      "Trainable params: 513\n",
      "Non-trainable params: 0\n",
      "_________________________________________________________________\n"
     ]
    },
    {
     "name": "stderr",
     "output_type": "stream",
     "text": [
      "2022-05-29 19:13:53.655139: I tensorflow/core/platform/cpu_feature_guard.cc:145] This TensorFlow binary is optimized with Intel(R) MKL-DNN to use the following CPU instructions in performance critical operations:  SSE4.1 SSE4.2 AVX AVX2 FMA\n",
      "To enable them in non-MKL-DNN operations, rebuild TensorFlow with the appropriate compiler flags.\n",
      "2022-05-29 19:13:53.655400: I tensorflow/core/common_runtime/process_util.cc:115] Creating new thread pool with default inter op setting: 8. Tune using inter_op_parallelism_threads for best performance.\n"
     ]
    }
   ],
   "source": [
    "input_shape = (4,)\n",
    "mlp_model = models.Sequential()\n",
    "mlp_model.add(layers.Dense(units=10, activation='relu', input_shape=input_shape))\n",
    "mlp_model.add(layers.Dense(units=20, activation='relu'))\n",
    "mlp_model.add(layers.Dense(units=10, activation='relu'))\n",
    "mlp_model.add(layers.Dense(units=3, activation='softmax'))\n",
    "mlp_model.compile(optimizers='Adam', loss='categorical_crossentropy', metrics=['accuracy'])\n",
    "mlp_model.summary()"
   ],
   "metadata": {
    "collapsed": false,
    "pycharm": {
     "name": "#%%\n"
    }
   }
  },
  {
   "cell_type": "code",
   "execution_count": 15,
   "outputs": [
    {
     "name": "stdout",
     "output_type": "stream",
     "text": [
      "[[0 1 0]\n",
      " [0 1 0]\n",
      " [0 0 1]\n",
      " [0 0 1]\n",
      " [0 1 0]]\n",
      "[[0 1 0]\n",
      " [1 0 0]\n",
      " [1 0 0]\n",
      " [1 0 0]\n",
      " [1 0 0]]\n"
     ]
    }
   ],
   "source": [
    "from sklearn.preprocessing import LabelBinarizer\n",
    "encoder = LabelBinarizer()\n",
    "trny_onehot = encoder.fit_transform(trny)\n",
    "tsty_onehot = encoder.transform(tsty)\n",
    "\n",
    "print(trny_onehot[0:5, :])\n",
    "print(tsty_onehot[0:5, :])"
   ],
   "metadata": {
    "collapsed": false,
    "pycharm": {
     "name": "#%%\n"
    }
   }
  },
  {
   "cell_type": "code",
   "execution_count": 19,
   "outputs": [
    {
     "name": "stdout",
     "output_type": "stream",
     "text": [
      "Train on 105 samples, validate on 45 samples\n",
      "Epoch 1/50\n",
      "105/105 [==============================] - 1s 13ms/sample - loss: 1.0511 - accuracy: 0.2286 - val_loss: 0.9484 - val_accuracy: 0.2889\n",
      "Epoch 2/50\n",
      "105/105 [==============================] - 0s 671us/sample - loss: 0.8546 - accuracy: 0.5238 - val_loss: 0.7800 - val_accuracy: 0.6889\n",
      "Epoch 3/50\n",
      "105/105 [==============================] - 0s 773us/sample - loss: 0.7452 - accuracy: 0.6667 - val_loss: 0.6647 - val_accuracy: 0.8222\n",
      "Epoch 4/50\n",
      "105/105 [==============================] - 0s 682us/sample - loss: 0.6469 - accuracy: 0.7714 - val_loss: 0.5899 - val_accuracy: 0.8667\n",
      "Epoch 5/50\n",
      "105/105 [==============================] - 0s 788us/sample - loss: 0.5870 - accuracy: 0.8381 - val_loss: 0.5321 - val_accuracy: 0.8889\n",
      "Epoch 6/50\n",
      "105/105 [==============================] - 0s 708us/sample - loss: 0.5393 - accuracy: 0.8190 - val_loss: 0.4862 - val_accuracy: 0.9778\n",
      "Epoch 7/50\n",
      "105/105 [==============================] - 0s 698us/sample - loss: 0.5022 - accuracy: 0.9238 - val_loss: 0.4473 - val_accuracy: 0.8667\n",
      "Epoch 8/50\n",
      "105/105 [==============================] - 0s 650us/sample - loss: 0.4696 - accuracy: 0.8857 - val_loss: 0.4131 - val_accuracy: 0.9333\n",
      "Epoch 9/50\n",
      "105/105 [==============================] - 0s 644us/sample - loss: 0.4446 - accuracy: 0.8857 - val_loss: 0.3847 - val_accuracy: 0.9556\n",
      "Epoch 10/50\n",
      "105/105 [==============================] - 0s 624us/sample - loss: 0.4112 - accuracy: 0.9238 - val_loss: 0.3520 - val_accuracy: 0.9778\n",
      "Epoch 11/50\n",
      "105/105 [==============================] - 0s 622us/sample - loss: 0.3802 - accuracy: 0.9048 - val_loss: 0.3275 - val_accuracy: 1.0000\n",
      "Epoch 12/50\n",
      "105/105 [==============================] - 0s 672us/sample - loss: 0.3525 - accuracy: 0.9524 - val_loss: 0.3008 - val_accuracy: 0.9778\n",
      "Epoch 13/50\n",
      "105/105 [==============================] - 0s 680us/sample - loss: 0.3346 - accuracy: 0.9524 - val_loss: 0.2867 - val_accuracy: 1.0000\n",
      "Epoch 14/50\n",
      "105/105 [==============================] - 0s 666us/sample - loss: 0.3164 - accuracy: 0.9714 - val_loss: 0.2674 - val_accuracy: 1.0000\n",
      "Epoch 15/50\n",
      "105/105 [==============================] - 0s 674us/sample - loss: 0.3062 - accuracy: 0.9619 - val_loss: 0.2575 - val_accuracy: 0.9778\n",
      "Epoch 16/50\n",
      "105/105 [==============================] - 0s 674us/sample - loss: 0.2912 - accuracy: 0.9524 - val_loss: 0.2441 - val_accuracy: 1.0000\n",
      "Epoch 17/50\n",
      "105/105 [==============================] - 0s 741us/sample - loss: 0.2735 - accuracy: 0.9619 - val_loss: 0.2291 - val_accuracy: 0.9778\n",
      "Epoch 18/50\n",
      "105/105 [==============================] - 0s 670us/sample - loss: 0.2669 - accuracy: 0.9333 - val_loss: 0.2171 - val_accuracy: 1.0000\n",
      "Epoch 19/50\n",
      "105/105 [==============================] - 0s 646us/sample - loss: 0.2539 - accuracy: 0.9619 - val_loss: 0.2090 - val_accuracy: 1.0000\n",
      "Epoch 20/50\n",
      "105/105 [==============================] - 0s 654us/sample - loss: 0.2515 - accuracy: 0.9429 - val_loss: 0.1965 - val_accuracy: 0.9778\n",
      "Epoch 21/50\n",
      "105/105 [==============================] - 0s 669us/sample - loss: 0.2340 - accuracy: 0.9429 - val_loss: 0.1870 - val_accuracy: 1.0000\n",
      "Epoch 22/50\n",
      "105/105 [==============================] - 0s 632us/sample - loss: 0.2282 - accuracy: 0.9714 - val_loss: 0.1832 - val_accuracy: 1.0000\n",
      "Epoch 23/50\n",
      "105/105 [==============================] - 0s 669us/sample - loss: 0.2123 - accuracy: 0.9714 - val_loss: 0.1714 - val_accuracy: 1.0000\n",
      "Epoch 24/50\n",
      "105/105 [==============================] - 0s 637us/sample - loss: 0.2071 - accuracy: 0.9619 - val_loss: 0.1637 - val_accuracy: 1.0000\n",
      "Epoch 25/50\n",
      "105/105 [==============================] - 0s 630us/sample - loss: 0.1993 - accuracy: 0.9619 - val_loss: 0.1626 - val_accuracy: 1.0000\n",
      "Epoch 26/50\n",
      "105/105 [==============================] - 0s 627us/sample - loss: 0.2004 - accuracy: 0.9429 - val_loss: 0.1525 - val_accuracy: 1.0000\n",
      "Epoch 27/50\n",
      "105/105 [==============================] - 0s 656us/sample - loss: 0.1887 - accuracy: 0.9619 - val_loss: 0.1460 - val_accuracy: 1.0000\n",
      "Epoch 28/50\n",
      "105/105 [==============================] - 0s 664us/sample - loss: 0.1766 - accuracy: 0.9714 - val_loss: 0.1481 - val_accuracy: 1.0000\n",
      "Epoch 29/50\n",
      "105/105 [==============================] - 0s 649us/sample - loss: 0.1743 - accuracy: 0.9714 - val_loss: 0.1342 - val_accuracy: 1.0000\n",
      "Epoch 30/50\n",
      "105/105 [==============================] - 0s 639us/sample - loss: 0.1706 - accuracy: 0.9619 - val_loss: 0.1269 - val_accuracy: 1.0000\n",
      "Epoch 31/50\n",
      "105/105 [==============================] - 0s 657us/sample - loss: 0.1645 - accuracy: 0.9619 - val_loss: 0.1290 - val_accuracy: 1.0000\n",
      "Epoch 32/50\n",
      "105/105 [==============================] - 0s 660us/sample - loss: 0.1573 - accuracy: 0.9524 - val_loss: 0.1228 - val_accuracy: 1.0000\n",
      "Epoch 33/50\n",
      "105/105 [==============================] - 0s 632us/sample - loss: 0.1505 - accuracy: 0.9714 - val_loss: 0.1204 - val_accuracy: 1.0000\n",
      "Epoch 34/50\n",
      "105/105 [==============================] - 0s 659us/sample - loss: 0.1454 - accuracy: 0.9619 - val_loss: 0.1242 - val_accuracy: 1.0000\n",
      "Epoch 35/50\n",
      "105/105 [==============================] - 0s 634us/sample - loss: 0.1488 - accuracy: 0.9619 - val_loss: 0.1244 - val_accuracy: 0.9556\n",
      "Epoch 36/50\n",
      "105/105 [==============================] - 0s 621us/sample - loss: 0.1372 - accuracy: 0.9714 - val_loss: 0.1522 - val_accuracy: 0.9111\n",
      "Epoch 37/50\n",
      "105/105 [==============================] - 0s 633us/sample - loss: 0.1487 - accuracy: 0.9714 - val_loss: 0.1105 - val_accuracy: 1.0000\n",
      "Epoch 38/50\n",
      "105/105 [==============================] - 0s 653us/sample - loss: 0.1320 - accuracy: 0.9619 - val_loss: 0.0913 - val_accuracy: 1.0000\n",
      "Epoch 39/50\n",
      "105/105 [==============================] - 0s 634us/sample - loss: 0.1234 - accuracy: 0.9619 - val_loss: 0.0920 - val_accuracy: 0.9778\n",
      "Epoch 40/50\n",
      "105/105 [==============================] - 0s 669us/sample - loss: 0.1305 - accuracy: 0.9619 - val_loss: 0.1134 - val_accuracy: 0.9333\n",
      "Epoch 41/50\n",
      "105/105 [==============================] - 0s 670us/sample - loss: 0.1253 - accuracy: 0.9429 - val_loss: 0.1030 - val_accuracy: 1.0000\n",
      "Epoch 42/50\n",
      "105/105 [==============================] - 0s 651us/sample - loss: 0.1262 - accuracy: 0.9714 - val_loss: 0.0818 - val_accuracy: 1.0000\n",
      "Epoch 43/50\n",
      "105/105 [==============================] - 0s 655us/sample - loss: 0.1225 - accuracy: 0.9714 - val_loss: 0.0777 - val_accuracy: 1.0000\n",
      "Epoch 44/50\n",
      "105/105 [==============================] - 0s 647us/sample - loss: 0.1218 - accuracy: 0.9619 - val_loss: 0.0990 - val_accuracy: 0.9556\n",
      "Epoch 45/50\n",
      "105/105 [==============================] - 0s 659us/sample - loss: 0.1173 - accuracy: 0.9714 - val_loss: 0.1250 - val_accuracy: 0.9111\n",
      "Epoch 46/50\n",
      "105/105 [==============================] - 0s 649us/sample - loss: 0.1135 - accuracy: 0.9714 - val_loss: 0.0752 - val_accuracy: 1.0000\n",
      "Epoch 47/50\n",
      "105/105 [==============================] - 0s 654us/sample - loss: 0.1201 - accuracy: 0.9619 - val_loss: 0.0868 - val_accuracy: 1.0000\n",
      "Epoch 48/50\n",
      "105/105 [==============================] - 0s 681us/sample - loss: 0.1101 - accuracy: 0.9524 - val_loss: 0.1090 - val_accuracy: 0.9111\n",
      "Epoch 49/50\n",
      "105/105 [==============================] - 0s 644us/sample - loss: 0.1117 - accuracy: 0.9810 - val_loss: 0.0820 - val_accuracy: 1.0000\n",
      "Epoch 50/50\n",
      "105/105 [==============================] - 0s 680us/sample - loss: 0.1085 - accuracy: 0.9810 - val_loss: 0.0654 - val_accuracy: 1.0000\n"
     ]
    }
   ],
   "source": [
    "history = mlp_model.fit(np.asarray(trnx).astype(float), np.asarray(trny_onehot).astype(float), validation_data=[np.asarray(tstx).astype(float), np.asarray(tsty_onehot).astype(float)], batch_size=10, epochs=50)"
   ],
   "metadata": {
    "collapsed": false,
    "pycharm": {
     "name": "#%%\n"
    }
   }
  },
  {
   "cell_type": "code",
   "execution_count": 21,
   "outputs": [
    {
     "data": {
      "text/plain": "<Figure size 432x288 with 1 Axes>",
      "image/png": "[encoded data removed]"
     },
     "metadata": {
      "needs_background": "light"
     },
     "output_type": "display_data"
    },
    {
     "data": {
      "text/plain": "<Figure size 432x288 with 1 Axes>",
      "image/png": "[encoded data removed]"
     },
     "metadata": {
      "needs_background": "light"
     },
     "output_type": "display_data"
    }
   ],
   "source": [
    "plt.plot(history.history['accuracy'])\n",
    "plt.plot(history.history['val_accuracy'])\n",
    "plt.title('Model Accuracy')\n",
    "plt.ylabel('accuracy')\n",
    "plt.xlabel('epoch')\n",
    "plt.legend(['train', 'test'], loc='upper left')\n",
    "plt.show()\n",
    "\n",
    "#summarize history for loss\n",
    "plt.plot(history.history['loss'])\n",
    "plt.plot(history.history['val_loss'])\n",
    "plt.title('Model Loss')\n",
    "plt.ylabel('loss')\n",
    "plt.xlabel('epoch')\n",
    "plt.legend(['train', 'test'], loc='upper left')\n",
    "plt.show()"
   ],
   "metadata": {
    "collapsed": false,
    "pycharm": {
     "name": "#%%\n"
    }
   }
  },
  {
   "cell_type": "code",
   "execution_count": 22,
   "outputs": [
    {
     "name": "stdout",
     "output_type": "stream",
     "text": [
      "Model: \"model\"\n",
      "_________________________________________________________________\n",
      "Layer (type)                 Output Shape              Param #   \n",
      "=================================================================\n",
      "input_1 (InputLayer)         [(None, 4)]               0         \n",
      "_________________________________________________________________\n",
      "dense_4 (Dense)              (None, 10)                50        \n",
      "_________________________________________________________________\n",
      "dense_5 (Dense)              (None, 20)                220       \n",
      "_________________________________________________________________\n",
      "dense_6 (Dense)              (None, 10)                210       \n",
      "_________________________________________________________________\n",
      "dense_7 (Dense)              (None, 3)                 33        \n",
      "=================================================================\n",
      "Total params: 513\n",
      "Trainable params: 513\n",
      "Non-trainable params: 0\n",
      "_________________________________________________________________\n"
     ]
    }
   ],
   "source": [
    "input_shape = (4,)\n",
    "\n",
    "visible = layers.Input(shape=input_shape)\n",
    "hidden1 = layers.Dense(units=10, activation='relu')(visible)\n",
    "hidden2 = layers.Dense(units=20, activation='relu')(hidden1)\n",
    "hidden3 = layers.Dense(units=10, activation='relu')(hidden2)\n",
    "output = layers.Dense(units=3, activation='softmax')(hidden3)\n",
    "\n",
    "mlp_function = models.Model(visible, output)\n",
    "mlp_function.summary()"
   ],
   "metadata": {
    "collapsed": false,
    "pycharm": {
     "name": "#%%\n"
    }
   }
  },
  {
   "cell_type": "code",
   "execution_count": 23,
   "outputs": [
    {
     "name": "stdout",
     "output_type": "stream",
     "text": [
      "Train on 105 samples, validate on 45 samples\n",
      "Epoch 1/50\n",
      "105/105 [==============================] - 1s 12ms/sample - loss: 0.7462 - accuracy: 0.8286 - val_loss: 0.5916 - val_accuracy: 0.9556\n",
      "Epoch 2/50\n",
      "105/105 [==============================] - 0s 639us/sample - loss: 0.6273 - accuracy: 0.9429 - val_loss: 0.5295 - val_accuracy: 0.9556\n",
      "Epoch 3/50\n",
      "105/105 [==============================] - 0s 668us/sample - loss: 0.5665 - accuracy: 0.9143 - val_loss: 0.4885 - val_accuracy: 0.8889\n",
      "Epoch 4/50\n",
      "105/105 [==============================] - 0s 679us/sample - loss: 0.5294 - accuracy: 0.9238 - val_loss: 0.4511 - val_accuracy: 0.9556\n",
      "Epoch 5/50\n",
      "105/105 [==============================] - 0s 715us/sample - loss: 0.4993 - accuracy: 0.9333 - val_loss: 0.4270 - val_accuracy: 1.0000\n",
      "Epoch 6/50\n",
      "105/105 [==============================] - 0s 665us/sample - loss: 0.4772 - accuracy: 0.9333 - val_loss: 0.4069 - val_accuracy: 0.9333\n",
      "Epoch 7/50\n",
      "105/105 [==============================] - 0s 688us/sample - loss: 0.4557 - accuracy: 0.9524 - val_loss: 0.3922 - val_accuracy: 0.9111\n",
      "Epoch 8/50\n",
      "105/105 [==============================] - 0s 646us/sample - loss: 0.4381 - accuracy: 0.9524 - val_loss: 0.3700 - val_accuracy: 1.0000\n",
      "Epoch 9/50\n",
      "105/105 [==============================] - 0s 639us/sample - loss: 0.4194 - accuracy: 0.9619 - val_loss: 0.3506 - val_accuracy: 1.0000\n",
      "Epoch 10/50\n",
      "105/105 [==============================] - 0s 631us/sample - loss: 0.3954 - accuracy: 0.9619 - val_loss: 0.3505 - val_accuracy: 0.8889\n",
      "Epoch 11/50\n",
      "105/105 [==============================] - 0s 634us/sample - loss: 0.3888 - accuracy: 0.9143 - val_loss: 0.3229 - val_accuracy: 0.9778\n",
      "Epoch 12/50\n",
      "105/105 [==============================] - 0s 634us/sample - loss: 0.3673 - accuracy: 0.9429 - val_loss: 0.3147 - val_accuracy: 0.9111\n",
      "Epoch 13/50\n",
      "105/105 [==============================] - 0s 619us/sample - loss: 0.3541 - accuracy: 0.9524 - val_loss: 0.2887 - val_accuracy: 1.0000\n",
      "Epoch 14/50\n",
      "105/105 [==============================] - 0s 649us/sample - loss: 0.3430 - accuracy: 0.9619 - val_loss: 0.2792 - val_accuracy: 1.0000\n",
      "Epoch 15/50\n",
      "105/105 [==============================] - 0s 616us/sample - loss: 0.3257 - accuracy: 0.9714 - val_loss: 0.2654 - val_accuracy: 1.0000\n",
      "Epoch 16/50\n",
      "105/105 [==============================] - 0s 629us/sample - loss: 0.3146 - accuracy: 0.9524 - val_loss: 0.2537 - val_accuracy: 1.0000\n",
      "Epoch 17/50\n",
      "105/105 [==============================] - 0s 647us/sample - loss: 0.3082 - accuracy: 0.9619 - val_loss: 0.2397 - val_accuracy: 1.0000\n",
      "Epoch 18/50\n",
      "105/105 [==============================] - 0s 654us/sample - loss: 0.2991 - accuracy: 0.9429 - val_loss: 0.2285 - val_accuracy: 1.0000\n",
      "Epoch 19/50\n",
      "105/105 [==============================] - 0s 707us/sample - loss: 0.2786 - accuracy: 0.9524 - val_loss: 0.2292 - val_accuracy: 0.9333\n",
      "Epoch 20/50\n",
      "105/105 [==============================] - 0s 644us/sample - loss: 0.2613 - accuracy: 0.9429 - val_loss: 0.2143 - val_accuracy: 0.9333\n",
      "Epoch 21/50\n",
      "105/105 [==============================] - 0s 656us/sample - loss: 0.2551 - accuracy: 0.9619 - val_loss: 0.2079 - val_accuracy: 0.9333\n",
      "Epoch 22/50\n",
      "105/105 [==============================] - 0s 646us/sample - loss: 0.2452 - accuracy: 0.9619 - val_loss: 0.2063 - val_accuracy: 0.9111\n",
      "Epoch 23/50\n",
      "105/105 [==============================] - 0s 644us/sample - loss: 0.2330 - accuracy: 0.9524 - val_loss: 0.1802 - val_accuracy: 1.0000\n",
      "Epoch 24/50\n",
      "105/105 [==============================] - 0s 630us/sample - loss: 0.2339 - accuracy: 0.9524 - val_loss: 0.1789 - val_accuracy: 0.9333\n",
      "Epoch 25/50\n",
      "105/105 [==============================] - 0s 631us/sample - loss: 0.2180 - accuracy: 0.9333 - val_loss: 0.1816 - val_accuracy: 0.9111\n",
      "Epoch 26/50\n",
      "105/105 [==============================] - 0s 624us/sample - loss: 0.2116 - accuracy: 0.9619 - val_loss: 0.1569 - val_accuracy: 0.9778\n",
      "Epoch 27/50\n",
      "105/105 [==============================] - 0s 621us/sample - loss: 0.2048 - accuracy: 0.9714 - val_loss: 0.1791 - val_accuracy: 0.9111\n",
      "Epoch 28/50\n",
      "105/105 [==============================] - 0s 623us/sample - loss: 0.1909 - accuracy: 0.9429 - val_loss: 0.1530 - val_accuracy: 0.9778\n",
      "Epoch 29/50\n",
      "105/105 [==============================] - 0s 645us/sample - loss: 0.1976 - accuracy: 0.9524 - val_loss: 0.1420 - val_accuracy: 0.9556\n",
      "Epoch 30/50\n",
      "105/105 [==============================] - 0s 627us/sample - loss: 0.1783 - accuracy: 0.9524 - val_loss: 0.1711 - val_accuracy: 0.9111\n",
      "Epoch 31/50\n",
      "105/105 [==============================] - 0s 633us/sample - loss: 0.1846 - accuracy: 0.9619 - val_loss: 0.1248 - val_accuracy: 1.0000\n",
      "Epoch 32/50\n",
      "105/105 [==============================] - 0s 699us/sample - loss: 0.1638 - accuracy: 0.9714 - val_loss: 0.1527 - val_accuracy: 0.9111\n",
      "Epoch 33/50\n",
      "105/105 [==============================] - 0s 678us/sample - loss: 0.1706 - accuracy: 0.9524 - val_loss: 0.1512 - val_accuracy: 0.9111\n",
      "Epoch 34/50\n",
      "105/105 [==============================] - 0s 687us/sample - loss: 0.1626 - accuracy: 0.9524 - val_loss: 0.1210 - val_accuracy: 0.9556\n",
      "Epoch 35/50\n",
      "105/105 [==============================] - 0s 644us/sample - loss: 0.1529 - accuracy: 0.9429 - val_loss: 0.1103 - val_accuracy: 1.0000\n",
      "Epoch 36/50\n",
      "105/105 [==============================] - 0s 703us/sample - loss: 0.1637 - accuracy: 0.9619 - val_loss: 0.1056 - val_accuracy: 1.0000\n",
      "Epoch 37/50\n",
      "105/105 [==============================] - 0s 649us/sample - loss: 0.1443 - accuracy: 0.9810 - val_loss: 0.1008 - val_accuracy: 1.0000\n",
      "Epoch 38/50\n",
      "105/105 [==============================] - 0s 653us/sample - loss: 0.1517 - accuracy: 0.9619 - val_loss: 0.1113 - val_accuracy: 0.9333\n",
      "Epoch 39/50\n",
      "105/105 [==============================] - 0s 669us/sample - loss: 0.1364 - accuracy: 0.9524 - val_loss: 0.1701 - val_accuracy: 0.9111\n",
      "Epoch 40/50\n",
      "105/105 [==============================] - 0s 657us/sample - loss: 0.1523 - accuracy: 0.9524 - val_loss: 0.1263 - val_accuracy: 0.9111\n",
      "Epoch 41/50\n",
      "105/105 [==============================] - 0s 655us/sample - loss: 0.1264 - accuracy: 0.9619 - val_loss: 0.1958 - val_accuracy: 0.9111\n",
      "Epoch 42/50\n",
      "105/105 [==============================] - 0s 704us/sample - loss: 0.1412 - accuracy: 0.9429 - val_loss: 0.1081 - val_accuracy: 0.9333\n",
      "Epoch 43/50\n",
      "105/105 [==============================] - 0s 667us/sample - loss: 0.1305 - accuracy: 0.9619 - val_loss: 0.0895 - val_accuracy: 1.0000\n",
      "Epoch 44/50\n",
      "105/105 [==============================] - 0s 643us/sample - loss: 0.1319 - accuracy: 0.9524 - val_loss: 0.0806 - val_accuracy: 1.0000\n",
      "Epoch 45/50\n",
      "105/105 [==============================] - 0s 703us/sample - loss: 0.1247 - accuracy: 0.9714 - val_loss: 0.0884 - val_accuracy: 1.0000\n",
      "Epoch 46/50\n",
      "105/105 [==============================] - 0s 641us/sample - loss: 0.1217 - accuracy: 0.9714 - val_loss: 0.0800 - val_accuracy: 0.9778\n",
      "Epoch 47/50\n",
      "105/105 [==============================] - 0s 649us/sample - loss: 0.1273 - accuracy: 0.9524 - val_loss: 0.1223 - val_accuracy: 0.9111\n",
      "Epoch 48/50\n",
      "105/105 [==============================] - 0s 635us/sample - loss: 0.1291 - accuracy: 0.9524 - val_loss: 0.1086 - val_accuracy: 0.9111\n",
      "Epoch 49/50\n",
      "105/105 [==============================] - 0s 631us/sample - loss: 0.1224 - accuracy: 0.9619 - val_loss: 0.0691 - val_accuracy: 1.0000\n",
      "Epoch 50/50\n",
      "105/105 [==============================] - 0s 649us/sample - loss: 0.1302 - accuracy: 0.9714 - val_loss: 0.0670 - val_accuracy: 1.0000\n"
     ]
    }
   ],
   "source": [
    "mlp_function.compile(optimizer='RMSprop', loss='categorical_crossentropy', metrics=['accuracy'])\n",
    "history = mlp_function.fit(np.asarray(trnx).astype(float), np.asarray(trny_onehot).astype(float), validation_data=[np.asarray(tstx).astype(float), np.asarray(tsty_onehot).astype(float)], batch_size=10, epochs=50)"
   ],
   "metadata": {
    "collapsed": false,
    "pycharm": {
     "name": "#%%\n"
    }
   }
  },
  {
   "cell_type": "code",
   "execution_count": 24,
   "outputs": [
    {
     "data": {
      "text/plain": "<Figure size 432x288 with 1 Axes>",
      "image/png": "[encoded data removed]"
     },
     "metadata": {
      "needs_background": "light"
     },
     "output_type": "display_data"
    },
    {
     "data": {
      "text/plain": "<Figure size 432x288 with 1 Axes>",
      "image/png": "[encoded data removed]"
     },
     "metadata": {
      "needs_background": "light"
     },
     "output_type": "display_data"
    }
   ],
   "source": [
    "plt.plot(history.history['accuracy'])\n",
    "plt.plot(history.history['val_accuracy'])\n",
    "plt.title('Model Accuracy')\n",
    "plt.ylabel('accuracy')\n",
    "plt.xlabel('epoch')\n",
    "plt.legend(['train', 'test'], loc='upper left')\n",
    "plt.show()\n",
    "\n",
    "#summarize history for loss\n",
    "plt.plot(history.history['loss'])\n",
    "plt.plot(history.history['val_loss'])\n",
    "plt.title('Model Loss')\n",
    "plt.ylabel('loss')\n",
    "plt.xlabel('epoch')\n",
    "plt.legend(['train', 'test'], loc='upper left')\n",
    "plt.show()"
   ],
   "metadata": {
    "collapsed": false,
    "pycharm": {
     "name": "#%%\n"
    }
   }
  },
  {
   "cell_type": "code",
   "execution_count": null,
   "outputs": [],
   "source": [],
   "metadata": {
    "collapsed": false,
    "pycharm": {
     "name": "#%%\n"
    }
   }
  }
 ],
 "metadata": {
  "kernelspec": {
   "display_name": "Python 3",
   "language": "python",
   "name": "python3"
  },
  "language_info": {
   "codemirror_mode": {
    "name": "ipython",
    "version": 2
   },
   "file_extension": ".py",
   "mimetype": "text/x-python",
   "name": "python",
   "nbconvert_exporter": "python",
   "pygments_lexer": "ipython2",
   "version": "2.7.6"
  }
 },
 "nbformat": 4,
 "nbformat_minor": 0
}