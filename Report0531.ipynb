{
 "cells": [
  {
   "cell_type": "code",
   "execution_count": 1,
   "outputs": [],
   "source": [
    "import numpy as np\n",
    "import pandas as pd\n",
    "import matplotlib.pyplot as plt\n",
    "%matplotlib inline"
   ],
   "metadata": {
    "collapsed": false,
    "pycharm": {
     "name": "#%%\n"
    }
   }
  },
  {
   "cell_type": "code",
   "execution_count": 2,
   "outputs": [
    {
     "data": {
      "text/plain": "   M  0.455  0.365  0.095   0.514  0.2245   0.101   0.15  15\n0  M  0.350  0.265  0.090  0.2255  0.0995  0.0485  0.070   7\n1  F  0.530  0.420  0.135  0.6770  0.2565  0.1415  0.210   9\n2  M  0.440  0.365  0.125  0.5160  0.2155  0.1140  0.155  10\n3  I  0.330  0.255  0.080  0.2050  0.0895  0.0395  0.055   7\n4  I  0.425  0.300  0.095  0.3515  0.1410  0.0775  0.120   8",
      "text/html": "<div>\n<style scoped>\n    .dataframe tbody tr th:only-of-type {\n        vertical-align: middle;\n    }\n\n    .dataframe tbody tr th {\n        vertical-align: top;\n    }\n\n    .dataframe thead th {\n        text-align: right;\n    }\n</style>\n<table border=\"1\" class=\"dataframe\">\n  <thead>\n    <tr style=\"text-align: right;\">\n      <th></th>\n      <th>M</th>\n      <th>0.455</th>\n      <th>0.365</th>\n      <th>0.095</th>\n      <th>0.514</th>\n      <th>0.2245</th>\n      <th>0.101</th>\n      <th>0.15</th>\n      <th>15</th>\n    </tr>\n  </thead>\n  <tbody>\n    <tr>\n      <th>0</th>\n      <td>M</td>\n      <td>0.350</td>\n      <td>0.265</td>\n      <td>0.090</td>\n      <td>0.2255</td>\n      <td>0.0995</td>\n      <td>0.0485</td>\n      <td>0.070</td>\n      <td>7</td>\n    </tr>\n    <tr>\n      <th>1</th>\n      <td>F</td>\n      <td>0.530</td>\n      <td>0.420</td>\n      <td>0.135</td>\n      <td>0.6770</td>\n      <td>0.2565</td>\n      <td>0.1415</td>\n      <td>0.210</td>\n      <td>9</td>\n    </tr>\n    <tr>\n      <th>2</th>\n      <td>M</td>\n      <td>0.440</td>\n      <td>0.365</td>\n      <td>0.125</td>\n      <td>0.5160</td>\n      <td>0.2155</td>\n      <td>0.1140</td>\n      <td>0.155</td>\n      <td>10</td>\n    </tr>\n    <tr>\n      <th>3</th>\n      <td>I</td>\n      <td>0.330</td>\n      <td>0.255</td>\n      <td>0.080</td>\n      <td>0.2050</td>\n      <td>0.0895</td>\n      <td>0.0395</td>\n      <td>0.055</td>\n      <td>7</td>\n    </tr>\n    <tr>\n      <th>4</th>\n      <td>I</td>\n      <td>0.425</td>\n      <td>0.300</td>\n      <td>0.095</td>\n      <td>0.3515</td>\n      <td>0.1410</td>\n      <td>0.0775</td>\n      <td>0.120</td>\n      <td>8</td>\n    </tr>\n  </tbody>\n</table>\n</div>"
     },
     "execution_count": 2,
     "metadata": {},
     "output_type": "execute_result"
    }
   ],
   "source": [
    "## import data\n",
    "data_path = \"data/abalone.csv\"\n",
    "abalone_data = pd.read_csv(data_path)\n",
    "abalone_data.head(5)"
   ],
   "metadata": {
    "collapsed": false,
    "pycharm": {
     "name": "#%%\n"
    }
   }
  },
  {
   "cell_type": "code",
   "execution_count": 4,
   "outputs": [
    {
     "name": "stdout",
     "output_type": "stream",
     "text": [
      "[['M' 0.35 0.265 0.09 0.2255 0.0995 0.0485 0.07 7]\n",
      " ['F' 0.53 0.42 0.135 0.677 0.2565 0.1415 0.21 9]\n",
      " ['M' 0.44 0.365 0.125 0.516 0.2155 0.114 0.155 10]\n",
      " ['I' 0.33 0.255 0.08 0.205 0.0895 0.0395 0.055 7]\n",
      " ['I' 0.425 0.3 0.095 0.3515 0.141 0.0775 0.12 8]]\n"
     ]
    }
   ],
   "source": [
    "np_abalone_data = np.array(abalone_data)\n",
    "print(np_abalone_data[0:5,])"
   ],
   "metadata": {
    "collapsed": false,
    "pycharm": {
     "name": "#%%\n"
    }
   }
  },
  {
   "cell_type": "code",
   "execution_count": 5,
   "outputs": [
    {
     "name": "stdout",
     "output_type": "stream",
     "text": [
      "[[0.35 0.265 0.09 0.2255 0.0995 0.0485 0.07 7]\n",
      " [0.53 0.42 0.135 0.677 0.2565 0.1415 0.21 9]\n",
      " [0.44 0.365 0.125 0.516 0.2155 0.114 0.155 10]\n",
      " [0.33 0.255 0.08 0.205 0.0895 0.0395 0.055 7]\n",
      " [0.425 0.3 0.095 0.3515 0.141 0.0775 0.12 8]]\n",
      "['M' 'F' 'M' 'I' 'I' 'F' 'F' 'M' 'F' 'F']\n"
     ]
    }
   ],
   "source": [
    "datax = np_abalone_data[:,1:]\n",
    "datay = np_abalone_data[:,0]\n",
    "print(datax[0:5,:])\n",
    "print(datay[0:10])"
   ],
   "metadata": {
    "collapsed": false,
    "pycharm": {
     "name": "#%%\n"
    }
   }
  },
  {
   "cell_type": "code",
   "execution_count": 7,
   "outputs": [
    {
     "name": "stdout",
     "output_type": "stream",
     "text": [
      "(2923, 8) (1253, 8) (1253, 8) (1253,)\n"
     ]
    }
   ],
   "source": [
    "from sklearn.model_selection import train_test_split\n",
    "trnx, tstx, trny, tsty = train_test_split(datax, datay, test_size=0.3)\n",
    "print(trnx.shape, tstx.shape, tstx.shape, tsty.shape)"
   ],
   "metadata": {
    "collapsed": false,
    "pycharm": {
     "name": "#%%\n"
    }
   }
  },
  {
   "cell_type": "code",
   "execution_count": 8,
   "outputs": [
    {
     "name": "stdout",
     "output_type": "stream",
     "text": [
      "0.0 1.0\n",
      "0.047297297297297314 0.9527027027027029\n"
     ]
    }
   ],
   "source": [
    "# Scaler\n",
    "from sklearn.preprocessing import MinMaxScaler\n",
    "scaler = MinMaxScaler()\n",
    "scaler.fit(trnx)\n",
    "trnx_scale = scaler.transform(trnx)\n",
    "tstx_scale = scaler.transform(tstx)\n",
    "print(np.min(trnx_scale[:, 0]), np.max(trnx_scale[:, 0]))\n",
    "print(np.min(tstx_scale[:, 0]), np.max(tstx_scale[:, 0]))"
   ],
   "metadata": {
    "collapsed": false,
    "pycharm": {
     "name": "#%%\n"
    }
   }
  },
  {
   "cell_type": "code",
   "execution_count": 9,
   "outputs": [],
   "source": [
    "# MLP Classifier 모델 만들기\n",
    "from sklearn.neural_network import MLPClassifier\n",
    "\n",
    "clf = MLPClassifier(hidden_layer_sizes=(10, ), max_iter=500)\n",
    "clf.fit(trnx, trny)\n",
    "tsty_hat = clf.predict(tstx)"
   ],
   "metadata": {
    "collapsed": false,
    "pycharm": {
     "name": "#%%\n"
    }
   }
  },
  {
   "cell_type": "code",
   "execution_count": 10,
   "outputs": [
    {
     "name": "stdout",
     "output_type": "stream",
     "text": [
      "MLPClassifier(hidden_layer_sizes=(10,), max_iter=500)\n",
      "['F' 'M' 'M' 'I' 'I' 'I' 'I' 'M' 'F' 'I']\n",
      "['I' 'M' 'M' 'I' 'I' 'I' 'I' 'I' 'F' 'I']\n"
     ]
    }
   ],
   "source": [
    "print(clf)\n",
    "print(tsty[0:10])\n",
    "print(tsty_hat[0:10])"
   ],
   "metadata": {
    "collapsed": false,
    "pycharm": {
     "name": "#%%\n"
    }
   }
  },
  {
   "cell_type": "code",
   "execution_count": 11,
   "outputs": [
    {
     "name": "stdout",
     "output_type": "stream",
     "text": [
      "['F' 'M' 'M' 'I' 'I' 'I' 'I' 'M' 'F' 'I']\n",
      "['I' 'M' 'M' 'I' 'I' 'I' 'I' 'I' 'F' 'I']\n"
     ]
    }
   ],
   "source": [
    "clf2 = MLPClassifier(hidden_layer_sizes=(10, 15, 10, ), max_iter=500)\n",
    "clf2.fit(trnx, trny)\n",
    "tsty_hat2 = clf2.predict(tstx)\n",
    "print(tsty[0:10])\n",
    "print(tsty_hat2[0:10])"
   ],
   "metadata": {
    "collapsed": false,
    "pycharm": {
     "name": "#%%\n"
    }
   }
  },
  {
   "cell_type": "code",
   "execution_count": 12,
   "outputs": [
    {
     "name": "stdout",
     "output_type": "stream",
     "text": [
      "0.5506783719074222 0.5490822027134876\n"
     ]
    }
   ],
   "source": [
    "from sklearn.metrics import accuracy_score\n",
    "print(accuracy_score(tsty, tsty_hat), accuracy_score(tsty, tsty_hat2))"
   ],
   "metadata": {
    "collapsed": false,
    "pycharm": {
     "name": "#%%\n"
    }
   }
  },
  {
   "cell_type": "code",
   "execution_count": 19,
   "outputs": [
    {
     "data": {
      "text/plain": "0.5434956105347167"
     },
     "execution_count": 19,
     "metadata": {},
     "output_type": "execute_result"
    }
   ],
   "source": [
    "# SVM 모델 만들기\n",
    "from sklearn.svm import SVC\n",
    "svc_model = SVC(C=100, kernel='rbf', degree=3, gamma=0.1, coef0=0.0, shrinking=True, probability=True, tol=0.001, cache_size=200, class_weight=None, verbose=False, max_iter=-1, decision_function_shape='ovr', random_state=None)\n",
    "svc_model.fit(X=trnx, y=trny)\n",
    "tsty_hat = svc_model.predict(tstx)\n",
    "accuracy_score(tsty, tsty_hat)"
   ],
   "metadata": {
    "collapsed": false,
    "pycharm": {
     "name": "#%%\n"
    }
   }
  },
  {
   "cell_type": "code",
   "execution_count": 20,
   "outputs": [
    {
     "name": "stdout",
     "output_type": "stream",
     "text": [
      "['F' 'M' 'M' ... 'F' 'M' 'F']\n",
      "['M' 'F' 'F' ... 'M' 'M' 'M']\n"
     ]
    }
   ],
   "source": [
    "print(tsty)\n",
    "print(tsty_hat)"
   ],
   "metadata": {
    "collapsed": false,
    "pycharm": {
     "name": "#%%\n"
    }
   }
  },
  {
   "cell_type": "code",
   "execution_count": 37,
   "outputs": [
    {
     "name": "stdout",
     "output_type": "stream",
     "text": [
      "Model: \"sequential_4\"\n",
      "_________________________________________________________________\n",
      "Layer (type)                 Output Shape              Param #   \n",
      "=================================================================\n",
      "dense_16 (Dense)             (None, 32)                288       \n",
      "_________________________________________________________________\n",
      "dense_17 (Dense)             (None, 16)                528       \n",
      "_________________________________________________________________\n",
      "dense_18 (Dense)             (None, 8)                 136       \n",
      "_________________________________________________________________\n",
      "dense_19 (Dense)             (None, 3)                 27        \n",
      "=================================================================\n",
      "Total params: 979\n",
      "Trainable params: 979\n",
      "Non-trainable params: 0\n",
      "_________________________________________________________________\n"
     ]
    }
   ],
   "source": [
    "# tensorflow keras\n",
    "import tensorflow as tf\n",
    "from tensorflow.keras import layers, models, optimizers\n",
    "input_shape = (8, )\n",
    "mlp_model = models.Sequential()\n",
    "mlp_model.add(layers.Dense(units=32, activation='relu', input_shape=input_shape))\n",
    "mlp_model.add(layers.Dense(units=16, activation='relu'))\n",
    "mlp_model.add(layers.Dense(units=8, activation='relu'))\n",
    "mlp_model.add(layers.Dense(units=3, activation='softmax'))\n",
    "mlp_model.compile(optimizer='Adam', loss='categorical_crossentropy', metrics=['accuracy'])\n",
    "mlp_model.summary()"
   ],
   "metadata": {
    "collapsed": false,
    "pycharm": {
     "name": "#%%\n"
    }
   }
  },
  {
   "cell_type": "code",
   "execution_count": 38,
   "outputs": [
    {
     "name": "stdout",
     "output_type": "stream",
     "text": [
      "[[1 0 0]\n",
      " [0 0 1]\n",
      " [1 0 0]\n",
      " [0 0 1]\n",
      " [1 0 0]]\n",
      "[[1 0 0]\n",
      " [0 0 1]\n",
      " [0 0 1]\n",
      " [0 1 0]\n",
      " [0 1 0]]\n"
     ]
    }
   ],
   "source": [
    "from sklearn.preprocessing import LabelBinarizer\n",
    "encoder = LabelBinarizer()\n",
    "trny_onehot = encoder.fit_transform(trny)\n",
    "tsty_onehot = encoder.transform(tsty)\n",
    "\n",
    "print(trny_onehot[0:5])\n",
    "print(tsty_onehot[0:5])"
   ],
   "metadata": {
    "collapsed": false,
    "pycharm": {
     "name": "#%%\n"
    }
   }
  },
  {
   "cell_type": "code",
   "execution_count": 39,
   "outputs": [
    {
     "name": "stdout",
     "output_type": "stream",
     "text": [
      "Train on 2923 samples, validate on 1253 samples\n",
      "Epoch 1/60\n",
      "2923/2923 [==============================] - 2s 550us/sample - loss: 1.0719 - accuracy: 0.3821 - val_loss: 1.0406 - val_accuracy: 0.5395\n",
      "Epoch 2/60\n",
      "2923/2923 [==============================] - 1s 249us/sample - loss: 0.9842 - accuracy: 0.5056 - val_loss: 0.9074 - val_accuracy: 0.5315\n",
      "Epoch 3/60\n",
      "2923/2923 [==============================] - 1s 251us/sample - loss: 0.9062 - accuracy: 0.5228 - val_loss: 0.9027 - val_accuracy: 0.5124\n",
      "Epoch 4/60\n",
      "2923/2923 [==============================] - 1s 249us/sample - loss: 0.8955 - accuracy: 0.5262 - val_loss: 0.8749 - val_accuracy: 0.5387\n",
      "Epoch 5/60\n",
      "2923/2923 [==============================] - 1s 251us/sample - loss: 0.8879 - accuracy: 0.5248 - val_loss: 0.8820 - val_accuracy: 0.5243\n",
      "Epoch 6/60\n",
      "2923/2923 [==============================] - 1s 256us/sample - loss: 0.8878 - accuracy: 0.5358 - val_loss: 0.8665 - val_accuracy: 0.5371\n",
      "Epoch 7/60\n",
      "2923/2923 [==============================] - 1s 250us/sample - loss: 0.8856 - accuracy: 0.5402 - val_loss: 0.8677 - val_accuracy: 0.5363\n",
      "Epoch 8/60\n",
      "2923/2923 [==============================] - 1s 256us/sample - loss: 0.8846 - accuracy: 0.5327 - val_loss: 0.8691 - val_accuracy: 0.5475\n",
      "Epoch 9/60\n",
      "2923/2923 [==============================] - 1s 250us/sample - loss: 0.8851 - accuracy: 0.5269 - val_loss: 0.8838 - val_accuracy: 0.5371\n",
      "Epoch 10/60\n",
      "2923/2923 [==============================] - 1s 253us/sample - loss: 0.8797 - accuracy: 0.5409 - val_loss: 0.8667 - val_accuracy: 0.5196\n",
      "Epoch 11/60\n",
      "2923/2923 [==============================] - 1s 253us/sample - loss: 0.8813 - accuracy: 0.5197 - val_loss: 0.8642 - val_accuracy: 0.5379\n",
      "Epoch 12/60\n",
      "2923/2923 [==============================] - 1s 250us/sample - loss: 0.8786 - accuracy: 0.5399 - val_loss: 0.8690 - val_accuracy: 0.5443\n",
      "Epoch 13/60\n",
      "2923/2923 [==============================] - 1s 248us/sample - loss: 0.8821 - accuracy: 0.5282 - val_loss: 0.8605 - val_accuracy: 0.5339\n",
      "Epoch 14/60\n",
      "2923/2923 [==============================] - 1s 251us/sample - loss: 0.8765 - accuracy: 0.5395 - val_loss: 0.8664 - val_accuracy: 0.5443\n",
      "Epoch 15/60\n",
      "2923/2923 [==============================] - 1s 252us/sample - loss: 0.8767 - accuracy: 0.5275 - val_loss: 0.8695 - val_accuracy: 0.5211\n",
      "Epoch 16/60\n",
      "2923/2923 [==============================] - 1s 249us/sample - loss: 0.8744 - accuracy: 0.5296 - val_loss: 0.8665 - val_accuracy: 0.5339\n",
      "Epoch 17/60\n",
      "2923/2923 [==============================] - 1s 256us/sample - loss: 0.8750 - accuracy: 0.5334 - val_loss: 0.8769 - val_accuracy: 0.5491\n",
      "Epoch 18/60\n",
      "2923/2923 [==============================] - 1s 251us/sample - loss: 0.8740 - accuracy: 0.5320 - val_loss: 0.8651 - val_accuracy: 0.5315\n",
      "Epoch 19/60\n",
      "2923/2923 [==============================] - 1s 250us/sample - loss: 0.8772 - accuracy: 0.5313 - val_loss: 0.8634 - val_accuracy: 0.5188\n",
      "Epoch 20/60\n",
      "2923/2923 [==============================] - 1s 255us/sample - loss: 0.8734 - accuracy: 0.5361 - val_loss: 0.8629 - val_accuracy: 0.5219\n",
      "Epoch 21/60\n",
      "2923/2923 [==============================] - 1s 252us/sample - loss: 0.8724 - accuracy: 0.5275 - val_loss: 0.8610 - val_accuracy: 0.5491\n",
      "Epoch 22/60\n",
      "2923/2923 [==============================] - 1s 248us/sample - loss: 0.8727 - accuracy: 0.5423 - val_loss: 0.8599 - val_accuracy: 0.5339\n",
      "Epoch 23/60\n",
      "2923/2923 [==============================] - 1s 249us/sample - loss: 0.8684 - accuracy: 0.5358 - val_loss: 0.8720 - val_accuracy: 0.5148\n",
      "Epoch 24/60\n",
      "2923/2923 [==============================] - 1s 250us/sample - loss: 0.8725 - accuracy: 0.5334 - val_loss: 0.8590 - val_accuracy: 0.5363\n",
      "Epoch 25/60\n",
      "2923/2923 [==============================] - 1s 250us/sample - loss: 0.8772 - accuracy: 0.5361 - val_loss: 0.8597 - val_accuracy: 0.5395\n",
      "Epoch 26/60\n",
      "2923/2923 [==============================] - 1s 248us/sample - loss: 0.8709 - accuracy: 0.5364 - val_loss: 0.8557 - val_accuracy: 0.5451\n",
      "Epoch 27/60\n",
      "2923/2923 [==============================] - 1s 249us/sample - loss: 0.8720 - accuracy: 0.5245 - val_loss: 0.8615 - val_accuracy: 0.5403\n",
      "Epoch 28/60\n",
      "2923/2923 [==============================] - 1s 247us/sample - loss: 0.8710 - accuracy: 0.5316 - val_loss: 0.8638 - val_accuracy: 0.5403\n",
      "Epoch 29/60\n",
      "2923/2923 [==============================] - 1s 249us/sample - loss: 0.8714 - accuracy: 0.5296 - val_loss: 0.8564 - val_accuracy: 0.5419\n",
      "Epoch 30/60\n",
      "2923/2923 [==============================] - 1s 248us/sample - loss: 0.8708 - accuracy: 0.5310 - val_loss: 0.8577 - val_accuracy: 0.5347\n",
      "Epoch 31/60\n",
      "2923/2923 [==============================] - 1s 251us/sample - loss: 0.8699 - accuracy: 0.5375 - val_loss: 0.8578 - val_accuracy: 0.5331\n",
      "Epoch 32/60\n",
      "2923/2923 [==============================] - 1s 256us/sample - loss: 0.8701 - accuracy: 0.5327 - val_loss: 0.8720 - val_accuracy: 0.5451\n",
      "Epoch 33/60\n",
      "2923/2923 [==============================] - 1s 249us/sample - loss: 0.8687 - accuracy: 0.5344 - val_loss: 0.8652 - val_accuracy: 0.5299\n",
      "Epoch 34/60\n",
      "2923/2923 [==============================] - 1s 253us/sample - loss: 0.8720 - accuracy: 0.5368 - val_loss: 0.8594 - val_accuracy: 0.5251\n",
      "Epoch 35/60\n",
      "2923/2923 [==============================] - 1s 250us/sample - loss: 0.8657 - accuracy: 0.5361 - val_loss: 0.9051 - val_accuracy: 0.5100\n",
      "Epoch 36/60\n",
      "2923/2923 [==============================] - 1s 257us/sample - loss: 0.8674 - accuracy: 0.5313 - val_loss: 0.8618 - val_accuracy: 0.5515\n",
      "Epoch 37/60\n",
      "2923/2923 [==============================] - 1s 247us/sample - loss: 0.8666 - accuracy: 0.5269 - val_loss: 0.8663 - val_accuracy: 0.5116\n",
      "Epoch 38/60\n",
      "2923/2923 [==============================] - 1s 254us/sample - loss: 0.8685 - accuracy: 0.5286 - val_loss: 0.8600 - val_accuracy: 0.5387\n",
      "Epoch 39/60\n",
      "2923/2923 [==============================] - 1s 247us/sample - loss: 0.8707 - accuracy: 0.5392 - val_loss: 0.8627 - val_accuracy: 0.5251\n",
      "Epoch 40/60\n",
      "2923/2923 [==============================] - 1s 249us/sample - loss: 0.8687 - accuracy: 0.5347 - val_loss: 0.8554 - val_accuracy: 0.5491\n",
      "Epoch 41/60\n",
      "2923/2923 [==============================] - 1s 249us/sample - loss: 0.8650 - accuracy: 0.5269 - val_loss: 0.8541 - val_accuracy: 0.5427\n",
      "Epoch 42/60\n",
      "2923/2923 [==============================] - 1s 252us/sample - loss: 0.8650 - accuracy: 0.5364 - val_loss: 0.8517 - val_accuracy: 0.5515\n",
      "Epoch 43/60\n",
      "2923/2923 [==============================] - 1s 272us/sample - loss: 0.8674 - accuracy: 0.5310 - val_loss: 0.8559 - val_accuracy: 0.5355\n",
      "Epoch 44/60\n",
      "2923/2923 [==============================] - 1s 256us/sample - loss: 0.8664 - accuracy: 0.5327 - val_loss: 0.8658 - val_accuracy: 0.5291\n",
      "Epoch 45/60\n",
      "2923/2923 [==============================] - 1s 269us/sample - loss: 0.8619 - accuracy: 0.5440 - val_loss: 0.8586 - val_accuracy: 0.5491\n",
      "Epoch 46/60\n",
      "2923/2923 [==============================] - 1s 268us/sample - loss: 0.8652 - accuracy: 0.5265 - val_loss: 0.8509 - val_accuracy: 0.5467\n",
      "Epoch 47/60\n",
      "2923/2923 [==============================] - 1s 256us/sample - loss: 0.8625 - accuracy: 0.5289 - val_loss: 0.8606 - val_accuracy: 0.5523\n",
      "Epoch 48/60\n",
      "2923/2923 [==============================] - 1s 266us/sample - loss: 0.8638 - accuracy: 0.5299 - val_loss: 0.8501 - val_accuracy: 0.5499\n",
      "Epoch 49/60\n",
      "2923/2923 [==============================] - 1s 255us/sample - loss: 0.8640 - accuracy: 0.5334 - val_loss: 0.8478 - val_accuracy: 0.5499\n",
      "Epoch 50/60\n",
      "2923/2923 [==============================] - 1s 261us/sample - loss: 0.8637 - accuracy: 0.5234 - val_loss: 0.8512 - val_accuracy: 0.5499\n",
      "Epoch 51/60\n",
      "2923/2923 [==============================] - 1s 250us/sample - loss: 0.8608 - accuracy: 0.5378 - val_loss: 0.8529 - val_accuracy: 0.5451\n",
      "Epoch 52/60\n",
      "2923/2923 [==============================] - 1s 252us/sample - loss: 0.8613 - accuracy: 0.5265 - val_loss: 0.8488 - val_accuracy: 0.5499\n",
      "Epoch 53/60\n",
      "2923/2923 [==============================] - 1s 274us/sample - loss: 0.8607 - accuracy: 0.5402 - val_loss: 0.8530 - val_accuracy: 0.5339\n",
      "Epoch 54/60\n",
      "2923/2923 [==============================] - 1s 270us/sample - loss: 0.8626 - accuracy: 0.5340 - val_loss: 0.8660 - val_accuracy: 0.5299\n",
      "Epoch 55/60\n",
      "2923/2923 [==============================] - 1s 255us/sample - loss: 0.8603 - accuracy: 0.5269 - val_loss: 0.8468 - val_accuracy: 0.5491\n",
      "Epoch 56/60\n",
      "2923/2923 [==============================] - 1s 256us/sample - loss: 0.8588 - accuracy: 0.5303 - val_loss: 0.8876 - val_accuracy: 0.5204\n",
      "Epoch 57/60\n",
      "2923/2923 [==============================] - 1s 251us/sample - loss: 0.8594 - accuracy: 0.5416 - val_loss: 0.8538 - val_accuracy: 0.5331\n",
      "Epoch 58/60\n",
      "2923/2923 [==============================] - 1s 271us/sample - loss: 0.8593 - accuracy: 0.5409 - val_loss: 0.8443 - val_accuracy: 0.5499\n",
      "Epoch 59/60\n",
      "2923/2923 [==============================] - 1s 285us/sample - loss: 0.8593 - accuracy: 0.5316 - val_loss: 0.8482 - val_accuracy: 0.5379\n",
      "Epoch 60/60\n",
      "2923/2923 [==============================] - 1s 267us/sample - loss: 0.8582 - accuracy: 0.5344 - val_loss: 0.8463 - val_accuracy: 0.5467\n"
     ]
    }
   ],
   "source": [
    "history = mlp_model.fit(np.asarray(trnx).astype(float), np.asarray(trny_onehot).astype(float), validation_data=[np.asarray(tstx).astype(float), np.asarray(tsty_onehot).astype(float)], batch_size=10, epochs=60)"
   ],
   "metadata": {
    "collapsed": false,
    "pycharm": {
     "name": "#%%\n"
    }
   }
  },
  {
   "cell_type": "code",
   "execution_count": 40,
   "outputs": [
    {
     "data": {
      "text/plain": "<Figure size 432x288 with 1 Axes>",
      "image/png": "[encoded data removed]"
     },
     "metadata": {
      "needs_background": "light"
     },
     "output_type": "display_data"
    },
    {
     "data": {
      "text/plain": "<Figure size 432x288 with 1 Axes>",
      "image/png": "[encoded data removed]"
     },
     "metadata": {
      "needs_background": "light"
     },
     "output_type": "display_data"
    }
   ],
   "source": [
    "plt.plot(history.history['accuracy'])\n",
    "plt.plot(history.history['val_accuracy'])\n",
    "plt.title('Model Accuracy')\n",
    "plt.ylabel('accuracy')\n",
    "plt.xlabel('epoch')\n",
    "plt.legend(['train', 'test'], loc='upper left')\n",
    "plt.show()\n",
    "\n",
    "#summarize history for loss\n",
    "plt.plot(history.history['loss'])\n",
    "plt.plot(history.history['val_loss'])\n",
    "plt.title('Model Loss')\n",
    "plt.ylabel('loss')\n",
    "plt.xlabel('epoch')\n",
    "plt.legend(['train', 'test'], loc='upper left')\n",
    "plt.show()"
   ],
   "metadata": {
    "collapsed": false,
    "pycharm": {
     "name": "#%%\n"
    }
   }
  },
  {
   "cell_type": "code",
   "execution_count": null,
   "outputs": [],
   "source": [],
   "metadata": {
    "collapsed": false,
    "pycharm": {
     "name": "#%%\n"
    }
   }
  }
 ],
 "metadata": {
  "kernelspec": {
   "display_name": "Python 3",
   "language": "python",
   "name": "python3"
  },
  "language_info": {
   "codemirror_mode": {
    "name": "ipython",
    "version": 2
   },
   "file_extension": ".py",
   "mimetype": "text/x-python",
   "name": "python",
   "nbconvert_exporter": "python",
   "pygments_lexer": "ipython2",
   "version": "2.7.6"
  }
 },
 "nbformat": 4,
 "nbformat_minor": 0
}