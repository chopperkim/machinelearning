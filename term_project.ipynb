{
 "cells": [
  {
   "cell_type": "code",
   "execution_count": 28,
   "outputs": [
    {
     "data": {
      "text/plain": "   수도권여부    연도  주택유형  점유형태  보유주택  주택나이       주택면적  만족도  이사계획  내집보유에대한생각  ...  \\\n0      1  1980     2     2     2     8       49.5    3     2          1  ...   \n1      1  2017     2     3     2     7       56.1    3     2          1  ...   \n2      1  1993     2     1     2     8       39.6    3     2          1  ...   \n3      1  1994     6     1     2     8       49.5    3     2          1  ...   \n4      1  2018     6     3     2     7  9999999.0    3     2          2  ...   \n\n   총가구원수  월평균가구소득  생활비  주거관리비부담정도    총자산    총부채  최종학력       최종가중치  주거지원프로그램1  \\\n0      4      180  100          2   6500      0     1  180.508046          2   \n1      1       70   70          1   9000      0     2  397.739979          6   \n2      5       60   60          2  40000      0     1  315.241737          4   \n3      6      248  230          2  23000      0     1  252.579915          6   \n4      3      120  120          2  13000  13000     1  245.946173          2   \n\n   주거지원프로그램2  \n0          3  \n1          5  \n2          3  \n3          5  \n4         10  \n\n[5 rows x 22 columns]",
      "text/html": "<div>\n<style scoped>\n    .dataframe tbody tr th:only-of-type {\n        vertical-align: middle;\n    }\n\n    .dataframe tbody tr th {\n        vertical-align: top;\n    }\n\n    .dataframe thead th {\n        text-align: right;\n    }\n</style>\n<table border=\"1\" class=\"dataframe\">\n  <thead>\n    <tr style=\"text-align: right;\">\n      <th></th>\n      <th>수도권여부</th>\n      <th>연도</th>\n      <th>주택유형</th>\n      <th>점유형태</th>\n      <th>보유주택</th>\n      <th>주택나이</th>\n      <th>주택면적</th>\n      <th>만족도</th>\n      <th>이사계획</th>\n      <th>내집보유에대한생각</th>\n      <th>...</th>\n      <th>총가구원수</th>\n      <th>월평균가구소득</th>\n      <th>생활비</th>\n      <th>주거관리비부담정도</th>\n      <th>총자산</th>\n      <th>총부채</th>\n      <th>최종학력</th>\n      <th>최종가중치</th>\n      <th>주거지원프로그램1</th>\n      <th>주거지원프로그램2</th>\n    </tr>\n  </thead>\n  <tbody>\n    <tr>\n      <th>0</th>\n      <td>1</td>\n      <td>1980</td>\n      <td>2</td>\n      <td>2</td>\n      <td>2</td>\n      <td>8</td>\n      <td>49.5</td>\n      <td>3</td>\n      <td>2</td>\n      <td>1</td>\n      <td>...</td>\n      <td>4</td>\n      <td>180</td>\n      <td>100</td>\n      <td>2</td>\n      <td>6500</td>\n      <td>0</td>\n      <td>1</td>\n      <td>180.508046</td>\n      <td>2</td>\n      <td>3</td>\n    </tr>\n    <tr>\n      <th>1</th>\n      <td>1</td>\n      <td>2017</td>\n      <td>2</td>\n      <td>3</td>\n      <td>2</td>\n      <td>7</td>\n      <td>56.1</td>\n      <td>3</td>\n      <td>2</td>\n      <td>1</td>\n      <td>...</td>\n      <td>1</td>\n      <td>70</td>\n      <td>70</td>\n      <td>1</td>\n      <td>9000</td>\n      <td>0</td>\n      <td>2</td>\n      <td>397.739979</td>\n      <td>6</td>\n      <td>5</td>\n    </tr>\n    <tr>\n      <th>2</th>\n      <td>1</td>\n      <td>1993</td>\n      <td>2</td>\n      <td>1</td>\n      <td>2</td>\n      <td>8</td>\n      <td>39.6</td>\n      <td>3</td>\n      <td>2</td>\n      <td>1</td>\n      <td>...</td>\n      <td>5</td>\n      <td>60</td>\n      <td>60</td>\n      <td>2</td>\n      <td>40000</td>\n      <td>0</td>\n      <td>1</td>\n      <td>315.241737</td>\n      <td>4</td>\n      <td>3</td>\n    </tr>\n    <tr>\n      <th>3</th>\n      <td>1</td>\n      <td>1994</td>\n      <td>6</td>\n      <td>1</td>\n      <td>2</td>\n      <td>8</td>\n      <td>49.5</td>\n      <td>3</td>\n      <td>2</td>\n      <td>1</td>\n      <td>...</td>\n      <td>6</td>\n      <td>248</td>\n      <td>230</td>\n      <td>2</td>\n      <td>23000</td>\n      <td>0</td>\n      <td>1</td>\n      <td>252.579915</td>\n      <td>6</td>\n      <td>5</td>\n    </tr>\n    <tr>\n      <th>4</th>\n      <td>1</td>\n      <td>2018</td>\n      <td>6</td>\n      <td>3</td>\n      <td>2</td>\n      <td>7</td>\n      <td>9999999.0</td>\n      <td>3</td>\n      <td>2</td>\n      <td>2</td>\n      <td>...</td>\n      <td>3</td>\n      <td>120</td>\n      <td>120</td>\n      <td>2</td>\n      <td>13000</td>\n      <td>13000</td>\n      <td>1</td>\n      <td>245.946173</td>\n      <td>2</td>\n      <td>10</td>\n    </tr>\n  </tbody>\n</table>\n<p>5 rows × 22 columns</p>\n</div>"
     },
     "execution_count": 28,
     "metadata": {},
     "output_type": "execute_result"
    }
   ],
   "source": [
    "import numpy as np\n",
    "import pandas as pd\n",
    "import matplotlib.pyplot as plt\n",
    "%matplotlib inline\n",
    "## import data\n",
    "data_path = \"data/housing.csv\"\n",
    "housing_data = pd.read_csv(data_path)\n",
    "housing_data.head(5)"
   ],
   "metadata": {
    "collapsed": false,
    "pycharm": {
     "name": "#%%\n"
    }
   }
  },
  {
   "cell_type": "code",
   "execution_count": 29,
   "outputs": [
    {
     "name": "stdout",
     "output_type": "stream",
     "text": [
      "[[1.00000000e+00 1.98000000e+03 2.00000000e+00 2.00000000e+00\n",
      "  2.00000000e+00 8.00000000e+00 4.95000000e+01 3.00000000e+00\n",
      "  2.00000000e+00 1.00000000e+00 1.00000000e+00 1.92900000e+03\n",
      "  4.00000000e+00 1.80000000e+02 1.00000000e+02 2.00000000e+00\n",
      "  6.50000000e+03 0.00000000e+00 1.00000000e+00 1.80508046e+02\n",
      "  2.00000000e+00 3.00000000e+00]\n",
      " [1.00000000e+00 2.01700000e+03 2.00000000e+00 3.00000000e+00\n",
      "  2.00000000e+00 7.00000000e+00 5.61000000e+01 3.00000000e+00\n",
      "  2.00000000e+00 1.00000000e+00 1.00000000e+00 1.93300000e+03\n",
      "  1.00000000e+00 7.00000000e+01 7.00000000e+01 1.00000000e+00\n",
      "  9.00000000e+03 0.00000000e+00 2.00000000e+00 3.97739979e+02\n",
      "  6.00000000e+00 5.00000000e+00]\n",
      " [1.00000000e+00 1.99300000e+03 2.00000000e+00 1.00000000e+00\n",
      "  2.00000000e+00 8.00000000e+00 3.96000000e+01 3.00000000e+00\n",
      "  2.00000000e+00 1.00000000e+00 2.00000000e+00 1.93500000e+03\n",
      "  5.00000000e+00 6.00000000e+01 6.00000000e+01 2.00000000e+00\n",
      "  4.00000000e+04 0.00000000e+00 1.00000000e+00 3.15241737e+02\n",
      "  4.00000000e+00 3.00000000e+00]\n",
      " [1.00000000e+00 1.99400000e+03 6.00000000e+00 1.00000000e+00\n",
      "  2.00000000e+00 8.00000000e+00 4.95000000e+01 3.00000000e+00\n",
      "  2.00000000e+00 1.00000000e+00 1.00000000e+00 1.93100000e+03\n",
      "  6.00000000e+00 2.48000000e+02 2.30000000e+02 2.00000000e+00\n",
      "  2.30000000e+04 0.00000000e+00 1.00000000e+00 2.52579915e+02\n",
      "  6.00000000e+00 5.00000000e+00]\n",
      " [1.00000000e+00 2.01800000e+03 6.00000000e+00 3.00000000e+00\n",
      "  2.00000000e+00 7.00000000e+00 9.99999900e+06 3.00000000e+00\n",
      "  2.00000000e+00 2.00000000e+00 1.00000000e+00 1.92700000e+03\n",
      "  3.00000000e+00 1.20000000e+02 1.20000000e+02 2.00000000e+00\n",
      "  1.30000000e+04 1.30000000e+04 1.00000000e+00 2.45946173e+02\n",
      "  2.00000000e+00 1.00000000e+01]]\n"
     ]
    }
   ],
   "source": [
    "np_housing_data = np.array(housing_data)\n",
    "print(np_housing_data[0:5, :])"
   ],
   "metadata": {
    "collapsed": false,
    "pycharm": {
     "name": "#%%\n"
    }
   }
  },
  {
   "cell_type": "code",
   "execution_count": 31,
   "outputs": [
    {
     "name": "stdout",
     "output_type": "stream",
     "text": [
      "[[1.000000e+00 1.980000e+03 2.000000e+00 2.000000e+00 2.000000e+00\n",
      "  8.000000e+00 4.950000e+01 3.000000e+00 2.000000e+00 1.000000e+00\n",
      "  1.000000e+00 1.929000e+03 4.000000e+00 1.800000e+02 1.000000e+02\n",
      "  2.000000e+00 6.500000e+03 0.000000e+00 1.000000e+00]\n",
      " [1.000000e+00 2.017000e+03 2.000000e+00 3.000000e+00 2.000000e+00\n",
      "  7.000000e+00 5.610000e+01 3.000000e+00 2.000000e+00 1.000000e+00\n",
      "  1.000000e+00 1.933000e+03 1.000000e+00 7.000000e+01 7.000000e+01\n",
      "  1.000000e+00 9.000000e+03 0.000000e+00 2.000000e+00]\n",
      " [1.000000e+00 1.993000e+03 2.000000e+00 1.000000e+00 2.000000e+00\n",
      "  8.000000e+00 3.960000e+01 3.000000e+00 2.000000e+00 1.000000e+00\n",
      "  2.000000e+00 1.935000e+03 5.000000e+00 6.000000e+01 6.000000e+01\n",
      "  2.000000e+00 4.000000e+04 0.000000e+00 1.000000e+00]\n",
      " [1.000000e+00 1.994000e+03 6.000000e+00 1.000000e+00 2.000000e+00\n",
      "  8.000000e+00 4.950000e+01 3.000000e+00 2.000000e+00 1.000000e+00\n",
      "  1.000000e+00 1.931000e+03 6.000000e+00 2.480000e+02 2.300000e+02\n",
      "  2.000000e+00 2.300000e+04 0.000000e+00 1.000000e+00]\n",
      " [1.000000e+00 2.018000e+03 6.000000e+00 3.000000e+00 2.000000e+00\n",
      "  7.000000e+00 9.999999e+06 3.000000e+00 2.000000e+00 2.000000e+00\n",
      "  1.000000e+00 1.927000e+03 3.000000e+00 1.200000e+02 1.200000e+02\n",
      "  2.000000e+00 1.300000e+04 1.300000e+04 1.000000e+00]]\n",
      "[[2.]\n",
      " [6.]\n",
      " [4.]\n",
      " [6.]\n",
      " [2.]\n",
      " [2.]\n",
      " [2.]\n",
      " [6.]\n",
      " [2.]\n",
      " [2.]]\n"
     ]
    }
   ],
   "source": [
    "datax = np_housing_data[:,:19]\n",
    "datay = np_housing_data[:,20:21]\n",
    "print(datax[0:5,:])\n",
    "print(datay[0:10])"
   ],
   "metadata": {
    "collapsed": false,
    "pycharm": {
     "name": "#%%\n"
    }
   }
  },
  {
   "cell_type": "code",
   "execution_count": 32,
   "outputs": [
    {
     "name": "stdout",
     "output_type": "stream",
     "text": [
      "(13122, 19) (5624, 19) (13122, 1) (5624, 1)\n"
     ]
    }
   ],
   "source": [
    "from sklearn.model_selection import train_test_split\n",
    "trnx, tstx, trny, tsty = train_test_split(datax, datay, test_size=0.3)\n",
    "print(trnx.shape, tstx.shape, trny.shape, tsty.shape)"
   ],
   "metadata": {
    "collapsed": false,
    "pycharm": {
     "name": "#%%\n"
    }
   }
  },
  {
   "cell_type": "code",
   "execution_count": 33,
   "outputs": [
    {
     "name": "stdout",
     "output_type": "stream",
     "text": [
      "0.0 1.0\n",
      "0.0 1.0\n"
     ]
    }
   ],
   "source": [
    "from sklearn.preprocessing import MinMaxScaler # Step 1\n",
    "scaler = MinMaxScaler() # Step 2\n",
    "scaler.fit(trnx) # Step 3\n",
    "trnx_scale = scaler.transform(trnx) # Step 4\n",
    "tstx_scale = scaler.transform(tstx) # Step 4\n",
    "print(np.min(trnx_scale[:,0]), np.max(trnx_scale[:,0]))\n",
    "print(np.min(tstx_scale[:,0]), np.max(tstx_scale[:,0]))"
   ],
   "metadata": {
    "collapsed": false,
    "pycharm": {
     "name": "#%%\n"
    }
   }
  },
  {
   "cell_type": "code",
   "execution_count": 34,
   "outputs": [
    {
     "name": "stderr",
     "output_type": "stream",
     "text": [
      "C:\\Users\\chopper\\anaconda3\\envs\\machinelearning\\lib\\site-packages\\sklearn\\neighbors\\_classification.py:198: DataConversionWarning: A column-vector y was passed when a 1d array was expected. Please change the shape of y to (n_samples,), for example using ravel().\n",
      "  return self._fit(X, y)\n"
     ]
    },
    {
     "data": {
      "text/plain": "KNeighborsClassifier()"
     },
     "execution_count": 34,
     "metadata": {},
     "output_type": "execute_result"
    }
   ],
   "source": [
    "## kNN\n",
    "from sklearn import neighbors\n",
    "k=5\n",
    "knn_model = neighbors.KNeighborsClassifier(n_neighbors=k)\n",
    "knn_model.fit(X=trnx, y=trny)"
   ],
   "metadata": {
    "collapsed": false,
    "pycharm": {
     "name": "#%%\n"
    }
   }
  },
  {
   "cell_type": "code",
   "execution_count": 35,
   "outputs": [],
   "source": [
    "knn_pred_trn = knn_model.predict(X=trnx)\n",
    "knn_pred_tst = knn_model.predict(X=tstx)"
   ],
   "metadata": {
    "collapsed": false,
    "pycharm": {
     "name": "#%%\n"
    }
   }
  },
  {
   "cell_type": "code",
   "execution_count": 36,
   "outputs": [
    {
     "name": "stdout",
     "output_type": "stream",
     "text": [
      "[1. 3. 2. ... 4. 3. 3.]\n",
      "[6. 2. 3. ... 1. 6. 3.]\n"
     ]
    }
   ],
   "source": [
    "print(knn_pred_trn)\n",
    "print(knn_pred_tst)"
   ],
   "metadata": {
    "collapsed": false,
    "pycharm": {
     "name": "#%%\n"
    }
   }
  },
  {
   "cell_type": "code",
   "execution_count": 37,
   "outputs": [
    {
     "name": "stdout",
     "output_type": "stream",
     "text": [
      "0.5411522633744856\n",
      "0.37660028449502136\n"
     ]
    }
   ],
   "source": [
    "from sklearn import metrics\n",
    "print(metrics.accuracy_score(trny, knn_pred_trn))\n",
    "print(metrics.accuracy_score(tsty, knn_pred_tst))"
   ],
   "metadata": {
    "collapsed": false,
    "pycharm": {
     "name": "#%%\n"
    }
   }
  },
  {
   "cell_type": "code",
   "execution_count": 38,
   "outputs": [
    {
     "data": {
      "text/plain": "DecisionTreeClassifier(max_depth=4, min_samples_split=3)"
     },
     "execution_count": 38,
     "metadata": {},
     "output_type": "execute_result"
    }
   ],
   "source": [
    "## Decision Tree\n",
    "from sklearn import tree\n",
    "tree_model = tree.DecisionTreeClassifier(max_depth=4, min_samples_split=3)\n",
    "tree_model.fit(X=trnx, y=trny)"
   ],
   "metadata": {
    "collapsed": false,
    "pycharm": {
     "name": "#%%\n"
    }
   }
  },
  {
   "cell_type": "code",
   "execution_count": 39,
   "outputs": [],
   "source": [
    "tree_pred = tree_model.predict(X=tstx)"
   ],
   "metadata": {
    "collapsed": false,
    "pycharm": {
     "name": "#%%\n"
    }
   }
  },
  {
   "cell_type": "code",
   "execution_count": 40,
   "outputs": [
    {
     "data": {
      "text/plain": "array([0.        , 0.        , 0.1724088 , 0.47829738, 0.        ,\n       0.00526397, 0.        , 0.00648036, 0.        , 0.01478125,\n       0.07684285, 0.05569955, 0.        , 0.03394627, 0.        ,\n       0.        , 0.12873284, 0.        , 0.02754672])"
     },
     "execution_count": 40,
     "metadata": {},
     "output_type": "execute_result"
    }
   ],
   "source": [
    "tree_model.feature_importances_"
   ],
   "metadata": {
    "collapsed": false,
    "pycharm": {
     "name": "#%%\n"
    }
   }
  },
  {
   "cell_type": "code",
   "execution_count": 41,
   "outputs": [],
   "source": [
    "from sklearn.tree import export_graphviz\n",
    "export_graphviz(tree_model, out_file='tree.dot')"
   ],
   "metadata": {
    "collapsed": false,
    "pycharm": {
     "name": "#%%\n"
    }
   }
  },
  {
   "cell_type": "code",
   "execution_count": 42,
   "outputs": [
    {
     "data": {
      "text/plain": "[Text(0.5, 0.9, 'X[3] <= 1.5\\ngini = 0.794\\nsamples = 13122\\nvalue = [1185, 2958, 4486, 1262, 726, 1610, 638, 256, 1]'),\n Text(0.25, 0.7, 'X[2] <= 2.5\\ngini = 0.657\\nsamples = 5203\\nvalue = [42, 406, 2782, 1084, 182, 329, 240, 137, 1]'),\n Text(0.125, 0.5, 'X[18] <= 1.5\\ngini = 0.612\\nsamples = 1235\\nvalue = [7, 43, 376, 665, 35, 54, 28, 26, 1]'),\n Text(0.0625, 0.3, 'X[5] <= 4.5\\ngini = 0.424\\nsamples = 467\\nvalue = [1, 5, 83, 344, 5, 11, 5, 12, 1]'),\n Text(0.03125, 0.1, 'gini = 0.612\\nsamples = 27\\nvalue = [0, 2, 14, 9, 1, 1, 0, 0, 0]'),\n Text(0.09375, 0.1, 'gini = 0.394\\nsamples = 440\\nvalue = [1, 3, 69, 335, 4, 10, 5, 12, 1]'),\n Text(0.1875, 0.3, 'X[7] <= 2.5\\ngini = 0.671\\nsamples = 768\\nvalue = [6, 38, 293, 321, 30, 43, 23, 14, 0]'),\n Text(0.15625, 0.1, 'gini = 0.633\\nsamples = 180\\nvalue = [1, 8, 41, 99, 6, 17, 4, 4, 0]'),\n Text(0.21875, 0.1, 'gini = 0.666\\nsamples = 588\\nvalue = [5, 30, 252, 222, 24, 26, 19, 10, 0]'),\n Text(0.375, 0.5, 'X[11] <= 1962.5\\ngini = 0.603\\nsamples = 3968\\nvalue = [35, 363, 2406, 419, 147, 275, 212, 111, 0]'),\n Text(0.3125, 0.3, 'X[10] <= 1.5\\ngini = 0.698\\nsamples = 1632\\nvalue = [17, 159, 815, 275, 63, 157, 89, 57, 0]'),\n Text(0.28125, 0.1, 'gini = 0.74\\nsamples = 626\\nvalue = [4, 43, 274, 66, 40, 126, 54, 19, 0]'),\n Text(0.34375, 0.1, 'gini = 0.65\\nsamples = 1006\\nvalue = [13, 116, 541, 209, 23, 31, 35, 38, 0]'),\n Text(0.4375, 0.3, 'X[10] <= 1.5\\ngini = 0.517\\nsamples = 2336\\nvalue = [18, 204, 1591, 144, 84, 118, 123, 54, 0]'),\n Text(0.40625, 0.1, 'gini = 0.647\\nsamples = 787\\nvalue = [4, 77, 442, 40, 57, 92, 60, 15, 0]'),\n Text(0.46875, 0.1, 'gini = 0.436\\nsamples = 1549\\nvalue = [14, 127, 1149, 104, 27, 26, 63, 39, 0]'),\n Text(0.75, 0.7, 'X[16] <= 5055.0\\ngini = 0.795\\nsamples = 7919\\nvalue = [1143, 2552, 1704, 178, 544, 1281, 398, 119, 0]'),\n Text(0.625, 0.5, 'X[13] <= 161.0\\ngini = 0.787\\nsamples = 3814\\nvalue = [936, 1160, 376, 103, 223, 811, 134, 71, 0]'),\n Text(0.5625, 0.3, 'X[3] <= 6.0\\ngini = 0.779\\nsamples = 1703\\nvalue = [542, 365, 102, 81, 85, 431, 52, 45, 0]'),\n Text(0.53125, 0.1, 'gini = 0.757\\nsamples = 1524\\nvalue = [530, 342, 80, 21, 77, 387, 49, 38, 0]'),\n Text(0.59375, 0.1, 'gini = 0.787\\nsamples = 179\\nvalue = [12, 23, 22, 60, 8, 44, 3, 7, 0]'),\n Text(0.6875, 0.3, 'X[11] <= 1968.5\\ngini = 0.768\\nsamples = 2111\\nvalue = [394, 795, 274, 22, 138, 380, 82, 26, 0]'),\n Text(0.65625, 0.1, 'gini = 0.792\\nsamples = 812\\nvalue = [167, 235, 93, 14, 59, 201, 30, 13, 0]'),\n Text(0.71875, 0.1, 'gini = 0.74\\nsamples = 1299\\nvalue = [227, 560, 181, 8, 79, 179, 52, 13, 0]'),\n Text(0.875, 0.5, 'X[10] <= 1.5\\ngini = 0.754\\nsamples = 4105\\nvalue = [207, 1392, 1328, 75, 321, 470, 264, 48, 0]'),\n Text(0.8125, 0.3, 'X[11] <= 1975.5\\ngini = 0.786\\nsamples = 2732\\nvalue = [169, 889, 680, 47, 287, 441, 198, 21, 0]'),\n Text(0.78125, 0.1, 'gini = 0.806\\nsamples = 1495\\nvalue = [103, 409, 321, 27, 172, 327, 121, 15, 0]'),\n Text(0.84375, 0.1, 'gini = 0.741\\nsamples = 1237\\nvalue = [66, 480, 359, 20, 115, 114, 77, 6, 0]'),\n Text(0.9375, 0.3, 'X[9] <= 1.5\\ngini = 0.638\\nsamples = 1373\\nvalue = [38, 503, 648, 28, 34, 29, 66, 27, 0]'),\n Text(0.90625, 0.1, 'gini = 0.624\\nsamples = 1216\\nvalue = [28, 410, 617, 26, 28, 25, 62, 20, 0]'),\n Text(0.96875, 0.1, 'gini = 0.601\\nsamples = 157\\nvalue = [10, 93, 31, 2, 6, 4, 4, 7, 0]')]"
     },
     "execution_count": 42,
     "metadata": {},
     "output_type": "execute_result"
    },
    {
     "data": {
      "text/plain": "<Figure size 432x288 with 1 Axes>",
      "image/png": "[encoded data removed]"
     },
     "metadata": {
      "needs_background": "light"
     },
     "output_type": "display_data"
    }
   ],
   "source": [
    "tree.plot_tree(tree_model)"
   ],
   "metadata": {
    "collapsed": false,
    "pycharm": {
     "name": "#%%\n"
    }
   }
  },
  {
   "cell_type": "code",
   "execution_count": 43,
   "outputs": [
    {
     "data": {
      "text/plain": "array([[ 228,  279,   30,    6,    0,    0,    0,    0],\n       [ 132,  734,  336,   20,    0,    0,    0,    0],\n       [  39,  437, 1407,   63,    0,    0,    0,    0],\n       [  11,   25,  309,  220,    0,    0,    0,    0],\n       [  25,  157,   84,    6,    0,    0,    0,    0],\n       [ 150,  360,  145,   18,    0,    0,    0,    0],\n       [  30,  124,  134,    5,    0,    0,    0,    0],\n       [  15,   23,   66,    6,    0,    0,    0,    0]], dtype=int64)"
     },
     "execution_count": 43,
     "metadata": {},
     "output_type": "execute_result"
    }
   ],
   "source": [
    "from sklearn.metrics import confusion_matrix\n",
    "confusion_matrix(tsty, tree_model.predict(tstx))"
   ],
   "metadata": {
    "collapsed": false,
    "pycharm": {
     "name": "#%%\n"
    }
   }
  },
  {
   "cell_type": "code",
   "execution_count": 44,
   "outputs": [
    {
     "data": {
      "text/plain": "DecisionTreeClassifier()"
     },
     "execution_count": 44,
     "metadata": {},
     "output_type": "execute_result"
    }
   ],
   "source": [
    "from sklearn.tree import DecisionTreeClassifier\n",
    "tree_model = DecisionTreeClassifier()\n",
    "tree_model.fit(X=trnx, y=trny)"
   ],
   "metadata": {
    "collapsed": false,
    "pycharm": {
     "name": "#%%\n"
    }
   }
  },
  {
   "cell_type": "code",
   "execution_count": 45,
   "outputs": [
    {
     "name": "stderr",
     "output_type": "stream",
     "text": [
      "C:\\Users\\chopper\\anaconda3\\envs\\machinelearning\\lib\\site-packages\\ipykernel_launcher.py:4: DataConversionWarning: A column-vector y was passed when a 1d array was expected. Please change the shape of y to (n_samples,), for example using ravel().\n",
      "  after removing the cwd from sys.path.\n"
     ]
    },
    {
     "data": {
      "text/plain": "RandomForestClassifier(max_depth=15, random_state=0)"
     },
     "execution_count": 45,
     "metadata": {},
     "output_type": "execute_result"
    }
   ],
   "source": [
    "## Ensemble\n",
    "from sklearn.ensemble import RandomForestClassifier\n",
    "rf_model = RandomForestClassifier(max_depth=15, n_estimators=100, random_state=0)\n",
    "rf_model.fit(X=trnx, y=trny)"
   ],
   "metadata": {
    "collapsed": false,
    "pycharm": {
     "name": "#%%\n"
    }
   }
  },
  {
   "cell_type": "code",
   "execution_count": 46,
   "outputs": [],
   "source": [
    "rf_pred = rf_model.predict(X=tstx)"
   ],
   "metadata": {
    "collapsed": false,
    "pycharm": {
     "name": "#%%\n"
    }
   }
  },
  {
   "cell_type": "code",
   "execution_count": 47,
   "outputs": [
    {
     "name": "stdout",
     "output_type": "stream",
     "text": [
      "0.5035561877667141\n"
     ]
    }
   ],
   "source": [
    "from sklearn import metrics\n",
    "print(metrics.accuracy_score(tsty, rf_pred))"
   ],
   "metadata": {
    "collapsed": false,
    "pycharm": {
     "name": "#%%\n"
    }
   }
  },
  {
   "cell_type": "code",
   "execution_count": 48,
   "outputs": [
    {
     "name": "stderr",
     "output_type": "stream",
     "text": [
      "C:\\Users\\chopper\\anaconda3\\envs\\machinelearning\\lib\\site-packages\\sklearn\\ensemble\\_gb.py:494: DataConversionWarning: A column-vector y was passed when a 1d array was expected. Please change the shape of y to (n_samples, ), for example using ravel().\n",
      "  y = column_or_1d(y, warn=True)\n"
     ]
    },
    {
     "data": {
      "text/plain": "GradientBoostingClassifier(n_estimators=30, random_state=0)"
     },
     "execution_count": 48,
     "metadata": {},
     "output_type": "execute_result"
    }
   ],
   "source": [
    "from sklearn.ensemble import GradientBoostingClassifier\n",
    "gbm_model = GradientBoostingClassifier(max_depth=3, n_estimators = 30, random_state = 0)\n",
    "gbm_model.fit(X=trnx, y=trny)"
   ],
   "metadata": {
    "collapsed": false,
    "pycharm": {
     "name": "#%%\n"
    }
   }
  },
  {
   "cell_type": "code",
   "execution_count": 49,
   "outputs": [],
   "source": [
    "gbm_pred = gbm_model.predict(X=tstx)"
   ],
   "metadata": {
    "collapsed": false,
    "pycharm": {
     "name": "#%%\n"
    }
   }
  },
  {
   "cell_type": "code",
   "execution_count": 50,
   "outputs": [
    {
     "name": "stdout",
     "output_type": "stream",
     "text": [
      "0.4870199146514936\n"
     ]
    }
   ],
   "source": [
    "from sklearn import metrics\n",
    "print(metrics.accuracy_score(tsty, gbm_pred))"
   ],
   "metadata": {
    "collapsed": false,
    "pycharm": {
     "name": "#%%\n"
    }
   }
  },
  {
   "cell_type": "code",
   "execution_count": 51,
   "outputs": [
    {
     "name": "stdout",
     "output_type": "stream",
     "text": [
      "[0.46034851 0.48701991]\n"
     ]
    }
   ],
   "source": [
    "## Performance Evaluation\n",
    "from sklearn.metrics import accuracy_score\n",
    "acc = np.array([accuracy_score(tsty, tree_pred),accuracy_score(tsty, gbm_pred)])\n",
    "print(acc)"
   ],
   "metadata": {
    "collapsed": false,
    "pycharm": {
     "name": "#%%\n"
    }
   }
  },
  {
   "cell_type": "code",
   "execution_count": 52,
   "outputs": [
    {
     "data": {
      "text/plain": "array([[ 228,  279,   30,    6,    0,    0,    0,    0],\n       [ 132,  734,  336,   20,    0,    0,    0,    0],\n       [  39,  437, 1407,   63,    0,    0,    0,    0],\n       [  11,   25,  309,  220,    0,    0,    0,    0],\n       [  25,  157,   84,    6,    0,    0,    0,    0],\n       [ 150,  360,  145,   18,    0,    0,    0,    0],\n       [  30,  124,  134,    5,    0,    0,    0,    0],\n       [  15,   23,   66,    6,    0,    0,    0,    0]], dtype=int64)"
     },
     "execution_count": 52,
     "metadata": {},
     "output_type": "execute_result"
    }
   ],
   "source": [
    "from sklearn.metrics import confusion_matrix\n",
    "confusion_matrix(tsty, tree_pred)"
   ],
   "metadata": {
    "collapsed": false,
    "pycharm": {
     "name": "#%%\n"
    }
   }
  },
  {
   "cell_type": "code",
   "execution_count": 53,
   "outputs": [
    {
     "data": {
      "text/plain": "array([[ 185,  246,   28,    6,    1,   76,    0,    1],\n       [  71,  656,  392,   13,    1,   88,    0,    1],\n       [  17,  313, 1484,   98,    0,   34,    0,    0],\n       [   6,   21,  242,  289,    0,    6,    0,    1],\n       [  11,  109,  120,    5,    0,   26,    0,    1],\n       [  95,  270,  169,   13,    2,  124,    0,    0],\n       [  18,   99,  147,    2,    0,   25,    1,    1],\n       [  12,   20,   60,    9,    0,    9,    0,    0]], dtype=int64)"
     },
     "execution_count": 53,
     "metadata": {},
     "output_type": "execute_result"
    }
   ],
   "source": [
    "confusion_matrix(tsty, gbm_pred)"
   ],
   "metadata": {
    "collapsed": false,
    "pycharm": {
     "name": "#%%\n"
    }
   }
  },
  {
   "cell_type": "code",
   "execution_count": null,
   "outputs": [],
   "source": [],
   "metadata": {
    "collapsed": false,
    "pycharm": {
     "name": "#%%\n"
    }
   }
  }
 ],
 "metadata": {
  "kernelspec": {
   "display_name": "Python 3",
   "language": "python",
   "name": "python3"
  },
  "language_info": {
   "codemirror_mode": {
    "name": "ipython",
    "version": 2
   },
   "file_extension": ".py",
   "mimetype": "text/x-python",
   "name": "python",
   "nbconvert_exporter": "python",
   "pygments_lexer": "ipython2",
   "version": "2.7.6"
  }
 },
 "nbformat": 4,
 "nbformat_minor": 0
}