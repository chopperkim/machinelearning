{
 "cells": [
  {
   "cell_type": "code",
   "execution_count": 1,
   "outputs": [
    {
     "data": {
      "text/plain": "   주택유형  점유형태  주택나이  이사계획  공공임대주택입주의향  월평균가구소득  생활비    총자산    총부채  최종학력  주거지원1\n0     2     2     8     2           1      180  100   6500      0     1      2\n1     2     3     7     2           1       70   70   9000      0     2      6\n2     2     1     8     2           2       60   60  40000      0     1      4\n3     6     1     8     2           1      248  230  23000      0     1      6\n4     6     3     7     2           1      120  120  13000  13000     1      2",
      "text/html": "<div>\n<style scoped>\n    .dataframe tbody tr th:only-of-type {\n        vertical-align: middle;\n    }\n\n    .dataframe tbody tr th {\n        vertical-align: top;\n    }\n\n    .dataframe thead th {\n        text-align: right;\n    }\n</style>\n<table border=\"1\" class=\"dataframe\">\n  <thead>\n    <tr style=\"text-align: right;\">\n      <th></th>\n      <th>주택유형</th>\n      <th>점유형태</th>\n      <th>주택나이</th>\n      <th>이사계획</th>\n      <th>공공임대주택입주의향</th>\n      <th>월평균가구소득</th>\n      <th>생활비</th>\n      <th>총자산</th>\n      <th>총부채</th>\n      <th>최종학력</th>\n      <th>주거지원1</th>\n    </tr>\n  </thead>\n  <tbody>\n    <tr>\n      <th>0</th>\n      <td>2</td>\n      <td>2</td>\n      <td>8</td>\n      <td>2</td>\n      <td>1</td>\n      <td>180</td>\n      <td>100</td>\n      <td>6500</td>\n      <td>0</td>\n      <td>1</td>\n      <td>2</td>\n    </tr>\n    <tr>\n      <th>1</th>\n      <td>2</td>\n      <td>3</td>\n      <td>7</td>\n      <td>2</td>\n      <td>1</td>\n      <td>70</td>\n      <td>70</td>\n      <td>9000</td>\n      <td>0</td>\n      <td>2</td>\n      <td>6</td>\n    </tr>\n    <tr>\n      <th>2</th>\n      <td>2</td>\n      <td>1</td>\n      <td>8</td>\n      <td>2</td>\n      <td>2</td>\n      <td>60</td>\n      <td>60</td>\n      <td>40000</td>\n      <td>0</td>\n      <td>1</td>\n      <td>4</td>\n    </tr>\n    <tr>\n      <th>3</th>\n      <td>6</td>\n      <td>1</td>\n      <td>8</td>\n      <td>2</td>\n      <td>1</td>\n      <td>248</td>\n      <td>230</td>\n      <td>23000</td>\n      <td>0</td>\n      <td>1</td>\n      <td>6</td>\n    </tr>\n    <tr>\n      <th>4</th>\n      <td>6</td>\n      <td>3</td>\n      <td>7</td>\n      <td>2</td>\n      <td>1</td>\n      <td>120</td>\n      <td>120</td>\n      <td>13000</td>\n      <td>13000</td>\n      <td>1</td>\n      <td>2</td>\n    </tr>\n  </tbody>\n</table>\n</div>"
     },
     "execution_count": 1,
     "metadata": {},
     "output_type": "execute_result"
    }
   ],
   "source": [
    "import numpy as np\n",
    "import pandas as pd\n",
    "import matplotlib.pyplot as plt\n",
    "%matplotlib inline\n",
    "## import data\n",
    "data_path = \"data/housing_target1.csv\"\n",
    "housing_data = pd.read_csv(data_path)\n",
    "housing_data.head(5)"
   ],
   "metadata": {
    "collapsed": false,
    "pycharm": {
     "name": "#%%\n"
    }
   }
  },
  {
   "cell_type": "code",
   "execution_count": 2,
   "outputs": [
    {
     "name": "stdout",
     "output_type": "stream",
     "text": [
      "[[    2     2     8     2     1   180   100  6500     0     1     2]\n",
      " [    2     3     7     2     1    70    70  9000     0     2     6]\n",
      " [    2     1     8     2     2    60    60 40000     0     1     4]\n",
      " [    6     1     8     2     1   248   230 23000     0     1     6]\n",
      " [    6     3     7     2     1   120   120 13000 13000     1     2]]\n",
      "(18746, 11)\n"
     ]
    }
   ],
   "source": [
    "np_housing_data = np.array(housing_data)\n",
    "print(np_housing_data[0:5, :])\n",
    "print(np_housing_data.shape)"
   ],
   "metadata": {
    "collapsed": false,
    "pycharm": {
     "name": "#%%\n"
    }
   }
  },
  {
   "cell_type": "code",
   "execution_count": 3,
   "outputs": [
    {
     "name": "stdout",
     "output_type": "stream",
     "text": [
      "[[    2     2     8     2     1   180   100  6500     0     1]\n",
      " [    2     3     7     2     1    70    70  9000     0     2]\n",
      " [    2     1     8     2     2    60    60 40000     0     1]\n",
      " [    6     1     8     2     1   248   230 23000     0     1]\n",
      " [    6     3     7     2     1   120   120 13000 13000     1]]\n",
      "[[2]\n",
      " [6]\n",
      " [4]\n",
      " [6]\n",
      " [2]\n",
      " [2]\n",
      " [2]\n",
      " [6]\n",
      " [2]\n",
      " [2]]\n"
     ]
    }
   ],
   "source": [
    "datax = np_housing_data[:,:10]\n",
    "datay = np_housing_data[:,10:]\n",
    "print(datax[0:5,:])\n",
    "print(datay[0:10])"
   ],
   "metadata": {
    "collapsed": false,
    "pycharm": {
     "name": "#%%\n"
    }
   }
  },
  {
   "cell_type": "code",
   "execution_count": 4,
   "outputs": [
    {
     "name": "stdout",
     "output_type": "stream",
     "text": [
      "(13122, 10) (5624, 10) (13122, 1) (5624, 1)\n"
     ]
    }
   ],
   "source": [
    "from sklearn.model_selection import train_test_split\n",
    "trnx, tstx, trny, tsty = train_test_split(datax, datay, test_size=0.3)\n",
    "print(trnx.shape, tstx.shape, trny.shape, tsty.shape)"
   ],
   "metadata": {
    "collapsed": false,
    "pycharm": {
     "name": "#%%\n"
    }
   }
  },
  {
   "cell_type": "code",
   "execution_count": 5,
   "outputs": [
    {
     "name": "stdout",
     "output_type": "stream",
     "text": [
      "-1.4718190266754776 3.831385231668093\n",
      "-1.4718190266754776 3.831385231668093\n"
     ]
    }
   ],
   "source": [
    "from sklearn.preprocessing import MinMaxScaler # Step 1\n",
    "from sklearn.preprocessing import StandardScaler\n",
    "scaler = StandardScaler()\n",
    "\n",
    "# scaler = MinMaxScaler() # Step 2\n",
    "scaler.fit(trnx) # Step 3\n",
    "trnx_scale = scaler.transform(trnx) # Step 4\n",
    "tstx_scale = scaler.transform(tstx) # Step 4\n",
    "print(np.min(trnx_scale[:,0]), np.max(trnx_scale[:,0]))\n",
    "print(np.min(tstx_scale[:,0]), np.max(tstx_scale[:,0]))"
   ],
   "metadata": {
    "collapsed": false,
    "pycharm": {
     "name": "#%%\n"
    }
   }
  },
  {
   "cell_type": "code",
   "execution_count": 6,
   "outputs": [
    {
     "name": "stderr",
     "output_type": "stream",
     "text": [
      "/Users/chopper/.conda/envs/machinelearning/lib/python3.7/site-packages/sklearn/neighbors/_classification.py:198: DataConversionWarning: A column-vector y was passed when a 1d array was expected. Please change the shape of y to (n_samples,), for example using ravel().\n",
      "  return self._fit(X, y)\n"
     ]
    },
    {
     "data": {
      "text/plain": "KNeighborsClassifier()"
     },
     "execution_count": 6,
     "metadata": {},
     "output_type": "execute_result"
    }
   ],
   "source": [
    "## kNN\n",
    "from sklearn import neighbors\n",
    "k=5\n",
    "knn_model = neighbors.KNeighborsClassifier(n_neighbors=k)\n",
    "knn_model.fit(X=trnx_scale, y=trny)"
   ],
   "metadata": {
    "collapsed": false,
    "pycharm": {
     "name": "#%%\n"
    }
   }
  },
  {
   "cell_type": "code",
   "execution_count": 7,
   "outputs": [],
   "source": [
    "knn_pred_trn = knn_model.predict(X=trnx_scale)\n",
    "knn_pred_tst = knn_model.predict(X=tstx_scale)"
   ],
   "metadata": {
    "collapsed": false,
    "pycharm": {
     "name": "#%%\n"
    }
   }
  },
  {
   "cell_type": "code",
   "execution_count": 8,
   "outputs": [
    {
     "name": "stdout",
     "output_type": "stream",
     "text": [
      "[6 1 3 ... 3 3 3]\n",
      "[3 1 2 ... 3 3 3]\n"
     ]
    }
   ],
   "source": [
    "print(knn_pred_trn)\n",
    "print(knn_pred_tst)"
   ],
   "metadata": {
    "collapsed": false,
    "pycharm": {
     "name": "#%%\n"
    }
   }
  },
  {
   "cell_type": "code",
   "execution_count": 9,
   "outputs": [
    {
     "name": "stdout",
     "output_type": "stream",
     "text": [
      "0.5864959609815577\n",
      "0.45216927453769556\n"
     ]
    }
   ],
   "source": [
    "from sklearn import metrics\n",
    "print(metrics.accuracy_score(trny, knn_pred_trn))\n",
    "print(metrics.accuracy_score(tsty, knn_pred_tst))"
   ],
   "metadata": {
    "collapsed": false,
    "pycharm": {
     "name": "#%%\n"
    }
   }
  },
  {
   "cell_type": "code",
   "execution_count": 10,
   "outputs": [
    {
     "data": {
      "text/plain": "DecisionTreeClassifier(max_depth=3, min_samples_split=9)"
     },
     "execution_count": 10,
     "metadata": {},
     "output_type": "execute_result"
    }
   ],
   "source": [
    "## Decision Tree\n",
    "from sklearn.tree import DecisionTreeClassifier\n",
    "tree_model = DecisionTreeClassifier(max_depth=3, min_samples_split=9)\n",
    "tree_model.fit(X=trnx_scale, y=trny)"
   ],
   "metadata": {
    "collapsed": false,
    "pycharm": {
     "name": "#%%\n"
    }
   }
  },
  {
   "cell_type": "code",
   "execution_count": 11,
   "outputs": [],
   "source": [
    "tree_pred = tree_model.predict(X=tstx_scale)"
   ],
   "metadata": {
    "collapsed": false,
    "pycharm": {
     "name": "#%%\n"
    }
   }
  },
  {
   "cell_type": "code",
   "execution_count": 12,
   "outputs": [
    {
     "data": {
      "text/plain": "array([0.19878218, 0.50557507, 0.        , 0.        , 0.09046851,\n       0.03405259, 0.        , 0.14008095, 0.        , 0.0310407 ])"
     },
     "execution_count": 12,
     "metadata": {},
     "output_type": "execute_result"
    }
   ],
   "source": [
    "tree_model.feature_importances_"
   ],
   "metadata": {
    "collapsed": false,
    "pycharm": {
     "name": "#%%\n"
    }
   }
  },
  {
   "cell_type": "code",
   "execution_count": 13,
   "outputs": [],
   "source": [
    "from sklearn.tree import export_graphviz\n",
    "export_graphviz(tree_model, out_file='term_project.dot', max_depth=3)"
   ],
   "metadata": {
    "collapsed": false,
    "pycharm": {
     "name": "#%%\n"
    }
   }
  },
  {
   "cell_type": "code",
   "execution_count": 14,
   "outputs": [
    {
     "data": {
      "text/plain": "[Text(0.5, 0.875, 'X[1] <= -0.493\\ngini = 0.795\\nsamples = 13122\\nvalue = [1203, 2925, 4486, 1289, 683, 1600, 673, 262, 1]'),\n Text(0.25, 0.625, 'X[0] <= -0.676\\ngini = 0.663\\nsamples = 5241\\nvalue = [44, 427, 2754, 1120, 175, 342, 242, 136, 1]'),\n Text(0.125, 0.375, 'X[9] <= -1.54\\ngini = 0.61\\nsamples = 1283\\nvalue = [9, 44, 395, 692, 30, 54, 33, 25, 1]'),\n Text(0.0625, 0.125, 'gini = 0.431\\nsamples = 492\\nvalue = [1, 10, 92, 359, 4, 9, 5, 11, 1]'),\n Text(0.1875, 0.125, 'gini = 0.668\\nsamples = 791\\nvalue = [8, 34, 303, 333, 26, 45, 28, 14, 0]'),\n Text(0.375, 0.375, 'X[4] <= 0.145\\ngini = 0.613\\nsamples = 3958\\nvalue = [35, 383, 2359, 428, 145, 288, 209, 111, 0]'),\n Text(0.3125, 0.125, 'gini = 0.708\\nsamples = 1409\\nvalue = [7, 125, 691, 114, 99, 221, 116, 36, 0]'),\n Text(0.4375, 0.125, 'gini = 0.543\\nsamples = 2549\\nvalue = [28, 258, 1668, 314, 46, 67, 93, 75, 0]'),\n Text(0.75, 0.625, 'X[7] <= -0.24\\ngini = 0.796\\nsamples = 7881\\nvalue = [1159, 2498, 1732, 169, 508, 1258, 431, 126, 0]'),\n Text(0.625, 0.375, 'X[5] <= -0.137\\ngini = 0.79\\nsamples = 3790\\nvalue = [949, 1129, 412, 98, 199, 773, 156, 74, 0]'),\n Text(0.5625, 0.125, 'gini = 0.783\\nsamples = 1682\\nvalue = [532, 366, 104, 80, 82, 409, 63, 46, 0]'),\n Text(0.6875, 0.125, 'gini = 0.773\\nsamples = 2108\\nvalue = [417, 763, 308, 18, 117, 364, 93, 28, 0]'),\n Text(0.875, 0.375, 'X[4] <= 0.145\\ngini = 0.757\\nsamples = 4091\\nvalue = [210, 1369, 1320, 71, 309, 485, 275, 52, 0]'),\n Text(0.8125, 0.125, 'gini = 0.787\\nsamples = 2702\\nvalue = [170, 876, 660, 49, 268, 454, 198, 27, 0]'),\n Text(0.9375, 0.125, 'gini = 0.642\\nsamples = 1389\\nvalue = [40, 493, 660, 22, 41, 31, 77, 25, 0]')]"
     },
     "execution_count": 14,
     "metadata": {},
     "output_type": "execute_result"
    },
    {
     "data": {
      "text/plain": "<Figure size 432x288 with 1 Axes>",
      "image/png": "[encoded data removed]"
     },
     "metadata": {
      "needs_background": "light"
     },
     "output_type": "display_data"
    }
   ],
   "source": [
    "from sklearn.tree import plot_tree\n",
    "plot_tree(tree_model)"
   ],
   "metadata": {
    "collapsed": false,
    "pycharm": {
     "name": "#%%\n"
    }
   }
  },
  {
   "cell_type": "code",
   "execution_count": 15,
   "outputs": [
    {
     "data": {
      "text/plain": "array([[ 245,  244,   33,    3,    0,    0,    0,    0],\n       [ 147,  746,  341,   21,    0,    0,    0,    0],\n       [  46,  406, 1344,  150,    0,    0,    0,    0],\n       [  30,   26,  204,  278,    0,    0,    0,    0],\n       [  29,  193,   79,   14,    0,    0,    0,    0],\n       [ 183,  360,  121,   19,    0,    0,    0,    0],\n       [  22,  109,  120,    7,    0,    0,    0,    0],\n       [  16,   15,   60,   13,    0,    0,    0,    0]])"
     },
     "execution_count": 15,
     "metadata": {},
     "output_type": "execute_result"
    }
   ],
   "source": [
    "from sklearn.metrics import confusion_matrix\n",
    "tsty_pred = tree_model.predict(tstx_scale)\n",
    "confusion_matrix(tsty, tsty_pred)"
   ],
   "metadata": {
    "collapsed": false,
    "pycharm": {
     "name": "#%%\n"
    }
   }
  },
  {
   "cell_type": "code",
   "execution_count": 16,
   "outputs": [
    {
     "name": "stdout",
     "output_type": "stream",
     "text": [
      "0.46461593172119486\n",
      "0.22887101901031437\n",
      "0.2835581354966679\n"
     ]
    },
    {
     "name": "stderr",
     "output_type": "stream",
     "text": [
      "/Users/chopper/.conda/envs/machinelearning/lib/python3.7/site-packages/sklearn/metrics/_classification.py:1318: UndefinedMetricWarning: Precision is ill-defined and being set to 0.0 in labels with no predicted samples. Use `zero_division` parameter to control this behavior.\n",
      "  _warn_prf(average, modifier, msg_start, len(result))\n"
     ]
    }
   ],
   "source": [
    "from sklearn import metrics\n",
    "print(metrics.accuracy_score(tsty, tsty_pred))\n",
    "print(metrics.precision_score(tsty, tsty_pred, average='macro'))\n",
    "print(metrics.recall_score(tsty, tsty_pred, average='macro'))"
   ],
   "metadata": {
    "collapsed": false,
    "pycharm": {
     "name": "#%%\n"
    }
   }
  },
  {
   "cell_type": "code",
   "execution_count": 18,
   "outputs": [
    {
     "name": "stderr",
     "output_type": "stream",
     "text": [
      "/Users/chopper/.conda/envs/machinelearning/lib/python3.7/site-packages/ipykernel_launcher.py:4: DataConversionWarning: A column-vector y was passed when a 1d array was expected. Please change the shape of y to (n_samples,), for example using ravel().\n",
      "  after removing the cwd from sys.path.\n"
     ]
    },
    {
     "data": {
      "text/plain": "RandomForestClassifier(max_depth=10, random_state=0)"
     },
     "execution_count": 18,
     "metadata": {},
     "output_type": "execute_result"
    }
   ],
   "source": [
    "## Ensemble\n",
    "from sklearn.ensemble import RandomForestClassifier\n",
    "rf_model = RandomForestClassifier(max_depth=10, n_estimators=100, random_state=0)\n",
    "rf_model.fit(X=trnx_scale, y=trny)"
   ],
   "metadata": {
    "collapsed": false,
    "pycharm": {
     "name": "#%%\n"
    }
   }
  },
  {
   "cell_type": "code",
   "execution_count": 19,
   "outputs": [],
   "source": [
    "rf_pred = rf_model.predict(X=tstx_scale)"
   ],
   "metadata": {
    "collapsed": false,
    "pycharm": {
     "name": "#%%\n"
    }
   }
  },
  {
   "cell_type": "code",
   "execution_count": 20,
   "outputs": [
    {
     "name": "stdout",
     "output_type": "stream",
     "text": [
      "0.5026671408250356\n"
     ]
    }
   ],
   "source": [
    "print(metrics.accuracy_score(tsty, rf_pred))"
   ],
   "metadata": {
    "collapsed": false,
    "pycharm": {
     "name": "#%%\n"
    }
   }
  },
  {
   "cell_type": "code",
   "execution_count": 21,
   "outputs": [
    {
     "name": "stderr",
     "output_type": "stream",
     "text": [
      "/Users/chopper/.conda/envs/machinelearning/lib/python3.7/site-packages/sklearn/ensemble/_gb.py:494: DataConversionWarning: A column-vector y was passed when a 1d array was expected. Please change the shape of y to (n_samples, ), for example using ravel().\n",
      "  y = column_or_1d(y, warn=True)\n"
     ]
    },
    {
     "data": {
      "text/plain": "GradientBoostingClassifier(max_depth=10, n_estimators=30, random_state=0)"
     },
     "execution_count": 21,
     "metadata": {},
     "output_type": "execute_result"
    }
   ],
   "source": [
    "from sklearn.ensemble import GradientBoostingClassifier\n",
    "gbm_model = GradientBoostingClassifier(max_depth=10, n_estimators = 30, random_state = 0)\n",
    "gbm_model.fit(X=trnx_scale, y=trny)"
   ],
   "metadata": {
    "collapsed": false,
    "pycharm": {
     "name": "#%%\n"
    }
   }
  },
  {
   "cell_type": "code",
   "execution_count": 22,
   "outputs": [],
   "source": [
    "gbm_pred = gbm_model.predict(X=tstx_scale)"
   ],
   "metadata": {
    "collapsed": false,
    "pycharm": {
     "name": "#%%\n"
    }
   }
  },
  {
   "cell_type": "code",
   "execution_count": 23,
   "outputs": [
    {
     "name": "stdout",
     "output_type": "stream",
     "text": [
      "0.47688477951635844\n"
     ]
    }
   ],
   "source": [
    "from sklearn import metrics\n",
    "print(metrics.accuracy_score(tsty, gbm_pred))"
   ],
   "metadata": {
    "collapsed": false,
    "pycharm": {
     "name": "#%%\n"
    }
   }
  },
  {
   "cell_type": "code",
   "execution_count": 24,
   "outputs": [
    {
     "name": "stdout",
     "output_type": "stream",
     "text": [
      "[0.46461593 0.47688478]\n"
     ]
    }
   ],
   "source": [
    "## Performance Evaluation\n",
    "from sklearn.metrics import accuracy_score\n",
    "acc = np.array([accuracy_score(tsty, tree_pred),accuracy_score(tsty, gbm_pred)])\n",
    "print(acc)"
   ],
   "metadata": {
    "collapsed": false,
    "pycharm": {
     "name": "#%%\n"
    }
   }
  },
  {
   "cell_type": "code",
   "execution_count": 25,
   "outputs": [
    {
     "data": {
      "text/plain": "array([[ 245,  244,   33,    3,    0,    0,    0,    0],\n       [ 147,  746,  341,   21,    0,    0,    0,    0],\n       [  46,  406, 1344,  150,    0,    0,    0,    0],\n       [  30,   26,  204,  278,    0,    0,    0,    0],\n       [  29,  193,   79,   14,    0,    0,    0,    0],\n       [ 183,  360,  121,   19,    0,    0,    0,    0],\n       [  22,  109,  120,    7,    0,    0,    0,    0],\n       [  16,   15,   60,   13,    0,    0,    0,    0]])"
     },
     "execution_count": 25,
     "metadata": {},
     "output_type": "execute_result"
    }
   ],
   "source": [
    "from sklearn.metrics import confusion_matrix\n",
    "confusion_matrix(tsty, tree_pred)"
   ],
   "metadata": {
    "collapsed": false,
    "pycharm": {
     "name": "#%%\n"
    }
   }
  },
  {
   "cell_type": "code",
   "execution_count": 26,
   "outputs": [
    {
     "data": {
      "text/plain": "array([[ 203,  191,   35,    5,    5,   83,    2,    1],\n       [ 119,  605,  363,   18,   18,  113,   15,    4],\n       [  29,  292, 1426,   96,   16,   58,   15,   14],\n       [   8,   20,  221,  254,    5,   18,    4,    8],\n       [  23,  120,  106,    8,   13,   39,    4,    2],\n       [  94,  232,  130,   21,   15,  174,   10,    7],\n       [  16,   67,  133,    6,    5,   23,    7,    1],\n       [   8,   20,   55,   11,    1,    5,    4,    0]])"
     },
     "execution_count": 26,
     "metadata": {},
     "output_type": "execute_result"
    }
   ],
   "source": [
    "confusion_matrix(tsty, gbm_pred)"
   ],
   "metadata": {
    "collapsed": false,
    "pycharm": {
     "name": "#%%\n"
    }
   }
  },
  {
   "cell_type": "code",
   "execution_count": 27,
   "outputs": [
    {
     "name": "stdout",
     "output_type": "stream",
     "text": [
      "Model: \"sequential\"\n",
      "_________________________________________________________________\n",
      "Layer (type)                 Output Shape              Param #   \n",
      "=================================================================\n",
      "dense (Dense)                (None, 64)                704       \n",
      "_________________________________________________________________\n",
      "dense_1 (Dense)              (None, 512)               33280     \n",
      "_________________________________________________________________\n",
      "dense_2 (Dense)              (None, 256)               131328    \n",
      "_________________________________________________________________\n",
      "dense_3 (Dense)              (None, 128)               32896     \n",
      "_________________________________________________________________\n",
      "dense_4 (Dense)              (None, 64)                8256      \n",
      "_________________________________________________________________\n",
      "dense_5 (Dense)              (None, 9)                 585       \n",
      "=================================================================\n",
      "Total params: 207,049\n",
      "Trainable params: 207,049\n",
      "Non-trainable params: 0\n",
      "_________________________________________________________________\n"
     ]
    },
    {
     "name": "stderr",
     "output_type": "stream",
     "text": [
      "2022-06-19 14:16:15.308300: I tensorflow/core/platform/cpu_feature_guard.cc:145] This TensorFlow binary is optimized with Intel(R) MKL-DNN to use the following CPU instructions in performance critical operations:  SSE4.1 SSE4.2 AVX AVX2 FMA\n",
      "To enable them in non-MKL-DNN operations, rebuild TensorFlow with the appropriate compiler flags.\n",
      "2022-06-19 14:16:15.308551: I tensorflow/core/common_runtime/process_util.cc:115] Creating new thread pool with default inter op setting: 8. Tune using inter_op_parallelism_threads for best performance.\n"
     ]
    }
   ],
   "source": [
    "# tensorflow keras NN 1\n",
    "import tensorflow as tf\n",
    "from tensorflow.keras import layers, models, optimizers\n",
    "input_shape = (10, )\n",
    "mlp_model1 = models.Sequential()\n",
    "mlp_model1.add(layers.Dense(units=64, activation='relu', input_shape=input_shape))\n",
    "mlp_model1.add(layers.Dense(units=512, activation='relu'))\n",
    "mlp_model1.add(layers.Dense(units=256, activation='relu'))\n",
    "mlp_model1.add(layers.Dense(units=128, activation='relu'))\n",
    "mlp_model1.add(layers.Dense(units=64, activation='relu'))\n",
    "# mlp_model1.add(layers.Dropout(0.1))\n",
    "mlp_model1.add(layers.Dense(units=9, activation='softmax'))\n",
    "mlp_model1.compile(optimizer='Adam', loss='categorical_crossentropy', metrics=['accuracy'])\n",
    "mlp_model1.summary()"
   ],
   "metadata": {
    "collapsed": false,
    "pycharm": {
     "name": "#%%\n"
    }
   }
  },
  {
   "cell_type": "code",
   "execution_count": 28,
   "outputs": [
    {
     "name": "stdout",
     "output_type": "stream",
     "text": [
      "[[0 0 0 0 0 1 0 0 0]\n",
      " [0 0 0 0 0 1 0 0 0]\n",
      " [0 0 1 0 0 0 0 0 0]\n",
      " [0 0 0 1 0 0 0 0 0]\n",
      " [0 0 0 0 0 1 0 0 0]]\n",
      "[[0 1 0 0 0 0 0 0 0]\n",
      " [0 0 0 0 0 0 1 0 0]\n",
      " [0 0 0 0 1 0 0 0 0]\n",
      " [0 0 1 0 0 0 0 0 0]\n",
      " [0 0 0 1 0 0 0 0 0]]\n"
     ]
    }
   ],
   "source": [
    "from sklearn.preprocessing import LabelBinarizer\n",
    "encoder = LabelBinarizer()\n",
    "trny_onehot = encoder.fit_transform(trny)\n",
    "tsty_onehot = encoder.transform(tsty)\n",
    "\n",
    "print(trny_onehot[0:5])\n",
    "print(tsty_onehot[0:5])"
   ],
   "metadata": {
    "collapsed": false,
    "pycharm": {
     "name": "#%%\n"
    }
   }
  },
  {
   "cell_type": "code",
   "execution_count": 29,
   "outputs": [
    {
     "name": "stdout",
     "output_type": "stream",
     "text": [
      "Train on 13122 samples, validate on 5624 samples\n",
      "Epoch 1/50\n",
      "13122/13122 [==============================] - 10s 732us/sample - loss: 1854.2893 - accuracy: 0.2616 - val_loss: 1.8994 - val_accuracy: 0.3460\n",
      "Epoch 2/50\n",
      "13122/13122 [==============================] - 10s 740us/sample - loss: 1.8437 - accuracy: 0.3419 - val_loss: 1.8053 - val_accuracy: 0.3460\n",
      "Epoch 3/50\n",
      "13122/13122 [==============================] - 10s 760us/sample - loss: 1.8039 - accuracy: 0.3419 - val_loss: 1.7901 - val_accuracy: 0.3460\n",
      "Epoch 4/50\n",
      "13122/13122 [==============================] - 11s 801us/sample - loss: 1.7963 - accuracy: 0.3419 - val_loss: 1.7856 - val_accuracy: 0.3460\n",
      "Epoch 5/50\n",
      "13122/13122 [==============================] - 11s 874us/sample - loss: 1.7934 - accuracy: 0.3419 - val_loss: 1.7835 - val_accuracy: 0.3460\n",
      "Epoch 6/50\n",
      "13122/13122 [==============================] - 12s 913us/sample - loss: 1.7921 - accuracy: 0.3419 - val_loss: 1.7825 - val_accuracy: 0.3460\n",
      "Epoch 7/50\n",
      "13122/13122 [==============================] - 12s 895us/sample - loss: 17.5824 - accuracy: 0.3400 - val_loss: 1.7820 - val_accuracy: 0.3460\n",
      "Epoch 8/50\n",
      "13122/13122 [==============================] - 12s 909us/sample - loss: 1.7910 - accuracy: 0.3419 - val_loss: 1.7817 - val_accuracy: 0.3460\n",
      "Epoch 9/50\n",
      "13122/13122 [==============================] - 12s 881us/sample - loss: 1.7909 - accuracy: 0.3419 - val_loss: 1.7816 - val_accuracy: 0.3460\n",
      "Epoch 10/50\n",
      "13122/13122 [==============================] - 12s 910us/sample - loss: 1.7907 - accuracy: 0.3419 - val_loss: 1.7816 - val_accuracy: 0.3460\n",
      "Epoch 11/50\n",
      "13122/13122 [==============================] - 13s 983us/sample - loss: 1.7907 - accuracy: 0.3419 - val_loss: 1.7814 - val_accuracy: 0.3460\n",
      "Epoch 12/50\n",
      "13122/13122 [==============================] - 13s 974us/sample - loss: 1.7905 - accuracy: 0.3419 - val_loss: 1.7812 - val_accuracy: 0.3460\n",
      "Epoch 13/50\n",
      "13122/13122 [==============================] - 12s 928us/sample - loss: 1.7906 - accuracy: 0.3419 - val_loss: 1.7813 - val_accuracy: 0.3460\n",
      "Epoch 14/50\n",
      "13122/13122 [==============================] - 13s 990us/sample - loss: 1.7905 - accuracy: 0.3419 - val_loss: 1.7815 - val_accuracy: 0.3460\n",
      "Epoch 15/50\n",
      "13122/13122 [==============================] - 13s 971us/sample - loss: 1.7906 - accuracy: 0.3419 - val_loss: 1.7814 - val_accuracy: 0.3460\n",
      "Epoch 16/50\n",
      "13122/13122 [==============================] - 13s 1ms/sample - loss: 1.7905 - accuracy: 0.3419 - val_loss: 1.7813 - val_accuracy: 0.3460\n",
      "Epoch 17/50\n",
      "13122/13122 [==============================] - 13s 1ms/sample - loss: 1.7905 - accuracy: 0.3419 - val_loss: 1.7813 - val_accuracy: 0.3460\n",
      "Epoch 18/50\n",
      "13122/13122 [==============================] - 14s 1ms/sample - loss: 1.7905 - accuracy: 0.3419 - val_loss: 1.7812 - val_accuracy: 0.3460\n",
      "Epoch 19/50\n",
      "13122/13122 [==============================] - 14s 1ms/sample - loss: 1.7904 - accuracy: 0.3419 - val_loss: 1.7814 - val_accuracy: 0.3460\n",
      "Epoch 20/50\n",
      "13122/13122 [==============================] - 16s 1ms/sample - loss: 1.7905 - accuracy: 0.3419 - val_loss: 1.7813 - val_accuracy: 0.3460\n",
      "Epoch 21/50\n",
      "13122/13122 [==============================] - 19s 1ms/sample - loss: 1.7905 - accuracy: 0.3419 - val_loss: 1.7813 - val_accuracy: 0.3460\n",
      "Epoch 22/50\n",
      "13122/13122 [==============================] - 18s 1ms/sample - loss: 1.7905 - accuracy: 0.3419 - val_loss: 1.7812 - val_accuracy: 0.3460\n",
      "Epoch 23/50\n",
      "13122/13122 [==============================] - 12s 926us/sample - loss: 1.7905 - accuracy: 0.3419 - val_loss: 1.7812 - val_accuracy: 0.3460\n",
      "Epoch 24/50\n",
      "13122/13122 [==============================] - 12s 885us/sample - loss: 1.7904 - accuracy: 0.3419 - val_loss: 1.7813 - val_accuracy: 0.3460\n",
      "Epoch 25/50\n",
      "13122/13122 [==============================] - 11s 840us/sample - loss: 1.7905 - accuracy: 0.3419 - val_loss: 1.7811 - val_accuracy: 0.3460\n",
      "Epoch 26/50\n",
      "13122/13122 [==============================] - 12s 906us/sample - loss: 1.7904 - accuracy: 0.3419 - val_loss: 1.7811 - val_accuracy: 0.3460\n",
      "Epoch 27/50\n",
      "13122/13122 [==============================] - 11s 817us/sample - loss: 1.7904 - accuracy: 0.3419 - val_loss: 1.7811 - val_accuracy: 0.3460\n",
      "Epoch 28/50\n",
      "13122/13122 [==============================] - 11s 869us/sample - loss: 1.7905 - accuracy: 0.3419 - val_loss: 1.7811 - val_accuracy: 0.3460\n",
      "Epoch 29/50\n",
      "13122/13122 [==============================] - 13s 956us/sample - loss: 1.7904 - accuracy: 0.3419 - val_loss: 1.7811 - val_accuracy: 0.3460\n",
      "Epoch 30/50\n",
      "13122/13122 [==============================] - 12s 937us/sample - loss: 1.7905 - accuracy: 0.3419 - val_loss: 1.7811 - val_accuracy: 0.3460\n",
      "Epoch 31/50\n",
      "13122/13122 [==============================] - 12s 880us/sample - loss: 1.7905 - accuracy: 0.3419 - val_loss: 1.7812 - val_accuracy: 0.3460\n",
      "Epoch 32/50\n",
      "13122/13122 [==============================] - 12s 881us/sample - loss: 1.7905 - accuracy: 0.3419 - val_loss: 1.7811 - val_accuracy: 0.3460\n",
      "Epoch 33/50\n",
      "13122/13122 [==============================] - 11s 869us/sample - loss: 1.7905 - accuracy: 0.3419 - val_loss: 1.7811 - val_accuracy: 0.3460\n",
      "Epoch 34/50\n",
      "13122/13122 [==============================] - 12s 928us/sample - loss: 1.7904 - accuracy: 0.3419 - val_loss: 1.7813 - val_accuracy: 0.3460\n",
      "Epoch 35/50\n",
      "13122/13122 [==============================] - 12s 881us/sample - loss: 1.7905 - accuracy: 0.3419 - val_loss: 1.7812 - val_accuracy: 0.3460\n",
      "Epoch 36/50\n",
      "13122/13122 [==============================] - 12s 952us/sample - loss: 1.7905 - accuracy: 0.3419 - val_loss: 1.7810 - val_accuracy: 0.3460\n",
      "Epoch 37/50\n",
      "13122/13122 [==============================] - 12s 911us/sample - loss: 1.7905 - accuracy: 0.3419 - val_loss: 1.7810 - val_accuracy: 0.3460\n",
      "Epoch 38/50\n",
      "13122/13122 [==============================] - 12s 952us/sample - loss: 1.7905 - accuracy: 0.3419 - val_loss: 1.7811 - val_accuracy: 0.3460\n",
      "Epoch 39/50\n",
      "13122/13122 [==============================] - 12s 949us/sample - loss: 1.7905 - accuracy: 0.3419 - val_loss: 1.7812 - val_accuracy: 0.3460\n",
      "Epoch 40/50\n",
      "13122/13122 [==============================] - 13s 988us/sample - loss: 1.7904 - accuracy: 0.3419 - val_loss: 1.7812 - val_accuracy: 0.3460\n",
      "Epoch 41/50\n",
      "13122/13122 [==============================] - 12s 938us/sample - loss: 1.7905 - accuracy: 0.3419 - val_loss: 1.7812 - val_accuracy: 0.3460\n",
      "Epoch 42/50\n",
      "13122/13122 [==============================] - 13s 987us/sample - loss: 1.7904 - accuracy: 0.3419 - val_loss: 1.7811 - val_accuracy: 0.3460\n",
      "Epoch 43/50\n",
      "13122/13122 [==============================] - 13s 972us/sample - loss: 1.7904 - accuracy: 0.3419 - val_loss: 1.7811 - val_accuracy: 0.3460\n",
      "Epoch 44/50\n",
      "13122/13122 [==============================] - 12s 906us/sample - loss: 1.7905 - accuracy: 0.3419 - val_loss: 1.7812 - val_accuracy: 0.3460\n",
      "Epoch 45/50\n",
      "13122/13122 [==============================] - 12s 885us/sample - loss: 1.7905 - accuracy: 0.3419 - val_loss: 1.7811 - val_accuracy: 0.3460\n",
      "Epoch 46/50\n",
      "13122/13122 [==============================] - 12s 879us/sample - loss: 1.7904 - accuracy: 0.3419 - val_loss: 1.7812 - val_accuracy: 0.3460\n",
      "Epoch 47/50\n",
      "13122/13122 [==============================] - 12s 901us/sample - loss: 1.7905 - accuracy: 0.3419 - val_loss: 1.7811 - val_accuracy: 0.3460\n",
      "Epoch 48/50\n",
      "13122/13122 [==============================] - 12s 949us/sample - loss: 1.7905 - accuracy: 0.3419 - val_loss: 1.7812 - val_accuracy: 0.3460\n",
      "Epoch 49/50\n",
      "13122/13122 [==============================] - 13s 986us/sample - loss: 1.7905 - accuracy: 0.3419 - val_loss: 1.7810 - val_accuracy: 0.3460\n",
      "Epoch 50/50\n",
      "13122/13122 [==============================] - 13s 997us/sample - loss: 1.7905 - accuracy: 0.3419 - val_loss: 1.7811 - val_accuracy: 0.3460\n"
     ]
    }
   ],
   "source": [
    "history1 = mlp_model1.fit(np.asarray(trnx).astype(float), np.asarray(trny_onehot).astype(float), validation_data=[np.asarray(tstx).astype(float), np.asarray(tsty_onehot).astype(float)], batch_size=10, epochs=50)"
   ],
   "metadata": {
    "collapsed": false,
    "pycharm": {
     "name": "#%%\n"
    }
   }
  },
  {
   "cell_type": "code",
   "execution_count": null,
   "outputs": [],
   "source": [
    "plt.plot(history1.history['accuracy'])\n",
    "plt.plot(history1.history['val_accuracy'])\n",
    "plt.title('Model Accuracy')\n",
    "plt.ylabel('accuracy')\n",
    "plt.xlabel('epoch')\n",
    "plt.legend(['train', 'test'], loc='upper left')\n",
    "plt.show()\n",
    "\n",
    "#summarize history for loss\n",
    "plt.plot(history1.history['loss'])\n",
    "plt.plot(history1.history['val_loss'])\n",
    "plt.title('Model Loss')\n",
    "plt.ylabel('loss')\n",
    "plt.xlabel('epoch')\n",
    "plt.legend(['train', 'test'], loc='upper left')\n",
    "plt.show()"
   ],
   "metadata": {
    "collapsed": false,
    "pycharm": {
     "name": "#%%\n"
    }
   }
  }
 ],
 "metadata": {
  "kernelspec": {
   "display_name": "Python 3",
   "language": "python",
   "name": "python3"
  },
  "language_info": {
   "codemirror_mode": {
    "name": "ipython",
    "version": 2
   },
   "file_extension": ".py",
   "mimetype": "text/x-python",
   "name": "python",
   "nbconvert_exporter": "python",
   "pygments_lexer": "ipython2",
   "version": "2.7.6"
  }
 },
 "nbformat": 4,
 "nbformat_minor": 0
}