{
 "cells": [
  {
   "cell_type": "code",
   "execution_count": 2,
   "outputs": [
    {
     "data": {
      "text/plain": "   0      1      2      3       4       5       6      7   8\n0  M  0.455  0.365  0.095  0.5140  0.2245  0.1010  0.150  15\n1  M  0.350  0.265  0.090  0.2255  0.0995  0.0485  0.070   7\n2  F  0.530  0.420  0.135  0.6770  0.2565  0.1415  0.210   9\n3  M  0.440  0.365  0.125  0.5160  0.2155  0.1140  0.155  10\n4  I  0.330  0.255  0.080  0.2050  0.0895  0.0395  0.055   7",
      "text/html": "<div>\n<style scoped>\n    .dataframe tbody tr th:only-of-type {\n        vertical-align: middle;\n    }\n\n    .dataframe tbody tr th {\n        vertical-align: top;\n    }\n\n    .dataframe thead th {\n        text-align: right;\n    }\n</style>\n<table border=\"1\" class=\"dataframe\">\n  <thead>\n    <tr style=\"text-align: right;\">\n      <th></th>\n      <th>0</th>\n      <th>1</th>\n      <th>2</th>\n      <th>3</th>\n      <th>4</th>\n      <th>5</th>\n      <th>6</th>\n      <th>7</th>\n      <th>8</th>\n    </tr>\n  </thead>\n  <tbody>\n    <tr>\n      <th>0</th>\n      <td>M</td>\n      <td>0.455</td>\n      <td>0.365</td>\n      <td>0.095</td>\n      <td>0.5140</td>\n      <td>0.2245</td>\n      <td>0.1010</td>\n      <td>0.150</td>\n      <td>15</td>\n    </tr>\n    <tr>\n      <th>1</th>\n      <td>M</td>\n      <td>0.350</td>\n      <td>0.265</td>\n      <td>0.090</td>\n      <td>0.2255</td>\n      <td>0.0995</td>\n      <td>0.0485</td>\n      <td>0.070</td>\n      <td>7</td>\n    </tr>\n    <tr>\n      <th>2</th>\n      <td>F</td>\n      <td>0.530</td>\n      <td>0.420</td>\n      <td>0.135</td>\n      <td>0.6770</td>\n      <td>0.2565</td>\n      <td>0.1415</td>\n      <td>0.210</td>\n      <td>9</td>\n    </tr>\n    <tr>\n      <th>3</th>\n      <td>M</td>\n      <td>0.440</td>\n      <td>0.365</td>\n      <td>0.125</td>\n      <td>0.5160</td>\n      <td>0.2155</td>\n      <td>0.1140</td>\n      <td>0.155</td>\n      <td>10</td>\n    </tr>\n    <tr>\n      <th>4</th>\n      <td>I</td>\n      <td>0.330</td>\n      <td>0.255</td>\n      <td>0.080</td>\n      <td>0.2050</td>\n      <td>0.0895</td>\n      <td>0.0395</td>\n      <td>0.055</td>\n      <td>7</td>\n    </tr>\n  </tbody>\n</table>\n</div>"
     },
     "execution_count": 2,
     "metadata": {},
     "output_type": "execute_result"
    }
   ],
   "source": [
    "import numpy as np\n",
    "import pandas as pd\n",
    "\n",
    "abalone_data = pd.read_csv('data/abalone.csv', header=None)\n",
    "abalone_data.head(5)"
   ],
   "metadata": {
    "collapsed": false,
    "pycharm": {
     "name": "#%%\n"
    }
   }
  },
  {
   "cell_type": "code",
   "execution_count": 6,
   "outputs": [
    {
     "name": "stdout",
     "output_type": "stream",
     "text": [
      "          1      2      3       4       5       6       7   8\n",
      "0     0.455  0.365  0.095  0.5140  0.2245  0.1010  0.1500  15\n",
      "1     0.350  0.265  0.090  0.2255  0.0995  0.0485  0.0700   7\n",
      "2     0.530  0.420  0.135  0.6770  0.2565  0.1415  0.2100   9\n",
      "3     0.440  0.365  0.125  0.5160  0.2155  0.1140  0.1550  10\n",
      "4     0.330  0.255  0.080  0.2050  0.0895  0.0395  0.0550   7\n",
      "...     ...    ...    ...     ...     ...     ...     ...  ..\n",
      "4172  0.565  0.450  0.165  0.8870  0.3700  0.2390  0.2490  11\n",
      "4173  0.590  0.440  0.135  0.9660  0.4390  0.2145  0.2605  10\n",
      "4174  0.600  0.475  0.205  1.1760  0.5255  0.2875  0.3080   9\n",
      "4175  0.625  0.485  0.150  1.0945  0.5310  0.2610  0.2960  10\n",
      "4176  0.710  0.555  0.195  1.9485  0.9455  0.3765  0.4950  12\n",
      "\n",
      "[4177 rows x 8 columns]\n",
      "0       M\n",
      "1       M\n",
      "2       F\n",
      "3       M\n",
      "4       I\n",
      "       ..\n",
      "4172    F\n",
      "4173    M\n",
      "4174    M\n",
      "4175    F\n",
      "4176    M\n",
      "Name: 0, Length: 4177, dtype: object\n"
     ]
    }
   ],
   "source": [
    "\n",
    "datax = abalone_data.iloc[:, 1:]\n",
    "datay = abalone_data.iloc[:, 0]\n",
    "\n",
    "print(datax)\n",
    "print(datay)"
   ],
   "metadata": {
    "collapsed": false,
    "pycharm": {
     "name": "#%%\n"
    }
   }
  },
  {
   "cell_type": "code",
   "execution_count": 7,
   "outputs": [
    {
     "name": "stdout",
     "output_type": "stream",
     "text": [
      "[[0.455 0.365 0.095 ... 0.101 0.15 15]\n",
      " [0.35 0.265 0.09 ... 0.0485 0.07 7]\n",
      " [0.53 0.42 0.135 ... 0.1415 0.21 9]\n",
      " ...\n",
      " [0.6 0.475 0.205 ... 0.2875 0.308 9]\n",
      " [0.625 0.485 0.15 ... 0.261 0.296 10]\n",
      " [0.71 0.555 0.195 ... 0.3765 0.495 12]]\n",
      "['M' 'M' 'F' ... 'M' 'F' 'M']\n"
     ]
    }
   ],
   "source": [
    "np_abalone_data = np.array(abalone_data)\n",
    "\n",
    "datax = np_abalone_data[:, 1:]\n",
    "datay = np_abalone_data[:, 0]\n",
    "print(datax)\n",
    "print(datay)"
   ],
   "metadata": {
    "collapsed": false,
    "pycharm": {
     "name": "#%%\n"
    }
   }
  },
  {
   "cell_type": "code",
   "execution_count": 8,
   "outputs": [
    {
     "name": "stdout",
     "output_type": "stream",
     "text": [
      "(2923, 8) (1254, 8) (2923,) (1254,)\n"
     ]
    }
   ],
   "source": [
    "from sklearn.model_selection import train_test_split\n",
    "trnx, tstx, trny, tsty = train_test_split(datax, datay, test_size=0.3)\n",
    "print(trnx.shape, tstx.shape, trny.shape, tsty.shape)"
   ],
   "metadata": {
    "collapsed": false,
    "pycharm": {
     "name": "#%%\n"
    }
   }
  },
  {
   "cell_type": "code",
   "execution_count": 9,
   "outputs": [
    {
     "name": "stdout",
     "output_type": "stream",
     "text": [
      "0.0 1.0\n",
      "0.04827586206896553 1.0206896551724136\n"
     ]
    }
   ],
   "source": [
    "from sklearn.preprocessing import MinMaxScaler\n",
    "scaler = MinMaxScaler()\n",
    "scaler.fit(trnx)\n",
    "trnx_scale = scaler.transform(trnx)\n",
    "tstx_scale = scaler.transform(tstx)\n",
    "\n",
    "print(np.min(trnx_scale[:, 0]), np.max(trnx_scale[:, 0]))\n",
    "print(np.min(tstx_scale[:, 0]), np.max(tstx_scale[:, 0]))"
   ],
   "metadata": {
    "collapsed": false,
    "pycharm": {
     "name": "#%%\n"
    }
   }
  },
  {
   "cell_type": "code",
   "execution_count": 18,
   "outputs": [
    {
     "name": "stdout",
     "output_type": "stream",
     "text": [
      "['I' 'F' 'I' ... 'I' 'I' 'I']\n",
      "['I' 'F' 'I' ... 'M' 'I' 'F']\n"
     ]
    }
   ],
   "source": [
    "# bayesian\n",
    "from sklearn.naive_bayes import GaussianNB\n",
    "\n",
    "gnb = GaussianNB(priors=[0.3, 0.4, 0.3])\n",
    "gnb.fit(trnx, trny)\n",
    "trny_hat = gnb.predict(trnx)\n",
    "tsty_hat = gnb.predict(tstx)\n",
    "print(trny_hat)\n",
    "print(tsty_hat)"
   ],
   "metadata": {
    "collapsed": false,
    "pycharm": {
     "name": "#%%\n"
    }
   }
  },
  {
   "cell_type": "code",
   "execution_count": 19,
   "outputs": [
    {
     "name": "stdout",
     "output_type": "stream",
     "text": [
      "0.5138556277796784\n",
      "0.5191387559808612\n"
     ]
    }
   ],
   "source": [
    "from sklearn import metrics\n",
    "# confusion_matrix(tsty, tsty_hat)\n",
    "print(metrics.accuracy_score(trny, trny_hat))\n",
    "print(metrics.accuracy_score(tsty, tsty_hat))"
   ],
   "metadata": {
    "collapsed": false,
    "pycharm": {
     "name": "#%%\n"
    }
   }
  },
  {
   "cell_type": "code",
   "execution_count": 22,
   "outputs": [
    {
     "name": "stdout",
     "output_type": "stream",
     "text": [
      "['I' 'F' 'I' ... 'F' 'I' 'I']\n",
      "['I' 'M' 'I' ... 'M' 'I' 'F']\n"
     ]
    }
   ],
   "source": [
    "# k-NN\n",
    "from sklearn.neighbors import KNeighborsClassifier\n",
    "k = 5\n",
    "knn_model = KNeighborsClassifier(n_neighbors=k)\n",
    "knn_model.fit(trnx, trny)\n",
    "knn_pred_trn = knn_model.predict(trnx)\n",
    "knn_pred_tst = knn_model.predict(tstx)\n",
    "print(knn_pred_trn)\n",
    "print(knn_pred_tst)"
   ],
   "metadata": {
    "collapsed": false,
    "pycharm": {
     "name": "#%%\n"
    }
   }
  },
  {
   "cell_type": "code",
   "execution_count": 23,
   "outputs": [
    {
     "name": "stdout",
     "output_type": "stream",
     "text": [
      "0.6825179609989737\n",
      "0.5342902711323764\n"
     ]
    }
   ],
   "source": [
    "print(metrics.accuracy_score(trny, knn_pred_trn))\n",
    "print(metrics.accuracy_score(tsty, knn_pred_tst))"
   ],
   "metadata": {
    "collapsed": false,
    "pycharm": {
     "name": "#%%\n"
    }
   }
  },
  {
   "cell_type": "code",
   "execution_count": 24,
   "outputs": [
    {
     "data": {
      "text/plain": "array([0.01283171, 0.        , 0.01954212, 0.06839678, 0.05970682,\n       0.685105  , 0.        , 0.15441757])"
     },
     "execution_count": 24,
     "metadata": {},
     "output_type": "execute_result"
    }
   ],
   "source": [
    "# Decision Tree\n",
    "\n",
    "from sklearn.tree import DecisionTreeClassifier\n",
    "tree_model = DecisionTreeClassifier(max_depth=4, min_samples_split=3)\n",
    "tree_model.fit(trnx, trny)\n",
    "tree_pred = tree_model.predict(tstx)\n",
    "tree_model.feature_importances_"
   ],
   "metadata": {
    "collapsed": false,
    "pycharm": {
     "name": "#%%\n"
    }
   }
  },
  {
   "cell_type": "code",
   "execution_count": 25,
   "outputs": [],
   "source": [
    "from sklearn.tree import export_graphviz\n",
    "export_graphviz(tree_model, out_file='tree.dot')"
   ],
   "metadata": {
    "collapsed": false,
    "pycharm": {
     "name": "#%%\n"
    }
   }
  },
  {
   "cell_type": "code",
   "execution_count": 26,
   "outputs": [
    {
     "data": {
      "text/plain": "[Text(0.5089285714285714, 0.9, 'X[5] <= 0.131\\ngini = 0.665\\nsamples = 2923\\nvalue = [906, 953, 1064]'),\n Text(0.2857142857142857, 0.7, 'X[7] <= 8.5\\ngini = 0.497\\nsamples = 1079\\nvalue = [153, 721, 205]'),\n Text(0.14285714285714285, 0.5, 'X[5] <= 0.093\\ngini = 0.342\\nsamples = 758\\nvalue = [59, 605, 94]'),\n Text(0.07142857142857142, 0.3, 'X[2] <= 0.152\\ngini = 0.266\\nsamples = 584\\nvalue = [27, 496, 61]'),\n Text(0.03571428571428571, 0.1, 'gini = 0.263\\nsamples = 583\\nvalue = [26, 496, 61]'),\n Text(0.10714285714285714, 0.1, 'gini = 0.0\\nsamples = 1\\nvalue = [1, 0, 0]'),\n Text(0.21428571428571427, 0.3, 'X[4] <= 0.156\\ngini = 0.538\\nsamples = 174\\nvalue = [32, 109, 33]'),\n Text(0.17857142857142858, 0.1, 'gini = 0.375\\nsamples = 8\\nvalue = [6, 0, 2]'),\n Text(0.25, 0.1, 'gini = 0.509\\nsamples = 166\\nvalue = [26, 109, 31]'),\n Text(0.42857142857142855, 0.5, 'X[2] <= 0.098\\ngini = 0.664\\nsamples = 321\\nvalue = [94, 116, 111]'),\n Text(0.35714285714285715, 0.3, 'X[4] <= 0.144\\ngini = 0.468\\nsamples = 36\\nvalue = [4, 7, 25]'),\n Text(0.32142857142857145, 0.1, 'gini = 0.37\\nsamples = 31\\nvalue = [2, 5, 24]'),\n Text(0.39285714285714285, 0.1, 'gini = 0.64\\nsamples = 5\\nvalue = [2, 2, 1]'),\n Text(0.5, 0.3, 'X[7] <= 9.5\\ngini = 0.663\\nsamples = 285\\nvalue = [90, 109, 86]'),\n Text(0.4642857142857143, 0.1, 'gini = 0.606\\nsamples = 111\\nvalue = [20, 58, 33]'),\n Text(0.5357142857142857, 0.1, 'gini = 0.659\\nsamples = 174\\nvalue = [70, 51, 53]'),\n Text(0.7321428571428571, 0.7, 'X[3] <= 0.861\\ngini = 0.6\\nsamples = 1844\\nvalue = [753, 232, 859]'),\n Text(0.6071428571428571, 0.5, 'X[4] <= 0.198\\ngini = 0.663\\nsamples = 536\\nvalue = [174, 157, 205]'),\n Text(0.5714285714285714, 0.3, 'gini = 0.0\\nsamples = 10\\nvalue = [10, 0, 0]'),\n Text(0.6428571428571429, 0.3, 'X[0] <= 0.517\\ngini = 0.662\\nsamples = 526\\nvalue = [164, 157, 205]'),\n Text(0.6071428571428571, 0.1, 'gini = 0.619\\nsamples = 174\\nvalue = [53, 34, 87]'),\n Text(0.6785714285714286, 0.1, 'gini = 0.666\\nsamples = 352\\nvalue = [111, 123, 118]'),\n Text(0.8571428571428571, 0.5, 'X[5] <= 0.299\\ngini = 0.551\\nsamples = 1308\\nvalue = [579, 75, 654]'),\n Text(0.7857142857142857, 0.3, 'X[4] <= 0.615\\ngini = 0.563\\nsamples = 879\\nvalue = [354, 69, 456]'),\n Text(0.75, 0.1, 'gini = 0.57\\nsamples = 793\\nvalue = [329, 67, 397]'),\n Text(0.8214285714285714, 0.1, 'gini = 0.444\\nsamples = 86\\nvalue = [25, 2, 59]'),\n Text(0.9285714285714286, 0.3, 'X[4] <= 0.873\\ngini = 0.512\\nsamples = 429\\nvalue = [225, 6, 198]'),\n Text(0.8928571428571429, 0.1, 'gini = 0.505\\nsamples = 365\\nvalue = [206, 6, 153]'),\n Text(0.9642857142857143, 0.1, 'gini = 0.417\\nsamples = 64\\nvalue = [19, 0, 45]')]"
     },
     "execution_count": 26,
     "metadata": {},
     "output_type": "execute_result"
    },
    {
     "data": {
      "text/plain": "<Figure size 432x288 with 1 Axes>",
      "image/png": "[encoded data removed]"
     },
     "metadata": {
      "needs_background": "light"
     },
     "output_type": "display_data"
    }
   ],
   "source": [
    "from sklearn import tree\n",
    "tree.plot_tree(tree_model)"
   ],
   "metadata": {
    "collapsed": false,
    "pycharm": {
     "name": "#%%\n"
    }
   }
  },
  {
   "cell_type": "code",
   "execution_count": 27,
   "outputs": [
    {
     "data": {
      "text/plain": "array([[124,  60, 217],\n       [ 23, 303,  63],\n       [ 98, 113, 253]], dtype=int64)"
     },
     "execution_count": 27,
     "metadata": {},
     "output_type": "execute_result"
    }
   ],
   "source": [
    "from sklearn.metrics import confusion_matrix\n",
    "confusion_matrix(tsty, tree_model.predict(tstx))"
   ],
   "metadata": {
    "collapsed": false,
    "pycharm": {
     "name": "#%%\n"
    }
   }
  },
  {
   "cell_type": "code",
   "execution_count": 32,
   "outputs": [
    {
     "name": "stdout",
     "output_type": "stream",
     "text": [
      "0.5518341307814992\n"
     ]
    },
    {
     "data": {
      "text/plain": "array([[157,  38, 206],\n       [ 32, 295,  62],\n       [149,  75, 240]], dtype=int64)"
     },
     "execution_count": 32,
     "metadata": {},
     "output_type": "execute_result"
    }
   ],
   "source": [
    "from sklearn.ensemble import RandomForestClassifier\n",
    "rf_model = RandomForestClassifier(max_depth=15, n_estimators=100, random_state=0)\n",
    "rf_model.fit(trnx, trny)\n",
    "\n",
    "rf_pred = rf_model.predict(tstx)\n",
    "print(metrics.accuracy_score(tsty, rf_pred))\n",
    "confusion_matrix(tsty, rf_pred)"
   ],
   "metadata": {
    "collapsed": false,
    "pycharm": {
     "name": "#%%\n"
    }
   }
  },
  {
   "cell_type": "code",
   "execution_count": 33,
   "outputs": [
    {
     "name": "stdout",
     "output_type": "stream",
     "text": [
      "0.5598086124401914\n"
     ]
    },
    {
     "data": {
      "text/plain": "array([[110,  44, 247],\n       [ 16, 304,  69],\n       [ 90,  86, 288]], dtype=int64)"
     },
     "execution_count": 33,
     "metadata": {},
     "output_type": "execute_result"
    }
   ],
   "source": [
    "from sklearn.ensemble import GradientBoostingClassifier\n",
    "gbm_model = GradientBoostingClassifier(max_depth=3, n_estimators=30, random_state=0)\n",
    "gbm_model.fit(trnx, trny)\n",
    "\n",
    "gbm_pred = gbm_model.predict(tstx)\n",
    "print(metrics.accuracy_score(tsty, gbm_pred))\n",
    "confusion_matrix(tsty, gbm_pred)"
   ],
   "metadata": {
    "collapsed": false,
    "pycharm": {
     "name": "#%%\n"
    }
   }
  },
  {
   "cell_type": "code",
   "execution_count": null,
   "outputs": [],
   "source": [],
   "metadata": {
    "collapsed": false,
    "pycharm": {
     "name": "#%%\n"
    }
   }
  }
 ],
 "metadata": {
  "kernelspec": {
   "display_name": "Python 3",
   "language": "python",
   "name": "python3"
  },
  "language_info": {
   "codemirror_mode": {
    "name": "ipython",
    "version": 2
   },
   "file_extension": ".py",
   "mimetype": "text/x-python",
   "name": "python",
   "nbconvert_exporter": "python",
   "pygments_lexer": "ipython2",
   "version": "2.7.6"
  }
 },
 "nbformat": 4,
 "nbformat_minor": 0
}