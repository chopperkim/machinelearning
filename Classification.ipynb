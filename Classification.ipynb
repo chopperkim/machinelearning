{
 "cells": [
  {
   "cell_type": "code",
   "execution_count": 2,
   "outputs": [
    {
     "data": {
      "text/plain": "   0      1      2      3       4       5       6      7   8\n0  M  0.455  0.365  0.095  0.5140  0.2245  0.1010  0.150  15\n1  M  0.350  0.265  0.090  0.2255  0.0995  0.0485  0.070   7\n2  F  0.530  0.420  0.135  0.6770  0.2565  0.1415  0.210   9\n3  M  0.440  0.365  0.125  0.5160  0.2155  0.1140  0.155  10\n4  I  0.330  0.255  0.080  0.2050  0.0895  0.0395  0.055   7",
      "text/html": "<div>\n<style scoped>\n    .dataframe tbody tr th:only-of-type {\n        vertical-align: middle;\n    }\n\n    .dataframe tbody tr th {\n        vertical-align: top;\n    }\n\n    .dataframe thead th {\n        text-align: right;\n    }\n</style>\n<table border=\"1\" class=\"dataframe\">\n  <thead>\n    <tr style=\"text-align: right;\">\n      <th></th>\n      <th>0</th>\n      <th>1</th>\n      <th>2</th>\n      <th>3</th>\n      <th>4</th>\n      <th>5</th>\n      <th>6</th>\n      <th>7</th>\n      <th>8</th>\n    </tr>\n  </thead>\n  <tbody>\n    <tr>\n      <th>0</th>\n      <td>M</td>\n      <td>0.455</td>\n      <td>0.365</td>\n      <td>0.095</td>\n      <td>0.5140</td>\n      <td>0.2245</td>\n      <td>0.1010</td>\n      <td>0.150</td>\n      <td>15</td>\n    </tr>\n    <tr>\n      <th>1</th>\n      <td>M</td>\n      <td>0.350</td>\n      <td>0.265</td>\n      <td>0.090</td>\n      <td>0.2255</td>\n      <td>0.0995</td>\n      <td>0.0485</td>\n      <td>0.070</td>\n      <td>7</td>\n    </tr>\n    <tr>\n      <th>2</th>\n      <td>F</td>\n      <td>0.530</td>\n      <td>0.420</td>\n      <td>0.135</td>\n      <td>0.6770</td>\n      <td>0.2565</td>\n      <td>0.1415</td>\n      <td>0.210</td>\n      <td>9</td>\n    </tr>\n    <tr>\n      <th>3</th>\n      <td>M</td>\n      <td>0.440</td>\n      <td>0.365</td>\n      <td>0.125</td>\n      <td>0.5160</td>\n      <td>0.2155</td>\n      <td>0.1140</td>\n      <td>0.155</td>\n      <td>10</td>\n    </tr>\n    <tr>\n      <th>4</th>\n      <td>I</td>\n      <td>0.330</td>\n      <td>0.255</td>\n      <td>0.080</td>\n      <td>0.2050</td>\n      <td>0.0895</td>\n      <td>0.0395</td>\n      <td>0.055</td>\n      <td>7</td>\n    </tr>\n  </tbody>\n</table>\n</div>"
     },
     "execution_count": 2,
     "metadata": {},
     "output_type": "execute_result"
    }
   ],
   "source": [
    "import numpy as np\n",
    "import pandas as pd\n",
    "\n",
    "abalone_data = pd.read_csv('data/abalone.csv', header=None)\n",
    "abalone_data.head(5)"
   ],
   "metadata": {
    "collapsed": false,
    "pycharm": {
     "name": "#%%\n"
    }
   }
  },
  {
   "cell_type": "code",
   "execution_count": 3,
   "outputs": [
    {
     "name": "stdout",
     "output_type": "stream",
     "text": [
      "          1      2      3       4       5       6       7   8\n",
      "0     0.455  0.365  0.095  0.5140  0.2245  0.1010  0.1500  15\n",
      "1     0.350  0.265  0.090  0.2255  0.0995  0.0485  0.0700   7\n",
      "2     0.530  0.420  0.135  0.6770  0.2565  0.1415  0.2100   9\n",
      "3     0.440  0.365  0.125  0.5160  0.2155  0.1140  0.1550  10\n",
      "4     0.330  0.255  0.080  0.2050  0.0895  0.0395  0.0550   7\n",
      "...     ...    ...    ...     ...     ...     ...     ...  ..\n",
      "4172  0.565  0.450  0.165  0.8870  0.3700  0.2390  0.2490  11\n",
      "4173  0.590  0.440  0.135  0.9660  0.4390  0.2145  0.2605  10\n",
      "4174  0.600  0.475  0.205  1.1760  0.5255  0.2875  0.3080   9\n",
      "4175  0.625  0.485  0.150  1.0945  0.5310  0.2610  0.2960  10\n",
      "4176  0.710  0.555  0.195  1.9485  0.9455  0.3765  0.4950  12\n",
      "\n",
      "[4177 rows x 8 columns]\n",
      "0       M\n",
      "1       M\n",
      "2       F\n",
      "3       M\n",
      "4       I\n",
      "       ..\n",
      "4172    F\n",
      "4173    M\n",
      "4174    M\n",
      "4175    F\n",
      "4176    M\n",
      "Name: 0, Length: 4177, dtype: object\n"
     ]
    }
   ],
   "source": [
    "\n",
    "datax = abalone_data.iloc[:, 1:]\n",
    "datay = abalone_data.iloc[:, 0]\n",
    "\n",
    "print(datax)\n",
    "print(datay)"
   ],
   "metadata": {
    "collapsed": false,
    "pycharm": {
     "name": "#%%\n"
    }
   }
  },
  {
   "cell_type": "code",
   "execution_count": 4,
   "outputs": [
    {
     "name": "stdout",
     "output_type": "stream",
     "text": [
      "[[0.455 0.365 0.095 ... 0.101 0.15 15]\n",
      " [0.35 0.265 0.09 ... 0.0485 0.07 7]\n",
      " [0.53 0.42 0.135 ... 0.1415 0.21 9]\n",
      " ...\n",
      " [0.6 0.475 0.205 ... 0.2875 0.308 9]\n",
      " [0.625 0.485 0.15 ... 0.261 0.296 10]\n",
      " [0.71 0.555 0.195 ... 0.3765 0.495 12]]\n",
      "['M' 'M' 'F' ... 'M' 'F' 'M']\n"
     ]
    }
   ],
   "source": [
    "np_abalone_data = np.array(abalone_data)\n",
    "\n",
    "datax = np_abalone_data[:, 1:]\n",
    "datay = np_abalone_data[:, 0]\n",
    "print(datax)\n",
    "print(datay)"
   ],
   "metadata": {
    "collapsed": false,
    "pycharm": {
     "name": "#%%\n"
    }
   }
  },
  {
   "cell_type": "code",
   "execution_count": 5,
   "outputs": [
    {
     "name": "stdout",
     "output_type": "stream",
     "text": [
      "(2923, 8) (1254, 8) (2923,) (1254,)\n"
     ]
    }
   ],
   "source": [
    "from sklearn.model_selection import train_test_split\n",
    "trnx, tstx, trny, tsty = train_test_split(datax, datay, test_size=0.3)\n",
    "print(trnx.shape, tstx.shape, trny.shape, tsty.shape)"
   ],
   "metadata": {
    "collapsed": false,
    "pycharm": {
     "name": "#%%\n"
    }
   }
  },
  {
   "cell_type": "code",
   "execution_count": 6,
   "outputs": [
    {
     "name": "stdout",
     "output_type": "stream",
     "text": [
      "0.0 0.9999999999999999\n",
      "-0.08208955223880596 1.0223880597014925\n"
     ]
    }
   ],
   "source": [
    "from sklearn.preprocessing import MinMaxScaler\n",
    "scaler = MinMaxScaler()\n",
    "scaler.fit(trnx)\n",
    "trnx_scale = scaler.transform(trnx)\n",
    "tstx_scale = scaler.transform(tstx)\n",
    "\n",
    "print(np.min(trnx_scale[:, 0]), np.max(trnx_scale[:, 0]))\n",
    "print(np.min(tstx_scale[:, 0]), np.max(tstx_scale[:, 0]))"
   ],
   "metadata": {
    "collapsed": false,
    "pycharm": {
     "name": "#%%\n"
    }
   }
  },
  {
   "cell_type": "code",
   "execution_count": null,
   "outputs": [],
   "source": [
    "# bayesian\n",
    "from sklearn.naive_bayes import GaussianNB\n",
    "\n",
    "gnb = GaussianNB()\n",
    "gnb.fit(trnx, trny)\n",
    "gnb_pred_trn = gnb.predict(trnx)\n",
    "gnb_pred_tst = gnb.predict(tstx)\n",
    "print(gnb_pred_trn)\n",
    "print(gnb_pred_tst)"
   ],
   "metadata": {
    "collapsed": false,
    "pycharm": {
     "name": "#%%\n"
    }
   }
  },
  {
   "cell_type": "code",
   "execution_count": null,
   "outputs": [],
   "source": [
    "from sklearn import metrics\n",
    "from sklearn.metrics import confusion_matrix\n",
    "print(metrics.accuracy_score(trny, gnb_pred_trn))\n",
    "print(metrics.accuracy_score(tsty, gnb_pred_tst))\n",
    "confusion_matrix(tsty, gnb_pred_tst)"
   ],
   "metadata": {
    "collapsed": false,
    "pycharm": {
     "name": "#%%\n"
    }
   }
  },
  {
   "cell_type": "code",
   "execution_count": null,
   "outputs": [],
   "source": [
    "# k-NN\n",
    "from sklearn.neighbors import KNeighborsClassifier\n",
    "k = 5\n",
    "knn_model = KNeighborsClassifier(n_neighbors=k)\n",
    "knn_model.fit(trnx, trny)\n",
    "knn_pred_trn = knn_model.predict(trnx)\n",
    "knn_pred_tst = knn_model.predict(tstx)\n",
    "print(knn_pred_trn)\n",
    "print(knn_pred_tst)"
   ],
   "metadata": {
    "collapsed": false,
    "pycharm": {
     "name": "#%%\n"
    }
   }
  },
  {
   "cell_type": "code",
   "execution_count": null,
   "outputs": [],
   "source": [
    "print(metrics.accuracy_score(trny, knn_pred_trn))\n",
    "print(metrics.accuracy_score(tsty, knn_pred_tst))\n",
    "confusion_matrix(tsty, knn_pred_tst)"
   ],
   "metadata": {
    "collapsed": false,
    "pycharm": {
     "name": "#%%\n"
    }
   }
  },
  {
   "cell_type": "code",
   "execution_count": null,
   "outputs": [],
   "source": [
    "# Decision Tree\n",
    "\n",
    "from sklearn.tree import DecisionTreeClassifier\n",
    "tree_model = DecisionTreeClassifier(max_depth=4, min_samples_split=3)\n",
    "tree_model.fit(X=trnx, y=trny)\n",
    "tree_pred_trn = tree_model.predict(X=trnx)\n",
    "tree_pred_tst = tree_model.predict(X=tstx)\n",
    "tree_model.feature_importances_"
   ],
   "metadata": {
    "collapsed": false,
    "pycharm": {
     "name": "#%%\n"
    }
   }
  },
  {
   "cell_type": "code",
   "execution_count": null,
   "outputs": [],
   "source": [
    "from sklearn.tree import export_graphviz\n",
    "export_graphviz(tree_model, out_file='tree.dot')"
   ],
   "metadata": {
    "collapsed": false,
    "pycharm": {
     "name": "#%%\n"
    }
   }
  },
  {
   "cell_type": "code",
   "execution_count": null,
   "outputs": [],
   "source": [
    "from sklearn import tree\n",
    "tree.plot_tree(tree_model, max_depth=4, filled=True)"
   ],
   "metadata": {
    "collapsed": false,
    "pycharm": {
     "name": "#%%\n"
    }
   }
  },
  {
   "cell_type": "code",
   "execution_count": null,
   "outputs": [],
   "source": [
    "print(metrics.accuracy_score(trny, tree_pred_trn))\n",
    "print(metrics.accuracy_score(tsty, tree_pred_tst))\n",
    "confusion_matrix(tsty, tree_pred_tst)"
   ],
   "metadata": {
    "collapsed": false,
    "pycharm": {
     "name": "#%%\n"
    }
   }
  },
  {
   "cell_type": "code",
   "execution_count": null,
   "outputs": [],
   "source": [
    "from sklearn.ensemble import RandomForestClassifier\n",
    "rf_model = RandomForestClassifier(max_depth=15, n_estimators=100, random_state=42)\n",
    "rf_model.fit(trnx, trny)\n",
    "\n",
    "rf_pred_trn = rf_model.predict(trnx)\n",
    "rf_pred_tst = rf_model.predict(tstx)\n",
    "print(metrics.accuracy_score(trny, rf_pred_trn))\n",
    "print(metrics.accuracy_score(tsty, rf_pred_tst))\n",
    "confusion_matrix(tsty, rf_pred_tst)\n"
   ],
   "metadata": {
    "collapsed": false,
    "pycharm": {
     "name": "#%%\n"
    }
   }
  },
  {
   "cell_type": "code",
   "execution_count": null,
   "outputs": [],
   "source": [
    "from sklearn.ensemble import GradientBoostingClassifier\n",
    "gbm_model = GradientBoostingClassifier(max_depth=3, n_estimators=30, random_state=0)\n",
    "gbm_model.fit(trnx, trny)\n",
    "\n",
    "gbm_pred_trn = gbm_model.predict(trnx)\n",
    "gbm_pred_tst = gbm_model.predict(tstx)\n",
    "print(metrics.accuracy_score(trny, gbm_pred_trn))\n",
    "print(metrics.accuracy_score(tsty, gbm_pred_tst))\n",
    "confusion_matrix(tsty, gbm_pred_tst)\n"
   ],
   "metadata": {
    "collapsed": false,
    "pycharm": {
     "name": "#%%\n"
    }
   }
  },
  {
   "cell_type": "code",
   "execution_count": null,
   "outputs": [],
   "source": [
    "np.column_stack([np.column_stack([tree_model.feature_importances_, rf_model.feature_importances_]), gbm_model.feature_importances_])"
   ],
   "metadata": {
    "collapsed": false,
    "pycharm": {
     "name": "#%%\n"
    }
   }
  },
  {
   "cell_type": "code",
   "execution_count": null,
   "outputs": [],
   "source": [
    "np.column_stack([np.column_stack([tree_model.feature_importances_, rf_model.feature_importances_]), gbm_model.feature_importances_])"
   ],
   "metadata": {
    "collapsed": false,
    "pycharm": {
     "name": "#%%\n"
    }
   }
  },
  {
   "cell_type": "code",
   "execution_count": null,
   "outputs": [],
   "source": [],
   "metadata": {
    "collapsed": false,
    "pycharm": {
     "name": "#%%\n"
    }
   }
  },
  {
   "cell_type": "code",
   "execution_count": null,
   "outputs": [],
   "source": [],
   "metadata": {
    "collapsed": false,
    "pycharm": {
     "name": "#%%\n"
    }
   }
  },
  {
   "cell_type": "code",
   "execution_count": null,
   "outputs": [],
   "source": [],
   "metadata": {
    "collapsed": false,
    "pycharm": {
     "name": "#%%\n"
    }
   }
  },
  {
   "cell_type": "code",
   "execution_count": null,
   "outputs": [],
   "source": [],
   "metadata": {
    "collapsed": false,
    "pycharm": {
     "name": "#%%\n"
    }
   }
  }
 ],
 "metadata": {
  "kernelspec": {
   "display_name": "Python 3",
   "language": "python",
   "name": "python3"
  },
  "language_info": {
   "codemirror_mode": {
    "name": "ipython",
    "version": 2
   },
   "file_extension": ".py",
   "mimetype": "text/x-python",
   "name": "python",
   "nbconvert_exporter": "python",
   "pygments_lexer": "ipython2",
   "version": "2.7.6"
  }
 },
 "nbformat": 4,
 "nbformat_minor": 0
}