{
 "cells": [
  {
   "cell_type": "code",
   "execution_count": 4,
   "outputs": [],
   "source": [
    "## import basic libraries to handle data\n",
    "import numpy as np\n",
    "import pandas as pd\n",
    "import matplotlib.pyplot as plt\n",
    "%matplotlib inline"
   ],
   "metadata": {
    "collapsed": false,
    "pycharm": {
     "name": "#%%\n"
    }
   }
  },
  {
   "cell_type": "code",
   "execution_count": 5,
   "outputs": [
    {
     "data": {
      "text/plain": "   M  0.455  0.365  0.095   0.514  0.2245   0.101   0.15  15\n0  M  0.350  0.265  0.090  0.2255  0.0995  0.0485  0.070   7\n1  F  0.530  0.420  0.135  0.6770  0.2565  0.1415  0.210   9\n2  M  0.440  0.365  0.125  0.5160  0.2155  0.1140  0.155  10\n3  I  0.330  0.255  0.080  0.2050  0.0895  0.0395  0.055   7\n4  I  0.425  0.300  0.095  0.3515  0.1410  0.0775  0.120   8",
      "text/html": "<div>\n<style scoped>\n    .dataframe tbody tr th:only-of-type {\n        vertical-align: middle;\n    }\n\n    .dataframe tbody tr th {\n        vertical-align: top;\n    }\n\n    .dataframe thead th {\n        text-align: right;\n    }\n</style>\n<table border=\"1\" class=\"dataframe\">\n  <thead>\n    <tr style=\"text-align: right;\">\n      <th></th>\n      <th>M</th>\n      <th>0.455</th>\n      <th>0.365</th>\n      <th>0.095</th>\n      <th>0.514</th>\n      <th>0.2245</th>\n      <th>0.101</th>\n      <th>0.15</th>\n      <th>15</th>\n    </tr>\n  </thead>\n  <tbody>\n    <tr>\n      <th>0</th>\n      <td>M</td>\n      <td>0.350</td>\n      <td>0.265</td>\n      <td>0.090</td>\n      <td>0.2255</td>\n      <td>0.0995</td>\n      <td>0.0485</td>\n      <td>0.070</td>\n      <td>7</td>\n    </tr>\n    <tr>\n      <th>1</th>\n      <td>F</td>\n      <td>0.530</td>\n      <td>0.420</td>\n      <td>0.135</td>\n      <td>0.6770</td>\n      <td>0.2565</td>\n      <td>0.1415</td>\n      <td>0.210</td>\n      <td>9</td>\n    </tr>\n    <tr>\n      <th>2</th>\n      <td>M</td>\n      <td>0.440</td>\n      <td>0.365</td>\n      <td>0.125</td>\n      <td>0.5160</td>\n      <td>0.2155</td>\n      <td>0.1140</td>\n      <td>0.155</td>\n      <td>10</td>\n    </tr>\n    <tr>\n      <th>3</th>\n      <td>I</td>\n      <td>0.330</td>\n      <td>0.255</td>\n      <td>0.080</td>\n      <td>0.2050</td>\n      <td>0.0895</td>\n      <td>0.0395</td>\n      <td>0.055</td>\n      <td>7</td>\n    </tr>\n    <tr>\n      <th>4</th>\n      <td>I</td>\n      <td>0.425</td>\n      <td>0.300</td>\n      <td>0.095</td>\n      <td>0.3515</td>\n      <td>0.1410</td>\n      <td>0.0775</td>\n      <td>0.120</td>\n      <td>8</td>\n    </tr>\n  </tbody>\n</table>\n</div>"
     },
     "execution_count": 5,
     "metadata": {},
     "output_type": "execute_result"
    }
   ],
   "source": [
    "## import data\n",
    "data_path = \"data/abalone.csv\"\n",
    "abalone_data = pd.read_csv(data_path)\n",
    "abalone_data.head(5)"
   ],
   "metadata": {
    "collapsed": false,
    "pycharm": {
     "name": "#%%\n"
    }
   }
  },
  {
   "cell_type": "code",
   "execution_count": 49,
   "outputs": [],
   "source": [
    "## import data\n",
    "#abalone_data = pd.read_csv('http://raw.githubusercontent.com/mwaskom/seaborn-data/master/iris.csv')\n",
    "#abalone_data.head(5)"
   ],
   "metadata": {
    "collapsed": false,
    "pycharm": {
     "name": "#%%\n"
    }
   }
  },
  {
   "cell_type": "code",
   "execution_count": 12,
   "outputs": [
    {
     "name": "stdout",
     "output_type": "stream",
     "text": [
      "[['M' 0.35 0.265 0.09 0.2255 0.0995 0.0485 0.07 7]\n",
      " ['F' 0.53 0.42 0.135 0.677 0.2565 0.1415 0.21 9]\n",
      " ['M' 0.44 0.365 0.125 0.516 0.2155 0.114 0.155 10]\n",
      " ['I' 0.33 0.255 0.08 0.205 0.0895 0.0395 0.055 7]\n",
      " ['I' 0.425 0.3 0.095 0.3515 0.141 0.0775 0.12 8]]\n"
     ]
    }
   ],
   "source": [
    "## Explore data\n",
    "np_abalone_data = np.array(abalone_data)\n",
    "print(np_abalone_data[0:5,:])"
   ],
   "metadata": {
    "collapsed": false,
    "pycharm": {
     "name": "#%%\n"
    }
   }
  },
  {
   "cell_type": "code",
   "execution_count": 19,
   "outputs": [
    {
     "name": "stdout",
     "output_type": "stream",
     "text": [
      "[[0.35 0.265 0.09 0.2255 0.0995 0.0485 0.07 7]\n",
      " [0.53 0.42 0.135 0.677 0.2565 0.1415 0.21 9]\n",
      " [0.44 0.365 0.125 0.516 0.2155 0.114 0.155 10]\n",
      " [0.33 0.255 0.08 0.205 0.0895 0.0395 0.055 7]\n",
      " [0.425 0.3 0.095 0.3515 0.141 0.0775 0.12 8]]\n",
      "['M' 'F' 'M' 'I' 'I' 'F' 'F' 'M' 'F' 'F']\n"
     ]
    }
   ],
   "source": [
    "datax = np_abalone_data[:,:]\n",
    "datay = np_abalone_data[:,0]\n",
    "print(datax[0:5,:])\n",
    "print(datay[0:10])"
   ],
   "metadata": {
    "collapsed": false,
    "pycharm": {
     "name": "#%%\n"
    }
   }
  },
  {
   "cell_type": "code",
   "execution_count": 20,
   "outputs": [
    {
     "name": "stdout",
     "output_type": "stream",
     "text": [
      "(2923, 8) (1253, 8) (2923,) (1253,)\n"
     ]
    }
   ],
   "source": [
    "from sklearn.model_selection import train_test_split\n",
    "trnx, tstx, trny, tsty = train_test_split(datax, datay, test_size=0.3)\n",
    "print(trnx.shape, tstx.shape, trny.shape, tsty.shape)"
   ],
   "metadata": {
    "collapsed": false,
    "pycharm": {
     "name": "#%%\n"
    }
   }
  },
  {
   "cell_type": "code",
   "execution_count": 23,
   "outputs": [
    {
     "name": "stdout",
     "output_type": "stream",
     "text": [
      "0.0 1.0\n",
      "0.047297297297297314 0.9391891891891893\n"
     ]
    }
   ],
   "source": [
    "from sklearn.preprocessing import MinMaxScaler # Step 1\n",
    "scaler = MinMaxScaler() # Step 2\n",
    "scaler.fit(trnx) # Step 3\n",
    "trnx_scale = scaler.transform(trnx) # Step 4\n",
    "tstx_scale = scaler.transform(tstx) # Step 4\n",
    "print(np.min(trnx_scale[:,0]), np.max(trnx_scale[:,0]))\n",
    "print(np.min(tstx_scale[:,0]), np.max(tstx_scale[:,0]))"
   ],
   "metadata": {
    "collapsed": false,
    "pycharm": {
     "name": "#%%\n"
    }
   }
  },
  {
   "cell_type": "code",
   "execution_count": 28,
   "outputs": [
    {
     "data": {
      "text/plain": "KNeighborsClassifier()"
     },
     "execution_count": 28,
     "metadata": {},
     "output_type": "execute_result"
    }
   ],
   "source": [
    "## kNN\n",
    "from sklearn import neighbors\n",
    "k=5\n",
    "knn_model = neighbors.KNeighborsClassifier(n_neighbors=k)\n",
    "knn_model.fit(X=trnx, y=trny)"
   ],
   "metadata": {
    "collapsed": false,
    "pycharm": {
     "name": "#%%\n"
    }
   }
  },
  {
   "cell_type": "code",
   "execution_count": 29,
   "outputs": [],
   "source": [
    "knn_pred_trn = knn_model.predict(X=trnx)\n",
    "knn_pred_tst = knn_model.predict(X=tstx)"
   ],
   "metadata": {
    "collapsed": false,
    "pycharm": {
     "name": "#%%\n"
    }
   }
  },
  {
   "cell_type": "code",
   "execution_count": 30,
   "outputs": [
    {
     "name": "stdout",
     "output_type": "stream",
     "text": [
      "['I' 'F' 'F' ... 'M' 'M' 'F']\n",
      "['M' 'I' 'F' ... 'M' 'M' 'F']\n"
     ]
    }
   ],
   "source": [
    "print(knn_pred_trn)\n",
    "print(knn_pred_tst)"
   ],
   "metadata": {
    "collapsed": false,
    "pycharm": {
     "name": "#%%\n"
    }
   }
  },
  {
   "cell_type": "code",
   "execution_count": 31,
   "outputs": [
    {
     "name": "stdout",
     "output_type": "stream",
     "text": [
      "0.6835443037974683\n",
      "0.5379090183559457\n"
     ]
    }
   ],
   "source": [
    "from sklearn import metrics\n",
    "print(metrics.accuracy_score(trny, knn_pred_trn))\n",
    "print(metrics.accuracy_score(tsty, knn_pred_tst))"
   ],
   "metadata": {
    "collapsed": false,
    "pycharm": {
     "name": "#%%\n"
    }
   }
  },
  {
   "cell_type": "code",
   "execution_count": 33,
   "outputs": [
    {
     "data": {
      "text/plain": "DecisionTreeClassifier(max_depth=4, min_samples_split=3)"
     },
     "execution_count": 33,
     "metadata": {},
     "output_type": "execute_result"
    }
   ],
   "source": [
    "## Decision Tree\n",
    "from sklearn import tree\n",
    "tree_model = tree.DecisionTreeClassifier(max_depth=4, min_samples_split=3)\n",
    "tree_model.fit(X=trnx, y=trny)"
   ],
   "metadata": {
    "collapsed": false,
    "pycharm": {
     "name": "#%%\n"
    }
   }
  },
  {
   "cell_type": "code",
   "execution_count": 34,
   "outputs": [],
   "source": [
    "tree_pred = tree_model.predict(X=tstx)"
   ],
   "metadata": {
    "collapsed": false,
    "pycharm": {
     "name": "#%%\n"
    }
   }
  },
  {
   "cell_type": "code",
   "execution_count": 35,
   "outputs": [
    {
     "data": {
      "text/plain": "array([0.03180343, 0.03241949, 0.0256352 , 0.0495374 , 0.0120961 ,\n       0.62911045, 0.03128795, 0.18810997])"
     },
     "execution_count": 35,
     "metadata": {},
     "output_type": "execute_result"
    }
   ],
   "source": [
    "tree_model.feature_importances_"
   ],
   "metadata": {
    "collapsed": false,
    "pycharm": {
     "name": "#%%\n"
    }
   }
  },
  {
   "cell_type": "code",
   "execution_count": 36,
   "outputs": [],
   "source": [
    "from sklearn.tree import export_graphviz\n",
    "export_graphviz(tree_model, out_file='tree.dot')"
   ],
   "metadata": {
    "collapsed": false,
    "pycharm": {
     "name": "#%%\n"
    }
   }
  },
  {
   "cell_type": "code",
   "execution_count": 37,
   "outputs": [
    {
     "data": {
      "text/plain": "[Text(167.4, 195.696, 'X[5] <= 0.151\\ngini = 0.665\\nsamples = 2923\\nvalue = [912, 936, 1075]'),\n Text(83.7, 152.208, 'X[7] <= 8.5\\ngini = 0.548\\nsamples = 1268\\nvalue = [206, 776, 286]'),\n Text(41.85, 108.72, 'X[6] <= 0.128\\ngini = 0.388\\nsamples = 809\\nvalue = [63, 616, 130]'),\n Text(20.925, 65.232, 'X[2] <= 0.113\\ngini = 0.294\\nsamples = 576\\nvalue = [29, 478, 69]'),\n Text(10.4625, 21.744, 'gini = 0.261\\nsamples = 518\\nvalue = [19, 441, 58]'),\n Text(31.387500000000003, 21.744, 'gini = 0.527\\nsamples = 58\\nvalue = [10, 37, 11]'),\n Text(62.775000000000006, 65.232, 'X[0] <= 0.438\\ngini = 0.559\\nsamples = 233\\nvalue = [34, 138, 61]'),\n Text(52.3125, 21.744, 'gini = 0.643\\nsamples = 14\\nvalue = [6, 3, 5]'),\n Text(73.2375, 21.744, 'gini = 0.538\\nsamples = 219\\nvalue = [28, 135, 56]'),\n Text(125.55000000000001, 108.72, 'X[7] <= 9.5\\ngini = 0.666\\nsamples = 459\\nvalue = [143, 160, 156]'),\n Text(104.625, 65.232, 'X[0] <= 0.453\\ngini = 0.62\\nsamples = 171\\nvalue = [35, 86, 50]'),\n Text(94.16250000000001, 21.744, 'gini = 0.662\\nsamples = 63\\nvalue = [18, 21, 24]'),\n Text(115.0875, 21.744, 'gini = 0.555\\nsamples = 108\\nvalue = [17, 65, 26]'),\n Text(146.475, 65.232, 'X[2] <= 0.098\\ngini = 0.658\\nsamples = 288\\nvalue = [108, 74, 106]'),\n Text(136.01250000000002, 21.744, 'gini = 0.339\\nsamples = 25\\nvalue = [2, 3, 20]'),\n Text(156.9375, 21.744, 'gini = 0.658\\nsamples = 263\\nvalue = [106, 71, 86]'),\n Text(251.10000000000002, 152.208, 'X[3] <= 0.99\\ngini = 0.581\\nsamples = 1655\\nvalue = [706, 160, 789]'),\n Text(209.25, 108.72, 'X[3] <= 0.823\\ngini = 0.635\\nsamples = 603\\nvalue = [204, 124, 275]'),\n Text(188.32500000000002, 65.232, 'X[0] <= 0.538\\ngini = 0.659\\nsamples = 259\\nvalue = [86, 70, 103]'),\n Text(177.8625, 21.744, 'gini = 0.62\\nsamples = 159\\nvalue = [57, 27, 75]'),\n Text(198.7875, 21.744, 'gini = 0.653\\nsamples = 100\\nvalue = [29, 43, 28]'),\n Text(230.175, 65.232, 'X[1] <= 0.412\\ngini = 0.608\\nsamples = 344\\nvalue = [118, 54, 172]'),\n Text(219.7125, 21.744, 'gini = 0.375\\nsamples = 31\\nvalue = [4, 3, 24]'),\n Text(240.63750000000002, 21.744, 'gini = 0.617\\nsamples = 313\\nvalue = [114, 51, 148]'),\n Text(292.95, 108.72, 'X[4] <= 0.873\\ngini = 0.532\\nsamples = 1052\\nvalue = [502, 36, 514]'),\n Text(272.02500000000003, 65.232, 'X[1] <= 0.543\\ngini = 0.535\\nsamples = 978\\nvalue = [479, 36, 463]'),\n Text(261.5625, 21.744, 'gini = 0.539\\nsamples = 865\\nvalue = [402, 36, 427]'),\n Text(282.4875, 21.744, 'gini = 0.434\\nsamples = 113\\nvalue = [77, 0, 36]'),\n Text(313.875, 65.232, 'X[1] <= 0.623\\ngini = 0.428\\nsamples = 74\\nvalue = [23, 0, 51]'),\n Text(303.4125, 21.744, 'gini = 0.399\\nsamples = 69\\nvalue = [19, 0, 50]'),\n Text(324.33750000000003, 21.744, 'gini = 0.32\\nsamples = 5\\nvalue = [4, 0, 1]')]"
     },
     "execution_count": 37,
     "metadata": {},
     "output_type": "execute_result"
    },
    {
     "data": {
      "text/plain": "<Figure size 432x288 with 1 Axes>",
      "image/png": "[encoded data removed]"
     },
     "metadata": {
      "needs_background": "light"
     },
     "output_type": "display_data"
    }
   ],
   "source": [
    "tree.plot_tree(tree_model)"
   ],
   "metadata": {
    "collapsed": false,
    "pycharm": {
     "name": "#%%\n"
    }
   }
  },
  {
   "cell_type": "code",
   "execution_count": 38,
   "outputs": [
    {
     "data": {
      "text/plain": "array([[ 74,  43, 278],\n       [ 40, 307,  59],\n       [ 54,  74, 324]], dtype=int64)"
     },
     "execution_count": 38,
     "metadata": {},
     "output_type": "execute_result"
    }
   ],
   "source": [
    "from sklearn.metrics import confusion_matrix\n",
    "confusion_matrix(tsty, tree_model.predict(tstx))"
   ],
   "metadata": {
    "collapsed": false,
    "pycharm": {
     "name": "#%%\n"
    }
   }
  },
  {
   "cell_type": "code",
   "execution_count": 39,
   "outputs": [
    {
     "data": {
      "text/plain": "DecisionTreeClassifier()"
     },
     "execution_count": 39,
     "metadata": {},
     "output_type": "execute_result"
    }
   ],
   "source": [
    "from sklearn.tree import DecisionTreeClassifier\n",
    "tree_model = DecisionTreeClassifier()\n",
    "tree_model.fit(X=trnx, y=trny)"
   ],
   "metadata": {
    "collapsed": false,
    "pycharm": {
     "name": "#%%\n"
    }
   }
  },
  {
   "cell_type": "code",
   "execution_count": 40,
   "outputs": [
    {
     "data": {
      "text/plain": "RandomForestClassifier(max_depth=15, random_state=0)"
     },
     "execution_count": 40,
     "metadata": {},
     "output_type": "execute_result"
    }
   ],
   "source": [
    "## Ensemble\n",
    "from sklearn.ensemble import RandomForestClassifier\n",
    "rf_model = RandomForestClassifier(max_depth=15, n_estimators=100, random_state=0)\n",
    "rf_model.fit(X=trnx, y=trny)"
   ],
   "metadata": {
    "collapsed": false,
    "pycharm": {
     "name": "#%%\n"
    }
   }
  },
  {
   "cell_type": "code",
   "execution_count": 41,
   "outputs": [],
   "source": [
    "rf_pred = rf_model.predict(X=tstx)"
   ],
   "metadata": {
    "collapsed": false,
    "pycharm": {
     "name": "#%%\n"
    }
   }
  },
  {
   "cell_type": "code",
   "execution_count": 42,
   "outputs": [
    {
     "name": "stdout",
     "output_type": "stream",
     "text": [
      "0.5554668794892259\n"
     ]
    }
   ],
   "source": [
    "from sklearn import metrics\n",
    "print(metrics.accuracy_score(tsty, rf_pred))"
   ],
   "metadata": {
    "collapsed": false,
    "pycharm": {
     "name": "#%%\n"
    }
   }
  },
  {
   "cell_type": "code",
   "execution_count": 43,
   "outputs": [
    {
     "data": {
      "text/plain": "GradientBoostingClassifier(n_estimators=30, random_state=0)"
     },
     "execution_count": 43,
     "metadata": {},
     "output_type": "execute_result"
    }
   ],
   "source": [
    "from sklearn.ensemble import GradientBoostingClassifier\n",
    "gbm_model = GradientBoostingClassifier(max_depth=3, n_estimators = 30, random_state = 0)\n",
    "gbm_model.fit(X=trnx, y=trny)"
   ],
   "metadata": {
    "collapsed": false,
    "pycharm": {
     "name": "#%%\n"
    }
   }
  },
  {
   "cell_type": "code",
   "execution_count": 44,
   "outputs": [],
   "source": [
    "gbm_pred = gbm_model.predict(X=tstx)"
   ],
   "metadata": {
    "collapsed": false,
    "pycharm": {
     "name": "#%%\n"
    }
   }
  },
  {
   "cell_type": "code",
   "execution_count": 45,
   "outputs": [
    {
     "name": "stdout",
     "output_type": "stream",
     "text": [
      "0.5722266560255387\n"
     ]
    }
   ],
   "source": [
    "from sklearn import metrics\n",
    "print(metrics.accuracy_score(tsty, gbm_pred))"
   ],
   "metadata": {
    "collapsed": false,
    "pycharm": {
     "name": "#%%\n"
    }
   }
  },
  {
   "cell_type": "code",
   "execution_count": 46,
   "outputs": [
    {
     "name": "stdout",
     "output_type": "stream",
     "text": [
      "[0.56264964 0.57222666]\n"
     ]
    }
   ],
   "source": [
    "## Performance Evaluation\n",
    "from sklearn.metrics import accuracy_score\n",
    "acc = np.array([accuracy_score(tsty, tree_pred),accuracy_score(tsty, gbm_pred)])\n",
    "print(acc)"
   ],
   "metadata": {
    "collapsed": false,
    "pycharm": {
     "name": "#%%\n"
    }
   }
  },
  {
   "cell_type": "code",
   "execution_count": 47,
   "outputs": [
    {
     "data": {
      "text/plain": "array([[ 74,  43, 278],\n       [ 40, 307,  59],\n       [ 54,  74, 324]], dtype=int64)"
     },
     "execution_count": 47,
     "metadata": {},
     "output_type": "execute_result"
    }
   ],
   "source": [
    "from sklearn.metrics import confusion_matrix\n",
    "confusion_matrix(tsty, tree_pred)"
   ],
   "metadata": {
    "collapsed": false,
    "pycharm": {
     "name": "#%%\n"
    }
   }
  },
  {
   "cell_type": "code",
   "execution_count": 48,
   "outputs": [
    {
     "data": {
      "text/plain": "array([[140,  44, 211],\n       [ 22, 322,  62],\n       [112,  85, 255]], dtype=int64)"
     },
     "execution_count": 48,
     "metadata": {},
     "output_type": "execute_result"
    }
   ],
   "source": [
    "confusion_matrix(tsty, gbm_pred)"
   ],
   "metadata": {
    "collapsed": false,
    "pycharm": {
     "name": "#%%\n"
    }
   }
  },
  {
   "cell_type": "code",
   "execution_count": null,
   "outputs": [],
   "source": [],
   "metadata": {
    "collapsed": false,
    "pycharm": {
     "name": "#%%\n"
    }
   }
  }
 ],
 "metadata": {
  "kernelspec": {
   "display_name": "Python 3",
   "language": "python",
   "name": "python3"
  },
  "language_info": {
   "codemirror_mode": {
    "name": "ipython",
    "version": 2
   },
   "file_extension": ".py",
   "mimetype": "text/x-python",
   "name": "python",
   "nbconvert_exporter": "python",
   "pygments_lexer": "ipython2",
   "version": "2.7.6"
  }
 },
 "nbformat": 4,
 "nbformat_minor": 0
}